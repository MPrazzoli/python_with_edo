{
 "cells": [
  {
   "cell_type": "markdown",
   "metadata": {},
   "source": [
    "## Import libraries"
   ]
  },
  {
   "cell_type": "code",
   "execution_count": 9,
   "metadata": {},
   "outputs": [],
   "source": [
    "import numpy as np\n",
    "import pandas as pd\n",
    "import matplotlib.pyplot as plt\n",
    "%matplotlib inline\n",
    "\n",
    "from pandas_datareader import data as pdr\n",
    "import yfinance as yf\n",
    "from yahoo_fin import stock_info as si\n",
    "from pandas import ExcelWriter\n",
    "import requests\n",
    "import datetime\n",
    "#from datetime import datetime\n",
    "import time"
   ]
  },
  {
   "cell_type": "code",
   "execution_count": 6,
   "metadata": {},
   "outputs": [
    {
     "name": "stdout",
     "output_type": "stream",
     "text": [
      "Collecting requests_html\n",
      "  Using cached requests_html-0.10.0-py3-none-any.whl (13 kB)\n",
      "Requirement already satisfied: requests in c:\\users\\mirko\\anaconda3\\lib\\site-packages (from requests_html) (2.24.0)\n",
      "Collecting w3lib\n",
      "  Using cached w3lib-1.22.0-py2.py3-none-any.whl (20 kB)\n",
      "Collecting pyquery\n",
      "  Using cached pyquery-1.4.3-py3-none-any.whl (22 kB)\n",
      "Collecting fake-useragent\n",
      "  Using cached fake-useragent-0.1.11.tar.gz (13 kB)\n",
      "Collecting pyppeteer>=0.0.14\n",
      "  Downloading pyppeteer-0.2.5-py3-none-any.whl (87 kB)\n",
      "Collecting bs4\n",
      "  Using cached bs4-0.0.1.tar.gz (1.1 kB)\n",
      "Collecting parse\n",
      "  Downloading parse-1.19.0.tar.gz (30 kB)\n",
      "Requirement already satisfied: certifi>=2017.4.17 in c:\\users\\mirko\\anaconda3\\lib\\site-packages (from requests->requests_html) (2020.6.20)\n",
      "Requirement already satisfied: urllib3!=1.25.0,!=1.25.1,<1.26,>=1.21.1 in c:\\users\\mirko\\anaconda3\\lib\\site-packages (from requests->requests_html) (1.25.9)\n",
      "Requirement already satisfied: chardet<4,>=3.0.2 in c:\\users\\mirko\\anaconda3\\lib\\site-packages (from requests->requests_html) (3.0.4)\n",
      "Requirement already satisfied: idna<3,>=2.5 in c:\\users\\mirko\\anaconda3\\lib\\site-packages (from requests->requests_html) (2.10)\n",
      "Requirement already satisfied: six>=1.4.1 in c:\\users\\mirko\\anaconda3\\lib\\site-packages (from w3lib->requests_html) (1.15.0)\n",
      "Requirement already satisfied: lxml>=2.1 in c:\\users\\mirko\\anaconda3\\lib\\site-packages (from pyquery->requests_html) (4.5.2)\n",
      "Requirement already satisfied: cssselect>0.7.9 in c:\\users\\mirko\\anaconda3\\lib\\site-packages (from pyquery->requests_html) (1.1.0)\n",
      "Requirement already satisfied: tqdm<5.0.0,>=4.42.1 in c:\\users\\mirko\\anaconda3\\lib\\site-packages (from pyppeteer>=0.0.14->requests_html) (4.47.0)\n",
      "Collecting appdirs<2.0.0,>=1.4.3\n",
      "  Using cached appdirs-1.4.4-py2.py3-none-any.whl (9.6 kB)\n",
      "Collecting pyee<9.0.0,>=8.1.0\n",
      "  Downloading pyee-8.1.0-py2.py3-none-any.whl (12 kB)\n",
      "Collecting websockets<9.0,>=8.1\n",
      "  Downloading websockets-8.1-cp38-cp38-win_amd64.whl (66 kB)\n",
      "Requirement already satisfied: beautifulsoup4 in c:\\users\\mirko\\anaconda3\\lib\\site-packages (from bs4->requests_html) (4.9.1)\n",
      "Requirement already satisfied: soupsieve>1.2 in c:\\users\\mirko\\anaconda3\\lib\\site-packages (from beautifulsoup4->bs4->requests_html) (2.0.1)\n",
      "Building wheels for collected packages: fake-useragent, bs4, parse\n",
      "  Building wheel for fake-useragent (setup.py): started\n",
      "  Building wheel for fake-useragent (setup.py): finished with status 'done'\n",
      "  Created wheel for fake-useragent: filename=fake_useragent-0.1.11-py3-none-any.whl size=13489 sha256=fa16cbc8c3f8de47bbfc0036b60b77e34b4fd2b89500c5fc1cf5c062328e0c3e\n",
      "  Stored in directory: c:\\users\\mirko\\appdata\\local\\pip\\cache\\wheels\\a0\\b8\\b7\\8c942b2c5be5158b874a88195116b05ad124bac795f6665e65\n",
      "  Building wheel for bs4 (setup.py): started\n",
      "  Building wheel for bs4 (setup.py): finished with status 'done'\n",
      "  Created wheel for bs4: filename=bs4-0.0.1-py3-none-any.whl size=1279 sha256=f46f20a5d0c3b86f52c8b3f4c5f060f0d6fad6f50408fc83f520817127544a39\n",
      "  Stored in directory: c:\\users\\mirko\\appdata\\local\\pip\\cache\\wheels\\75\\78\\21\\68b124549c9bdc94f822c02fb9aa3578a669843f9767776bca\n",
      "  Building wheel for parse (setup.py): started\n",
      "  Building wheel for parse (setup.py): finished with status 'done'\n",
      "  Created wheel for parse: filename=parse-1.19.0-py3-none-any.whl size=24585 sha256=449b0bffa145b9893ac3f6186876bf7cbef526d418059840223cc1222a2c1649\n",
      "  Stored in directory: c:\\users\\mirko\\appdata\\local\\pip\\cache\\wheels\\e5\\33\\1f\\68392720485b3ecf125a69e700baaab7624616deedea2fa6e2\n",
      "Successfully built fake-useragent bs4 parse\n",
      "Installing collected packages: w3lib, pyquery, fake-useragent, appdirs, pyee, websockets, pyppeteer, bs4, parse, requests-html\n",
      "Successfully installed appdirs-1.4.4 bs4-0.0.1 fake-useragent-0.1.11 parse-1.19.0 pyee-8.1.0 pyppeteer-0.2.5 pyquery-1.4.3 requests-html-0.10.0 w3lib-1.22.0 websockets-8.1\n",
      "Note: you may need to restart the kernel to use updated packages.\n"
     ]
    }
   ],
   "source": [
    "pip install requests_html"
   ]
  },
  {
   "cell_type": "markdown",
   "metadata": {},
   "source": [
    "## Read "
   ]
  },
  {
   "cell_type": "code",
   "execution_count": null,
   "metadata": {},
   "outputs": [],
   "source": [
    "stock_df = pd.read_csv('list.csv', index_col='date')\n",
    "stock_df.head()"
   ]
  },
  {
   "cell_type": "code",
   "execution_count": null,
   "metadata": {},
   "outputs": [],
   "source": [
    "stock_df.describe()"
   ]
  },
  {
   "cell_type": "code",
   "execution_count": null,
   "metadata": {},
   "outputs": [],
   "source": [
    "stock_df.index = pd.to_datetime(stock_df.index)"
   ]
  },
  {
   "cell_type": "code",
   "execution_count": null,
   "metadata": {},
   "outputs": [],
   "source": [
    "stock_df.info()"
   ]
  },
  {
   "cell_type": "code",
   "execution_count": null,
   "metadata": {},
   "outputs": [],
   "source": [
    "stock_df[['A', 'AA', 'AACG', 'AAIC', 'AAL', 'AAMC', 'AAME', 'AAOI', 'AAON', 'AAP']].plot(figsize=(16,8))"
   ]
  },
  {
   "cell_type": "code",
   "execution_count": null,
   "metadata": {},
   "outputs": [],
   "source": [
    "#A = df[['A']]\n",
    "A = pd.DataFrame(stock_df.loc[:,'A'])\n",
    "A['Percent Change'] = stock_df['A'].pct_change()\n",
    "A['Percent Change'].plot(figsize=(12,6))"
   ]
  },
  {
   "cell_type": "code",
   "execution_count": null,
   "metadata": {},
   "outputs": [],
   "source": [
    "stock_return = A['Percent Change'].sum() * 100\n",
    "stock_return"
   ]
  },
  {
   "cell_type": "code",
   "execution_count": null,
   "metadata": {},
   "outputs": [],
   "source": [
    "index_name = '^GSPC' # S&P 500"
   ]
  },
  {
   "cell_type": "code",
   "execution_count": null,
   "metadata": {},
   "outputs": [],
   "source": [
    "start_date = datetime.datetime.now() - datetime.timedelta(days=365)\n",
    "end_date = datetime.date.today()"
   ]
  },
  {
   "cell_type": "code",
   "execution_count": null,
   "metadata": {},
   "outputs": [],
   "source": [
    "index_df = pdr.get_data_yahoo(index_name, start=start_date, end=end_date)\n",
    "index_df['Percent Change'] = index_df['Adj Close'].pct_change()\n",
    "index_return = index_df['Percent Change'].sum() * 100\n",
    "\n",
    "index_df['Percent Change'].plot(label='S&P500', figsize=(18,6), alpha=0.7)\n",
    "A['Percent Change'].plot(label='A', alpha=0.7)\n",
    "plt.legend()"
   ]
  },
  {
   "cell_type": "code",
   "execution_count": null,
   "metadata": {},
   "outputs": [],
   "source": [
    "final = []\n",
    "index = []\n",
    "n = -1"
   ]
  },
  {
   "cell_type": "code",
   "execution_count": null,
   "metadata": {},
   "outputs": [],
   "source": [
    "exportList = pd.DataFrame(columns=['Stock', \"RS_Rating\", \"50 Day MA\", \"150 Day Ma\", \"200 Day MA\", \"52 Week Low\", \"52 week High\"])"
   ]
  },
  {
   "cell_type": "code",
   "execution_count": null,
   "metadata": {},
   "outputs": [],
   "source": [
    "#stocklist = stock_df.iloc[:,0:30].columns.to_list()\n",
    "stocklist = stock_df.columns.to_list()\n",
    "len(stocklist)"
   ]
  },
  {
   "cell_type": "code",
   "execution_count": null,
   "metadata": {},
   "outputs": [],
   "source": [
    "start_time = datetime.datetime.now().strftime(\"%H:%M:%S\")\n",
    "\n",
    "for stock in stocklist:\n",
    "    \n",
    "    n += 1\n",
    "    #time.sleep(1)\n",
    "    \n",
    "    print (\"\\npulling {} with index {}\".format(stock, n))\n",
    "    \n",
    "    df = pd.DataFrame(stock_df[stock])\n",
    "    df.columns = ['Adj Close']\n",
    "    \n",
    "    df['Percent Change'] = df['Adj Close'].pct_change()    \n",
    "    stock_return = df['Percent Change'].sum() * 100\n",
    "   \n",
    "    RS_Rating = round((stock_return / index_return) * 10, 2)\n",
    "#    print(stock, stock_return, index_return, RS_Rating)\n",
    "    \n",
    "    try:\n",
    "        sma = [50, 150, 200]\n",
    "        for x in sma:\n",
    "            df[\"SMA_\"+str(x)] = round(df.iloc[:,0].rolling(window=x).mean(), 2)\n",
    "#        print(df)\n",
    "\n",
    "        currentClose = df[\"Adj Close\"][-1]\n",
    "#        print('Current close: ', currentClose)\n",
    "        moving_average_50 = df[\"SMA_50\"][-1]\n",
    "#        print('50d MA: ', moving_average_50)\n",
    "        moving_average_150 = df[\"SMA_150\"][-1]\n",
    "#        print('150d MA: ', moving_average_150)\n",
    "        moving_average_200 = df[\"SMA_200\"][-1]\n",
    "#        print('200d MA: ', moving_average_200)\n",
    "        low_of_52week = min(df[\"Adj Close\"][-260:])\n",
    "#        print('Low last 52w: ', low_of_52week)\n",
    "        high_of_52week = max(df[\"Adj Close\"][-260:])\n",
    "#        print('High last 52w: ', high_of_52week)\n",
    "        \n",
    "        try:\n",
    "            moving_average_200_20 = df[\"SMA_200\"][-20]\n",
    "#            print(moving_average_200_20)\n",
    "\n",
    "        except Exception:\n",
    "            moving_average_200_20 = 0\n",
    "#\n",
    "        # Condition 1: Current Price > 150 SMA and > 200 SMA\n",
    "        if(currentClose > moving_average_150 > moving_average_200):\n",
    "            #print(\"Condition 1 met\")\n",
    "            condition_1 = True\n",
    "        else:\n",
    "            #print(\"Condition 1 not met\")\n",
    "            condition_1 = False\n",
    "        # Condition 2: 150 SMA and > 200 SMA\n",
    "        if(moving_average_150 > moving_average_200):\n",
    "            #print(\"Condition 2 met\")\n",
    "            condition_2 = True\n",
    "        else:\n",
    "            #print(\"Condition 2 not met\")\n",
    "            condition_2 = False\n",
    "        # Condition 3: 200 SMA trending up for at least 1 month (ideally 4-5 months)\n",
    "        if(moving_average_200 > moving_average_200_20):\n",
    "            #print(\"Condition 3 met\")\n",
    "            condition_3 = True\n",
    "        else:\n",
    "            #print(\"Condition 3 not met\")\n",
    "            condition_3 = False\n",
    "        # Condition 4: 50 SMA> 150 SMA and 50 SMA> 200 SMA\n",
    "        if(moving_average_50 > moving_average_150 > moving_average_200):\n",
    "            #print(\"Condition 4 met\")\n",
    "            condition_4 = True\n",
    "        else:\n",
    "            #print(\"Condition 4 not met\")\n",
    "            condition_4 = False\n",
    "        # Condition 5: Current Price > 50 SMA\n",
    "        if(currentClose > moving_average_50):\n",
    "            #print(\"Condition 5 met\")\n",
    "            condition_5 = True\n",
    "        else:\n",
    "            #print(\"Condition 5 not met\")\n",
    "            condition_5 = False\n",
    "        # Condition 6: Current Price is at least 30% above 52 week low (Many of the best are up 100-300% before coming out of consolidation)\n",
    "        if(currentClose >= (1.3*low_of_52week)):\n",
    "            #print(\"Condition 6 met\")\n",
    "            condition_6 = True\n",
    "        else:\n",
    "            #print(\"Condition 6 not met\")\n",
    "            condition_6 = False\n",
    "        # Condition 7: Current Price is within 25% of 52 week high\n",
    "        if(currentClose >= (.75*high_of_52week)):\n",
    "            #print(\"Condition 7 met\")\n",
    "            condition_7 = True\n",
    "        else:\n",
    "            #print(\"Condition 7 not met\")\n",
    "            condition_7 = False\n",
    "            \n",
    "        # Condition 8: IBD RS_Rating greater than 70\n",
    "        if(RS_Rating >= 70):\n",
    "            #print(\"Condition 8 met\")\n",
    "            condition_8 = True\n",
    "        else:\n",
    "            #print(\"Condition 8 not met\")\n",
    "            condition_8 = False\n",
    "\n",
    "        if(condition_1 and condition_2 and condition_3 and condition_4 and condition_5 and condition_6 and condition_7 and condition_8):\n",
    "            final.append(stock)\n",
    "            index.append(n)\n",
    "            \n",
    "            dataframe = pd.DataFrame(list(zip(final, index)), columns =['Company', 'Index'])\n",
    "            \n",
    "            dataframe.to_csv('stocks.csv')\n",
    "            \n",
    "            exportList = exportList.append({'Stock': stock, \"RS_Rating\": RS_Rating ,\"50 Day MA\": moving_average_50, \"150 Day Ma\": moving_average_150, \"200 Day MA\": moving_average_200, \"52 Week Low\": low_of_52week, \"52 week High\": high_of_52week}, ignore_index=True)\n",
    "            #print (stock + \" made the requirements\")\n",
    "        #else:\n",
    "            #print(stock + \" NOT made the requirements\")\n",
    "    except Exception as e:\n",
    "        print (e)\n",
    "        print(\"No data on \"+stock)\n",
    "\n",
    "print(exportList)\n",
    "\n",
    "writer = ExcelWriter(\"ScreenOutput.xlsx\")\n",
    "exportList.to_excel(writer, \"Sheet1\")\n",
    "writer.save()\n",
    "\n",
    "end_time = datetime.datetime.now().strftime(\"%H:%M:%S\")\n",
    "print('inizio: ', start_time, ' fine: ', end_time)"
   ]
  },
  {
   "cell_type": "code",
   "execution_count": null,
   "metadata": {},
   "outputs": [],
   "source": [
    "pd.DataFrame(df.iloc[:,0])"
   ]
  },
  {
   "cell_type": "code",
   "execution_count": null,
   "metadata": {},
   "outputs": [],
   "source": [
    "stock_df[list(exportList['Stock'])]."
   ]
  },
  {
   "cell_type": "code",
   "execution_count": null,
   "metadata": {},
   "outputs": [],
   "source": [
    "type(list(exportList['Stock']))"
   ]
  },
  {
   "cell_type": "code",
   "execution_count": null,
   "metadata": {},
   "outputs": [],
   "source": [
    "exportList.loc[81]\n",
    "#exportList.drop(exportList['FIT'], axis=0)\n",
    "#tmp_exportList"
   ]
  },
  {
   "cell_type": "code",
   "execution_count": null,
   "metadata": {},
   "outputs": [],
   "source": [
    "list(exportList['Stock'])"
   ]
  },
  {
   "cell_type": "code",
   "execution_count": null,
   "metadata": {},
   "outputs": [],
   "source": [
    "screen_df = stock_df[tmp_exportList]"
   ]
  },
  {
   "cell_type": "code",
   "execution_count": null,
   "metadata": {},
   "outputs": [],
   "source": [
    "stock_df[0:80].plot(figsize=(16,8))\n",
    "#screen_df.plot(figsize=(16,8))\n",
    "#plt"
   ]
  },
  {
   "cell_type": "code",
   "execution_count": null,
   "metadata": {},
   "outputs": [],
   "source": [
    "list(exportList['Stock'])"
   ]
  },
  {
   "cell_type": "code",
   "execution_count": null,
   "metadata": {},
   "outputs": [],
   "source": [
    "dataframe"
   ]
  },
  {
   "cell_type": "code",
   "execution_count": null,
   "metadata": {},
   "outputs": [],
   "source": []
  }
 ],
 "metadata": {
  "kernelspec": {
   "display_name": "Python 3",
   "language": "python",
   "name": "python3"
  },
  "language_info": {
   "codemirror_mode": {
    "name": "ipython",
    "version": 3
   },
   "file_extension": ".py",
   "mimetype": "text/x-python",
   "name": "python",
   "nbconvert_exporter": "python",
   "pygments_lexer": "ipython3",
   "version": "3.8.3"
  }
 },
 "nbformat": 4,
 "nbformat_minor": 5
}
