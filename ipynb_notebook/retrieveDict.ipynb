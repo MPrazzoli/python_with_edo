{
 "cells": [
  {
   "cell_type": "code",
   "execution_count": null,
   "metadata": {},
   "outputs": [],
   "source": [
    "import sys"
   ]
  },
  {
   "cell_type": "code",
   "execution_count": null,
   "metadata": {},
   "outputs": [],
   "source": [
    "path = 'C:\\\\Users\\\\Mirko\\\\Desktop\\\\financial_markets_academy'\n",
    "sys.path.append(path)"
   ]
  },
  {
   "cell_type": "code",
   "execution_count": null,
   "metadata": {},
   "outputs": [],
   "source": [
    "# Imported packages\n",
    "import os\n",
    "import pandas as pd\n",
    "import time\n",
    "from datetime import datetime\n",
    "from QuantLib import *\n",
    "import warnings\n",
    "import time\n",
    "\n",
    "# Project's imports\n",
    "from api_moduls.stock_dataframe_class import StockClass, StockListClass, ImportantDatesClass"
   ]
  },
  {
   "cell_type": "code",
   "execution_count": null,
   "metadata": {},
   "outputs": [],
   "source": [
    "def read_available_ticker_from_pickle():\n",
    "    # Set of the project path to find also data path where the tickers list is stored in your computer\n",
    "    project_root = path\n",
    "    data_path = project_root + '/pickle_obj/stock_dataframes'\n",
    "    # Retrieving process and computation of tickers that are into our DB\n",
    "    available_ticker_list = os.listdir(data_path)\n",
    "\n",
    "    for i, file in enumerate(available_ticker_list):\n",
    "        available_ticker_list[i] = file.rsplit('.', 1)[0]\n",
    "\n",
    "    return available_ticker_list"
   ]
  },
  {
   "cell_type": "code",
   "execution_count": null,
   "metadata": {},
   "outputs": [],
   "source": []
  },
  {
   "cell_type": "code",
   "execution_count": null,
   "metadata": {},
   "outputs": [],
   "source": [
    "def read_not_found_from_pickle(max_not_found_record):\n",
    "    # Set of the project path to find also data path where the tickers list is stored in your computer\n",
    "    project_root = path\n",
    "    data_path = project_root + '/pickle_obj/not_found_records'\n",
    "    ticker_list_object = StockListClass(ticker_list=os.listdir(data_path))\n",
    "\n",
    "    # Retrieving process and computation of tickers that are already into our DB but we want excluded\n",
    "    # cause they do not give a data response since the limit we fix in variable max_not_found_record\n",
    "    not_found_over_limit_list = []\n",
    "\n",
    "    for file in ticker_list_object.ticker_list:\n",
    "        df = pd.read_pickle(project_root + '/pickle_obj/not_found_records/' + file)\n",
    "        if len(df.index) > max_not_found_record:\n",
    "            not_found_over_limit_list.append(file.rsplit('.', 1)[0])\n",
    "\n",
    "    return not_found_over_limit_list\n"
   ]
  },
  {
   "cell_type": "code",
   "execution_count": null,
   "metadata": {},
   "outputs": [],
   "source": [
    " # Set of the project path to find also data path where the tickers list is stored in your computer\n",
    "project_root = path\n",
    "data_path = project_root + '/pickle_obj/not_found_records'\n",
    "ticker_list_object = StockListClass(ticker_list=os.listdir(data_path))\n",
    "\n",
    "# Retrieving process and computation of tickers that are already into our DB but we want excluded\n",
    "# cause they do not give a data response since the limit we fix in variable max_not_found_record\n",
    "not_found_over_limit_list = []\n",
    "\n",
    "file = ticker_list_object.ticker_list[1]\n",
    "df = pd.read_pickle(project_root + '/pickle_obj/not_found_records/' + file)\n",
    "   "
   ]
  },
  {
   "cell_type": "code",
   "execution_count": null,
   "metadata": {},
   "outputs": [],
   "source": [
    " if len(df.index) > max_not_found_record:\n",
    "        not_found_over_limit_list.append(file.rsplit('.', 1)[0])\n"
   ]
  },
  {
   "cell_type": "code",
   "execution_count": null,
   "metadata": {},
   "outputs": [],
   "source": [
    "type(df)"
   ]
  },
  {
   "cell_type": "code",
   "execution_count": null,
   "metadata": {},
   "outputs": [],
   "source": [
    "df = pd.read_hdf('AIMT.pkl', engine='python'))\n",
    "df"
   ]
  },
  {
   "cell_type": "code",
   "execution_count": 1,
   "metadata": {},
   "outputs": [],
   "source": [
    "import pickle\n",
    "import pandas as pd"
   ]
  },
  {
   "cell_type": "code",
   "execution_count": null,
   "metadata": {},
   "outputs": [],
   "source": [
    "with open('AIMT.pkl', 'rb') as f:\n",
    "    dest_object_name = pickle.load(f)"
   ]
  },
  {
   "cell_type": "code",
   "execution_count": null,
   "metadata": {},
   "outputs": [],
   "source": [
    "type(dest_object_name)"
   ]
  },
  {
   "cell_type": "code",
   "execution_count": null,
   "metadata": {},
   "outputs": [],
   "source": [
    "dest_object_name.index"
   ]
  },
  {
   "cell_type": "code",
   "execution_count": null,
   "metadata": {},
   "outputs": [],
   "source": [
    "filename = 'AIMT.pkl'\n",
    "infile = open(filename,'rb')\n",
    "new_dict = pickle.load(infile)\n",
    "infile.close()"
   ]
  },
  {
   "cell_type": "code",
   "execution_count": null,
   "metadata": {},
   "outputs": [],
   "source": [
    "new_dict"
   ]
  },
  {
   "cell_type": "code",
   "execution_count": null,
   "metadata": {},
   "outputs": [],
   "source": []
  },
  {
   "cell_type": "code",
   "execution_count": 1,
   "metadata": {},
   "outputs": [],
   "source": [
    "import pickle"
   ]
  },
  {
   "cell_type": "code",
   "execution_count": 2,
   "metadata": {},
   "outputs": [],
   "source": [
    "with open('aapl.pkl', 'rb') as f:\n",
    "    dest_object_name = pickle.load(f)"
   ]
  },
  {
   "cell_type": "code",
   "execution_count": null,
   "metadata": {},
   "outputs": [],
   "source": [
    "dest_object_name"
   ]
  },
  {
   "cell_type": "code",
   "execution_count": null,
   "metadata": {},
   "outputs": [],
   "source": []
  },
  {
   "cell_type": "code",
   "execution_count": null,
   "metadata": {},
   "outputs": [],
   "source": []
  }
 ],
 "metadata": {
  "kernelspec": {
   "display_name": "Python 3",
   "language": "python",
   "name": "python3"
  },
  "language_info": {
   "codemirror_mode": {
    "name": "ipython",
    "version": 3
   },
   "file_extension": ".py",
   "mimetype": "text/x-python",
   "name": "python",
   "nbconvert_exporter": "python",
   "pygments_lexer": "ipython3",
   "version": "3.8.3"
  }
 },
 "nbformat": 4,
 "nbformat_minor": 4
}
