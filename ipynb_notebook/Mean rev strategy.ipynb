{
  "nbformat": 4,
  "nbformat_minor": 0,
  "metadata": {
    "kernelspec": {
      "display_name": "Python 3",
      "language": "python",
      "name": "python3"
    },
    "language_info": {
      "codemirror_mode": {
        "name": "ipython",
        "version": 3
      },
      "file_extension": ".py",
      "mimetype": "text/x-python",
      "name": "python",
      "nbconvert_exporter": "python",
      "pygments_lexer": "ipython3",
      "version": "3.8.3"
    },
    "varInspector": {
      "cols": {
        "lenName": 16,
        "lenType": 16,
        "lenVar": 40
      },
      "kernels_config": {
        "python": {
          "delete_cmd_postfix": "",
          "delete_cmd_prefix": "del ",
          "library": "var_list.py",
          "varRefreshCmd": "print(var_dic_list())"
        },
        "r": {
          "delete_cmd_postfix": ") ",
          "delete_cmd_prefix": "rm(",
          "library": "var_list.r",
          "varRefreshCmd": "cat(var_dic_list()) "
        }
      },
      "types_to_exclude": [
        "module",
        "function",
        "builtin_function_or_method",
        "instance",
        "_Feature"
      ],
      "window_display": false
    },
    "colab": {
      "name": "Mean rev strategy.ipynb",
      "provenance": []
    }
  },
  "cells": [
    {
      "cell_type": "code",
      "metadata": {
        "id": "H5PvWmTGTdtS"
      },
      "source": [
        "# import file from nasdaq screener\n",
        "import re\n",
        "import pandas as pd\n",
        "import datetime as dt\n",
        "import numpy as np\n",
        "\n",
        "df = pd.read_csv('nasdaq_screener.csv')\n",
        "\n",
        "# get shares having volume lower than 25th percentile\n",
        "vol_des = df.describe()['Volume']\n",
        "vol_filter = float(vol_des[vol_des.index == '25%'])\n",
        "\n",
        "df_filtered = df[df['Volume'] < vol_filter]\n",
        "df_filtered = df_filtered[df_filtered['Market Cap'] !=  0]\n",
        "# take only common stocks\n",
        "df_filtered = df_filtered[df_filtered['Name'].str.contains(pat = 'Common Stock')]\n",
        "stocks = df_filtered['Symbol']"
      ],
      "execution_count": null,
      "outputs": []
    },
    {
      "cell_type": "code",
      "metadata": {
        "id": "DZGe9B7cTdtb",
        "outputId": "7a1c653d-e588-4a5d-cb05-445f13c9ae85"
      },
      "source": [
        "df_filtered.groupby(['Sector']).count()['Symbol']"
      ],
      "execution_count": null,
      "outputs": [
        {
          "output_type": "execute_result",
          "data": {
            "text/plain": [
              "Sector\n",
              "Capital Goods            13\n",
              "Consumer Durables         6\n",
              "Consumer Non-Durables     5\n",
              "Consumer Services        14\n",
              "Energy                    7\n",
              "Finance                  97\n",
              "Health Care               7\n",
              "Public Utilities          1\n",
              "Technology                7\n",
              "Transportation            2\n",
              "Name: Symbol, dtype: int64"
            ]
          },
          "metadata": {
            "tags": []
          },
          "execution_count": 2
        }
      ]
    },
    {
      "cell_type": "code",
      "metadata": {
        "id": "8u_JSRJITdtc"
      },
      "source": [
        "# get stock price and data\n",
        "from pandas_datareader import data\n",
        "start_date = dt.datetime.today().date() - dt.timedelta(days = 365)\n",
        "end_date = dt.datetime.today().date() - dt.timedelta(days = 1)\n",
        "\n",
        "panel_data = data.DataReader(stocks, 'yahoo', start_date, end_date)\n",
        "#panel_data = data.DataReader(strong_pairs.index.get_level_values(0), 'yahoo', start_date, end_date)\n",
        "strong_pairs.index.get_level_values(0)\n",
        "\n",
        "panel_data.to_csv('market.csv')\n",
        "#panel_data.to_csv('market2.csv')\n"
      ],
      "execution_count": null,
      "outputs": []
    },
    {
      "cell_type": "code",
      "metadata": {
        "id": "nYIfkyqFTdtc"
      },
      "source": [
        "panel_data = pd.read_csv('market.csv',header = [0,1], index_col=0)"
      ],
      "execution_count": null,
      "outputs": []
    },
    {
      "cell_type": "code",
      "metadata": {
        "id": "8WzG1Ri8Tdtc"
      },
      "source": [
        "panel_data"
      ],
      "execution_count": null,
      "outputs": []
    },
    {
      "cell_type": "code",
      "metadata": {
        "id": "e3VxMjI1Tdtc",
        "outputId": "f18395c3-c1e6-4294-807b-67bad7a5adbd"
      },
      "source": [
        "# clean dataframe\n",
        "c_data = panel_data.loc[:,panel_data.columns.get_level_values(0).isin(['Close','Open','Volume'])]\n",
        "c_data.dropna(axis = 'columns',inplace = True)"
      ],
      "execution_count": null,
      "outputs": [
        {
          "output_type": "stream",
          "text": [
            "C:\\Users\\nikbo\\anaconda3\\lib\\site-packages\\ipykernel_launcher.py:3: SettingWithCopyWarning: \n",
            "A value is trying to be set on a copy of a slice from a DataFrame\n",
            "\n",
            "See the caveats in the documentation: https://pandas.pydata.org/pandas-docs/stable/user_guide/indexing.html#returning-a-view-versus-a-copy\n",
            "  This is separate from the ipykernel package so we can avoid doing imports until\n"
          ],
          "name": "stderr"
        }
      ]
    },
    {
      "cell_type": "code",
      "metadata": {
        "id": "pqk-H9EuTdtd",
        "outputId": "22fa839c-d9b4-4ee3-d1e8-966c3d5c879f"
      },
      "source": [
        "# correlation matrix\n",
        "corr = c_data['Close'].corr()\n",
        "corr"
      ],
      "execution_count": null,
      "outputs": [
        {
          "output_type": "execute_result",
          "data": {
            "text/html": [
              "<div>\n",
              "<style scoped>\n",
              "    .dataframe tbody tr th:only-of-type {\n",
              "        vertical-align: middle;\n",
              "    }\n",
              "\n",
              "    .dataframe tbody tr th {\n",
              "        vertical-align: top;\n",
              "    }\n",
              "\n",
              "    .dataframe thead th {\n",
              "        text-align: right;\n",
              "    }\n",
              "</style>\n",
              "<table border=\"1\" class=\"dataframe\">\n",
              "  <thead>\n",
              "    <tr style=\"text-align: right;\">\n",
              "      <th>Symbols</th>\n",
              "      <th>ACNB</th>\n",
              "      <th>ACU</th>\n",
              "      <th>AE</th>\n",
              "      <th>AIRT</th>\n",
              "      <th>AMRB</th>\n",
              "      <th>ARL</th>\n",
              "      <th>BANX</th>\n",
              "      <th>BBQ</th>\n",
              "      <th>BCOW</th>\n",
              "      <th>BDL</th>\n",
              "      <th>...</th>\n",
              "      <th>VALU</th>\n",
              "      <th>VBFC</th>\n",
              "      <th>VCF</th>\n",
              "      <th>VERY</th>\n",
              "      <th>VFL</th>\n",
              "      <th>VMM</th>\n",
              "      <th>WHLM</th>\n",
              "      <th>WLFC</th>\n",
              "      <th>WSTG</th>\n",
              "      <th>WVFC</th>\n",
              "    </tr>\n",
              "    <tr>\n",
              "      <th>Symbols</th>\n",
              "      <th></th>\n",
              "      <th></th>\n",
              "      <th></th>\n",
              "      <th></th>\n",
              "      <th></th>\n",
              "      <th></th>\n",
              "      <th></th>\n",
              "      <th></th>\n",
              "      <th></th>\n",
              "      <th></th>\n",
              "      <th></th>\n",
              "      <th></th>\n",
              "      <th></th>\n",
              "      <th></th>\n",
              "      <th></th>\n",
              "      <th></th>\n",
              "      <th></th>\n",
              "      <th></th>\n",
              "      <th></th>\n",
              "      <th></th>\n",
              "      <th></th>\n",
              "    </tr>\n",
              "  </thead>\n",
              "  <tbody>\n",
              "    <tr>\n",
              "      <th>ACNB</th>\n",
              "      <td>1.000000</td>\n",
              "      <td>0.232538</td>\n",
              "      <td>0.672303</td>\n",
              "      <td>0.486864</td>\n",
              "      <td>0.564924</td>\n",
              "      <td>0.512657</td>\n",
              "      <td>0.282653</td>\n",
              "      <td>0.191606</td>\n",
              "      <td>0.462568</td>\n",
              "      <td>0.348444</td>\n",
              "      <td>...</td>\n",
              "      <td>0.625131</td>\n",
              "      <td>0.486332</td>\n",
              "      <td>0.508610</td>\n",
              "      <td>0.449531</td>\n",
              "      <td>0.385325</td>\n",
              "      <td>0.255750</td>\n",
              "      <td>0.386977</td>\n",
              "      <td>0.798889</td>\n",
              "      <td>-0.482606</td>\n",
              "      <td>0.658255</td>\n",
              "    </tr>\n",
              "    <tr>\n",
              "      <th>ACU</th>\n",
              "      <td>0.232538</td>\n",
              "      <td>1.000000</td>\n",
              "      <td>0.222232</td>\n",
              "      <td>0.529391</td>\n",
              "      <td>0.709555</td>\n",
              "      <td>0.366632</td>\n",
              "      <td>0.686054</td>\n",
              "      <td>0.833524</td>\n",
              "      <td>0.546517</td>\n",
              "      <td>0.743991</td>\n",
              "      <td>...</td>\n",
              "      <td>0.361885</td>\n",
              "      <td>0.613906</td>\n",
              "      <td>0.438289</td>\n",
              "      <td>0.012395</td>\n",
              "      <td>0.612117</td>\n",
              "      <td>0.545823</td>\n",
              "      <td>0.426226</td>\n",
              "      <td>0.449047</td>\n",
              "      <td>0.071542</td>\n",
              "      <td>0.627637</td>\n",
              "    </tr>\n",
              "    <tr>\n",
              "      <th>AE</th>\n",
              "      <td>0.672303</td>\n",
              "      <td>0.222232</td>\n",
              "      <td>1.000000</td>\n",
              "      <td>0.325803</td>\n",
              "      <td>0.511022</td>\n",
              "      <td>0.364498</td>\n",
              "      <td>0.297707</td>\n",
              "      <td>0.188529</td>\n",
              "      <td>0.381627</td>\n",
              "      <td>0.382417</td>\n",
              "      <td>...</td>\n",
              "      <td>0.378601</td>\n",
              "      <td>0.443060</td>\n",
              "      <td>0.429825</td>\n",
              "      <td>0.611316</td>\n",
              "      <td>0.284939</td>\n",
              "      <td>0.156956</td>\n",
              "      <td>0.570697</td>\n",
              "      <td>0.565174</td>\n",
              "      <td>-0.120918</td>\n",
              "      <td>0.421132</td>\n",
              "    </tr>\n",
              "    <tr>\n",
              "      <th>AIRT</th>\n",
              "      <td>0.486864</td>\n",
              "      <td>0.529391</td>\n",
              "      <td>0.325803</td>\n",
              "      <td>1.000000</td>\n",
              "      <td>0.749543</td>\n",
              "      <td>0.318471</td>\n",
              "      <td>0.370866</td>\n",
              "      <td>0.575945</td>\n",
              "      <td>0.450324</td>\n",
              "      <td>0.725555</td>\n",
              "      <td>...</td>\n",
              "      <td>0.467587</td>\n",
              "      <td>0.629851</td>\n",
              "      <td>0.524579</td>\n",
              "      <td>0.049117</td>\n",
              "      <td>0.571343</td>\n",
              "      <td>0.411355</td>\n",
              "      <td>0.653334</td>\n",
              "      <td>0.516934</td>\n",
              "      <td>-0.218062</td>\n",
              "      <td>0.542233</td>\n",
              "    </tr>\n",
              "    <tr>\n",
              "      <th>AMRB</th>\n",
              "      <td>0.564924</td>\n",
              "      <td>0.709555</td>\n",
              "      <td>0.511022</td>\n",
              "      <td>0.749543</td>\n",
              "      <td>1.000000</td>\n",
              "      <td>0.658587</td>\n",
              "      <td>0.731640</td>\n",
              "      <td>0.800364</td>\n",
              "      <td>0.740346</td>\n",
              "      <td>0.885254</td>\n",
              "      <td>...</td>\n",
              "      <td>0.458038</td>\n",
              "      <td>0.875563</td>\n",
              "      <td>0.790850</td>\n",
              "      <td>0.340968</td>\n",
              "      <td>0.806343</td>\n",
              "      <td>0.713254</td>\n",
              "      <td>0.613659</td>\n",
              "      <td>0.786229</td>\n",
              "      <td>-0.044223</td>\n",
              "      <td>0.774741</td>\n",
              "    </tr>\n",
              "    <tr>\n",
              "      <th>...</th>\n",
              "      <td>...</td>\n",
              "      <td>...</td>\n",
              "      <td>...</td>\n",
              "      <td>...</td>\n",
              "      <td>...</td>\n",
              "      <td>...</td>\n",
              "      <td>...</td>\n",
              "      <td>...</td>\n",
              "      <td>...</td>\n",
              "      <td>...</td>\n",
              "      <td>...</td>\n",
              "      <td>...</td>\n",
              "      <td>...</td>\n",
              "      <td>...</td>\n",
              "      <td>...</td>\n",
              "      <td>...</td>\n",
              "      <td>...</td>\n",
              "      <td>...</td>\n",
              "      <td>...</td>\n",
              "      <td>...</td>\n",
              "      <td>...</td>\n",
              "    </tr>\n",
              "    <tr>\n",
              "      <th>VMM</th>\n",
              "      <td>0.255750</td>\n",
              "      <td>0.545823</td>\n",
              "      <td>0.156956</td>\n",
              "      <td>0.411355</td>\n",
              "      <td>0.713254</td>\n",
              "      <td>0.700823</td>\n",
              "      <td>0.867393</td>\n",
              "      <td>0.734469</td>\n",
              "      <td>0.696141</td>\n",
              "      <td>0.738105</td>\n",
              "      <td>...</td>\n",
              "      <td>0.140334</td>\n",
              "      <td>0.750739</td>\n",
              "      <td>0.857489</td>\n",
              "      <td>0.236161</td>\n",
              "      <td>0.899854</td>\n",
              "      <td>1.000000</td>\n",
              "      <td>0.240104</td>\n",
              "      <td>0.679355</td>\n",
              "      <td>0.302235</td>\n",
              "      <td>0.581699</td>\n",
              "    </tr>\n",
              "    <tr>\n",
              "      <th>WHLM</th>\n",
              "      <td>0.386977</td>\n",
              "      <td>0.426226</td>\n",
              "      <td>0.570697</td>\n",
              "      <td>0.653334</td>\n",
              "      <td>0.613659</td>\n",
              "      <td>0.193323</td>\n",
              "      <td>0.247769</td>\n",
              "      <td>0.400955</td>\n",
              "      <td>0.341959</td>\n",
              "      <td>0.625756</td>\n",
              "      <td>...</td>\n",
              "      <td>0.295917</td>\n",
              "      <td>0.484713</td>\n",
              "      <td>0.414795</td>\n",
              "      <td>0.239526</td>\n",
              "      <td>0.415484</td>\n",
              "      <td>0.240104</td>\n",
              "      <td>1.000000</td>\n",
              "      <td>0.351552</td>\n",
              "      <td>-0.061440</td>\n",
              "      <td>0.354230</td>\n",
              "    </tr>\n",
              "    <tr>\n",
              "      <th>WLFC</th>\n",
              "      <td>0.798889</td>\n",
              "      <td>0.449047</td>\n",
              "      <td>0.565174</td>\n",
              "      <td>0.516934</td>\n",
              "      <td>0.786229</td>\n",
              "      <td>0.781534</td>\n",
              "      <td>0.644343</td>\n",
              "      <td>0.508556</td>\n",
              "      <td>0.724330</td>\n",
              "      <td>0.596575</td>\n",
              "      <td>...</td>\n",
              "      <td>0.473072</td>\n",
              "      <td>0.772998</td>\n",
              "      <td>0.829931</td>\n",
              "      <td>0.502253</td>\n",
              "      <td>0.732697</td>\n",
              "      <td>0.679355</td>\n",
              "      <td>0.351552</td>\n",
              "      <td>1.000000</td>\n",
              "      <td>-0.198275</td>\n",
              "      <td>0.842934</td>\n",
              "    </tr>\n",
              "    <tr>\n",
              "      <th>WSTG</th>\n",
              "      <td>-0.482606</td>\n",
              "      <td>0.071542</td>\n",
              "      <td>-0.120918</td>\n",
              "      <td>-0.218062</td>\n",
              "      <td>-0.044223</td>\n",
              "      <td>0.092340</td>\n",
              "      <td>0.302580</td>\n",
              "      <td>0.251227</td>\n",
              "      <td>0.174599</td>\n",
              "      <td>0.155934</td>\n",
              "      <td>...</td>\n",
              "      <td>-0.554244</td>\n",
              "      <td>0.096699</td>\n",
              "      <td>0.041198</td>\n",
              "      <td>-0.092068</td>\n",
              "      <td>0.215096</td>\n",
              "      <td>0.302235</td>\n",
              "      <td>-0.061440</td>\n",
              "      <td>-0.198275</td>\n",
              "      <td>1.000000</td>\n",
              "      <td>-0.316320</td>\n",
              "    </tr>\n",
              "    <tr>\n",
              "      <th>WVFC</th>\n",
              "      <td>0.658255</td>\n",
              "      <td>0.627637</td>\n",
              "      <td>0.421132</td>\n",
              "      <td>0.542233</td>\n",
              "      <td>0.774741</td>\n",
              "      <td>0.586216</td>\n",
              "      <td>0.600538</td>\n",
              "      <td>0.620459</td>\n",
              "      <td>0.649916</td>\n",
              "      <td>0.630083</td>\n",
              "      <td>...</td>\n",
              "      <td>0.501692</td>\n",
              "      <td>0.683552</td>\n",
              "      <td>0.708314</td>\n",
              "      <td>0.402822</td>\n",
              "      <td>0.617109</td>\n",
              "      <td>0.581699</td>\n",
              "      <td>0.354230</td>\n",
              "      <td>0.842934</td>\n",
              "      <td>-0.316320</td>\n",
              "      <td>1.000000</td>\n",
              "    </tr>\n",
              "  </tbody>\n",
              "</table>\n",
              "<p>178 rows × 178 columns</p>\n",
              "</div>"
            ],
            "text/plain": [
              "Symbols      ACNB       ACU        AE      AIRT      AMRB       ARL      BANX  \\\n",
              "Symbols                                                                         \n",
              "ACNB     1.000000  0.232538  0.672303  0.486864  0.564924  0.512657  0.282653   \n",
              "ACU      0.232538  1.000000  0.222232  0.529391  0.709555  0.366632  0.686054   \n",
              "AE       0.672303  0.222232  1.000000  0.325803  0.511022  0.364498  0.297707   \n",
              "AIRT     0.486864  0.529391  0.325803  1.000000  0.749543  0.318471  0.370866   \n",
              "AMRB     0.564924  0.709555  0.511022  0.749543  1.000000  0.658587  0.731640   \n",
              "...           ...       ...       ...       ...       ...       ...       ...   \n",
              "VMM      0.255750  0.545823  0.156956  0.411355  0.713254  0.700823  0.867393   \n",
              "WHLM     0.386977  0.426226  0.570697  0.653334  0.613659  0.193323  0.247769   \n",
              "WLFC     0.798889  0.449047  0.565174  0.516934  0.786229  0.781534  0.644343   \n",
              "WSTG    -0.482606  0.071542 -0.120918 -0.218062 -0.044223  0.092340  0.302580   \n",
              "WVFC     0.658255  0.627637  0.421132  0.542233  0.774741  0.586216  0.600538   \n",
              "\n",
              "Symbols       BBQ      BCOW       BDL  ...      VALU      VBFC       VCF  \\\n",
              "Symbols                                ...                                 \n",
              "ACNB     0.191606  0.462568  0.348444  ...  0.625131  0.486332  0.508610   \n",
              "ACU      0.833524  0.546517  0.743991  ...  0.361885  0.613906  0.438289   \n",
              "AE       0.188529  0.381627  0.382417  ...  0.378601  0.443060  0.429825   \n",
              "AIRT     0.575945  0.450324  0.725555  ...  0.467587  0.629851  0.524579   \n",
              "AMRB     0.800364  0.740346  0.885254  ...  0.458038  0.875563  0.790850   \n",
              "...           ...       ...       ...  ...       ...       ...       ...   \n",
              "VMM      0.734469  0.696141  0.738105  ...  0.140334  0.750739  0.857489   \n",
              "WHLM     0.400955  0.341959  0.625756  ...  0.295917  0.484713  0.414795   \n",
              "WLFC     0.508556  0.724330  0.596575  ...  0.473072  0.772998  0.829931   \n",
              "WSTG     0.251227  0.174599  0.155934  ... -0.554244  0.096699  0.041198   \n",
              "WVFC     0.620459  0.649916  0.630083  ...  0.501692  0.683552  0.708314   \n",
              "\n",
              "Symbols      VERY       VFL       VMM      WHLM      WLFC      WSTG      WVFC  \n",
              "Symbols                                                                        \n",
              "ACNB     0.449531  0.385325  0.255750  0.386977  0.798889 -0.482606  0.658255  \n",
              "ACU      0.012395  0.612117  0.545823  0.426226  0.449047  0.071542  0.627637  \n",
              "AE       0.611316  0.284939  0.156956  0.570697  0.565174 -0.120918  0.421132  \n",
              "AIRT     0.049117  0.571343  0.411355  0.653334  0.516934 -0.218062  0.542233  \n",
              "AMRB     0.340968  0.806343  0.713254  0.613659  0.786229 -0.044223  0.774741  \n",
              "...           ...       ...       ...       ...       ...       ...       ...  \n",
              "VMM      0.236161  0.899854  1.000000  0.240104  0.679355  0.302235  0.581699  \n",
              "WHLM     0.239526  0.415484  0.240104  1.000000  0.351552 -0.061440  0.354230  \n",
              "WLFC     0.502253  0.732697  0.679355  0.351552  1.000000 -0.198275  0.842934  \n",
              "WSTG    -0.092068  0.215096  0.302235 -0.061440 -0.198275  1.000000 -0.316320  \n",
              "WVFC     0.402822  0.617109  0.581699  0.354230  0.842934 -0.316320  1.000000  \n",
              "\n",
              "[178 rows x 178 columns]"
            ]
          },
          "metadata": {
            "tags": []
          },
          "execution_count": 130
        }
      ]
    },
    {
      "cell_type": "code",
      "metadata": {
        "id": "8Y7aeepOTdtd",
        "outputId": "7b733609-df91-448e-c3a6-9c9cd481ff98"
      },
      "source": [
        "corr_pairs = corr.unstack()\n",
        "strong_pairs = corr_pairs[(abs(corr_pairs) > 0.9) & (corr_pairs != 1)]\n",
        "strong_pairs"
      ],
      "execution_count": null,
      "outputs": [
        {
          "output_type": "execute_result",
          "data": {
            "text/plain": [
              "Symbols  Symbols\n",
              "ACU      CFBK       0.916657\n",
              "         FSBW       0.905757\n",
              "         KF         0.920354\n",
              "         RNDB       0.928730\n",
              "AMRB     BOTJ       0.920029\n",
              "                      ...   \n",
              "VMM      BSD        0.900392\n",
              "WLFC     OFS        0.928778\n",
              "         OPOF       0.903156\n",
              "         TCFC       0.909988\n",
              "WVFC     MLVF       0.908492\n",
              "Length: 426, dtype: float64"
            ]
          },
          "metadata": {
            "tags": []
          },
          "execution_count": 131
        }
      ]
    },
    {
      "cell_type": "code",
      "metadata": {
        "id": "O21jY5BqTdtd"
      },
      "source": [
        "# extract single pairs\n",
        "a = []\n",
        "s = []\n",
        "for i,k in strong_pairs.index:\n",
        "    if ([i,k] in a) == False:\n",
        "        s.append([i,k])\n",
        "    a.append([i,k])\n",
        "    a.append([k,i])\n"
      ],
      "execution_count": null,
      "outputs": []
    },
    {
      "cell_type": "code",
      "metadata": {
        "id": "aGpQQimaTdtd"
      },
      "source": [
        "# split train and test\n",
        "c_data_train = c_data[:'2020-09-01']\n",
        "c_data_test = c_data['2020-09-01':]\n",
        "\n"
      ],
      "execution_count": null,
      "outputs": []
    },
    {
      "cell_type": "code",
      "metadata": {
        "scrolled": true,
        "id": "VXxMr06YTdtd",
        "outputId": "e78b11a7-ae22-40c7-c94d-c6e0ca913b28"
      },
      "source": [
        "# run cointegratioin test on the pairs\n",
        "import statsmodels.formula.api as sm\n",
        "import statsmodels.tsa.stattools as ts\n",
        "import statsmodels.tsa.vector_ar.vecm as vm\n",
        "\n",
        "res = {}\n",
        "for i,k in s:\n",
        "    result=vm.coint_johansen(c_data_train[[( 'Close', i),( 'Close', k)]].values, det_order=0, k_ar_diff=1)\n",
        "    if (result.trace_stat[0] > result.trace_stat_crit_vals[0][1]) & (True in (result.trace_stat[1] > result.trace_stat_crit_vals[1])):\n",
        "        if (result.max_eig_stat[0] > result.max_eig_stat_crit_vals[0][1]):\n",
        "            \n",
        "            yport=pd.DataFrame(np.dot(c_data_test[[( 'Close', i),( 'Close', k)]].values, result.evec[:, 0])) #  (net) market value of portfolio\n",
        "\n",
        "            # compute hal life\n",
        "            ylag=yport.shift()\n",
        "            deltaY=yport-ylag\n",
        "            df2=pd.concat([ylag, deltaY], axis=1)\n",
        "            df2.columns=['ylag', 'deltaY']\n",
        "            regress_results=sm.ols(formula=\"deltaY ~ ylag\", data=df2).fit()\n",
        "\n",
        "            halflife=-np.log(2)/regress_results.params['ylag']\n",
        "            \n",
        "            if 0< halflife < 30:\n",
        "            \n",
        "                lookback=np.round(halflife).astype(int) #  setting lookback to the halflife found above\n",
        "                numUnits =-(yport-yport.rolling(lookback).mean())/yport.rolling(lookback).std() \n",
        "                \n",
        "                positions=pd.DataFrame(np.dot(numUnits.values, np.expand_dims(result.evec[:, 0], axis=1).T)*c_data_test[[( 'Close', i),( 'Close', k)]].values)\n",
        "                pnl=np.sum((positions.shift().values)*(c_data_test[[( 'Close', i),( 'Close', k)]].pct_change().values), axis=1) # daily P&L of the strategy\n",
        "                ret=pnl/np.sum(np.abs(positions.shift()), axis=1)\n",
        "                cumret = pd.DataFrame((np.cumprod(1+ret)-1))\n",
        "\n",
        "                res[i+'/'+k] = {'position': positions, 'yport':yport, 'halflike': halflife, 'pnl': pnl, 'ret': ret,'cumret': cumret}\n",
        "\n"
      ],
      "execution_count": null,
      "outputs": [
        {
          "output_type": "stream",
          "text": [
            "C:\\Users\\nikbo\\anaconda3\\lib\\site-packages\\ipykernel_launcher.py:28: RuntimeWarning: invalid value encountered in multiply\n",
            "C:\\Users\\nikbo\\anaconda3\\lib\\site-packages\\numpy\\core\\fromnumeric.py:90: RuntimeWarning: invalid value encountered in reduce\n",
            "  return ufunc.reduce(obj, axis, dtype, out, **passkwargs)\n"
          ],
          "name": "stderr"
        }
      ]
    },
    {
      "cell_type": "code",
      "metadata": {
        "id": "D3tEXJU3Tdte"
      },
      "source": [
        "best = []\n",
        "for i in res:\n",
        "    if res[i]['cumret'].values[-1] > 0.4:\n",
        "        best.append([i,res[i]['cumret'].values[-1][0],np.nansum(res[i]['pnl'])])"
      ],
      "execution_count": null,
      "outputs": []
    },
    {
      "cell_type": "code",
      "metadata": {
        "id": "ZNftc2XfTdte",
        "outputId": "a1146ad3-b8b9-458a-94c5-317764aee8f0",
        "colab": {
          "base_uri": "https://localhost:8080/",
          "height": 163
        }
      },
      "source": [
        "best"
      ],
      "execution_count": 2,
      "outputs": [
        {
          "output_type": "error",
          "ename": "NameError",
          "evalue": "ignored",
          "traceback": [
            "\u001b[0;31m---------------------------------------------------------------------------\u001b[0m",
            "\u001b[0;31mNameError\u001b[0m                                 Traceback (most recent call last)",
            "\u001b[0;32m<ipython-input-2-377027ff61a3>\u001b[0m in \u001b[0;36m<module>\u001b[0;34m()\u001b[0m\n\u001b[0;32m----> 1\u001b[0;31m \u001b[0mbest\u001b[0m\u001b[0;34m\u001b[0m\u001b[0;34m\u001b[0m\u001b[0m\n\u001b[0m",
            "\u001b[0;31mNameError\u001b[0m: name 'best' is not defined"
          ]
        }
      ]
    },
    {
      "cell_type": "code",
      "metadata": {
        "id": "wbjgRUSWTnCp",
        "outputId": "c8899c3f-64fb-4ca5-feed-6337b13e5bda",
        "colab": {
          "base_uri": "https://localhost:8080/"
        }
      },
      "source": [
        "print('Hello Wordl')"
      ],
      "execution_count": 3,
      "outputs": [
        {
          "output_type": "stream",
          "text": [
            "Hello Wordl\n"
          ],
          "name": "stdout"
        }
      ]
    },
    {
      "cell_type": "code",
      "metadata": {
        "id": "xwla5QmATpkj"
      },
      "source": [
        ""
      ],
      "execution_count": null,
      "outputs": []
    }
  ]
}