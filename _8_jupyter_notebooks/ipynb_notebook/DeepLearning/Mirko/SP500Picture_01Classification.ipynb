{
  "nbformat": 4,
  "nbformat_minor": 5,
  "metadata": {
    "kernelspec": {
      "display_name": "Python [conda env:py_37] *",
      "language": "python",
      "name": "conda-env-py_37-py"
    },
    "language_info": {
      "codemirror_mode": {
        "name": "ipython",
        "version": 3
      },
      "file_extension": ".py",
      "mimetype": "text/x-python",
      "name": "python",
      "nbconvert_exporter": "python",
      "pygments_lexer": "ipython3",
      "version": "3.7.10"
    },
    "colab": {
      "name": "SP500Picture_01Classification.ipynb",
      "provenance": []
    }
  },
  "cells": [
    {
      "cell_type": "code",
      "metadata": {
        "id": "hJvvp8WXGNBT",
        "outputId": "dbe9401c-e10c-493c-c901-0ac5ea72a317",
        "colab": {
          "base_uri": "https://localhost:8080/"
        }
      },
      "source": [
        "from google.colab import drive\n",
        "drive.mount('/content/drive')"
      ],
      "id": "hJvvp8WXGNBT",
      "execution_count": 1,
      "outputs": [
        {
          "output_type": "stream",
          "text": [
            "Drive already mounted at /content/drive; to attempt to forcibly remount, call drive.mount(\"/content/drive\", force_remount=True).\n"
          ],
          "name": "stdout"
        }
      ]
    },
    {
      "cell_type": "code",
      "metadata": {
        "id": "substantial-notification"
      },
      "source": [
        "# python_version 3.7.10"
      ],
      "id": "substantial-notification",
      "execution_count": 2,
      "outputs": []
    },
    {
      "cell_type": "markdown",
      "metadata": {
        "id": "pharmaceutical-chair"
      },
      "source": [
        "### &nbsp;&nbsp;&nbsp; %CLASS% StockClass: used to create the stock dictionary"
      ],
      "id": "pharmaceutical-chair"
    },
    {
      "cell_type": "code",
      "metadata": {
        "id": "lasting-knight"
      },
      "source": [
        "class StockClass(object):\n",
        "\n",
        "    # Initialization of the StockClass object with the ticker symbol which is use to construct a yf.Ticker object\n",
        "    def __init__(self, ticker, isin=None, exchangeid=None, sector=None, industry=None, country=None, pe=None, eps=None,\n",
        "                 insiderown=None, shsout=None, shsfloat=None, mktcap=None, income=None, sales=None,\n",
        "                 booksh=None, pb=None, roa=None, tp=None, roe=None, roi=None, employees=None, debteq=None, \n",
        "                 groupby=None, confusion_matrix=None, accuracy_report=None, \n",
        "                 confusion_matrix2=None, accuracy_report2=None):\n",
        "        self.name = ticker\n",
        "        self.isin = isin\n",
        "        self.exchangeid = exchangeid\n",
        "        # self.history is the method of the SotckClass object to store data in DataFrame format\n",
        "        self.history = pd.DataFrame\n",
        "        self.investing = pd.DataFrame\n",
        "        self.pickle = pd.DataFrame\n",
        "        self.not_found = np.array([['date', 'ticker']])\n",
        "        self.nanDiv = False\n",
        "        self.nanSplit = False\n",
        "        self.sector = None\n",
        "        self.industry = industry\n",
        "        self.country = country\n",
        "        self.pe = pe\n",
        "        self.eps = eps\n",
        "        self.insiderown = insiderown\n",
        "        self.shsout = shsout\n",
        "        self.shsfloat = shsfloat\n",
        "        self.mktcap = mktcap\n",
        "        self.income = income\n",
        "        self.sales = sales\n",
        "        self.bookh = booksh\n",
        "        self.pb = pb\n",
        "        self.roa = roa\n",
        "        self.tp = tp\n",
        "        self.roe = roe\n",
        "        self.roi = roi\n",
        "        self.employees = employees\n",
        "        self.debteq = debteq\n",
        "        self.rsi = pd.DataFrame\n",
        "        self.groupby = groupby\n",
        "        self.confusion_matrix = confusion_matrix\n",
        "        self.accuracy_report = accuracy_report\n",
        "        self.confusion_matrix2 = confusion_matrix2\n",
        "        self.accuracy_report2 = accuracy_report2"
      ],
      "id": "lasting-knight",
      "execution_count": 3,
      "outputs": []
    },
    {
      "cell_type": "markdown",
      "metadata": {
        "id": "dried-compilation"
      },
      "source": [
        "# 1. First part: import data, cleaning and arranging "
      ],
      "id": "dried-compilation"
    },
    {
      "cell_type": "markdown",
      "metadata": {
        "id": "waiting-performer"
      },
      "source": [
        "### &nbsp;&nbsp;&nbsp; * Main packages import"
      ],
      "id": "waiting-performer"
    },
    {
      "cell_type": "code",
      "metadata": {
        "tags": [],
        "id": "educated-vertical"
      },
      "source": [
        "import numpy as np\n",
        "import pandas as pd\n",
        "import warnings\n",
        "warnings.filterwarnings('ignore')"
      ],
      "id": "educated-vertical",
      "execution_count": 4,
      "outputs": []
    },
    {
      "cell_type": "markdown",
      "metadata": {
        "id": "identical-seafood"
      },
      "source": [
        "### &nbsp;&nbsp;&nbsp; * Data import"
      ],
      "id": "identical-seafood"
    },
    {
      "cell_type": "code",
      "metadata": {
        "id": "welcome-packaging"
      },
      "source": [
        "open_df_original = pd.read_csv('/content/drive/MyDrive/Data/20210322/open', index_col='date')\n",
        "high_df_original = pd.read_csv('/content/drive/MyDrive/Data/20210322/high', index_col='date')\n",
        "low_df_original = pd.read_csv('/content/drive/MyDrive/Data/20210322/low', index_col='date')\n",
        "adjclose_df_original = pd.read_csv('/content/drive/MyDrive/Data/20210322/adjclose', index_col='date')\n",
        "volume_df_original = pd.read_csv('/content/drive/MyDrive/Data/20210322/volume', index_col='date')\n",
        "ticker_list = list(adjclose_df_original.columns)"
      ],
      "id": "welcome-packaging",
      "execution_count": 5,
      "outputs": []
    },
    {
      "cell_type": "code",
      "metadata": {
        "id": "qV5utEImM_9F",
        "outputId": "cd8c2757-92eb-462a-8cfa-298a6c414d65",
        "colab": {
          "base_uri": "https://localhost:8080/"
        }
      },
      "source": [
        "# to drop columns with the end of the series NaN (probably not quoted anymore)\n",
        "if open_df_original.isnull().values.any():\n",
        "    print('open shape before: ', open_df_original.shape)\n",
        "    open_df_original.dropna(axis=1, how='any', inplace=True)\n",
        "    print('open shape after: ', open_df_original.shape)    \n",
        "if high_df_original.isnull().values.any():\n",
        "    print('high shape before: ', high_df_original.shape)\n",
        "    high_df_original.dropna(axis=1, how='any', inplace=True)\n",
        "    print('high shape after: ', high_df_original.shape)  \n",
        "if low_df_original.isnull().values.any():\n",
        "    print('low shape before: ', low_df_original.shape)\n",
        "    low_df_original.dropna(axis=1, how='any', inplace=True)\n",
        "    print('low shape after: ', low_df_original.shape)    \n",
        "if adjclose_df_original.isnull().values.any():\n",
        "    print('high shape before: ', adjclose_df_original.shape)\n",
        "    adjclose_df_original.dropna(axis=1, how='any', inplace=True)\n",
        "    print('high shape after: ', adjclose_df_original.shape)    \n",
        "if volume_df_original.isnull().values.any():\n",
        "    print('high shape before: ', volume_df_original.shape)\n",
        "    volume_df_original.dropna(axis=1, how='any', inplace=True)\n",
        "    print('high shape after: ', volume_df_original.shape)   "
      ],
      "id": "qV5utEImM_9F",
      "execution_count": 6,
      "outputs": [
        {
          "output_type": "stream",
          "text": [
            "open shape before:  (415, 4541)\n",
            "open shape after:  (415, 4534)\n",
            "high shape before:  (415, 4541)\n",
            "high shape after:  (415, 4534)\n",
            "low shape before:  (415, 4541)\n",
            "low shape after:  (415, 4534)\n",
            "high shape before:  (415, 4541)\n",
            "high shape after:  (415, 4534)\n",
            "high shape before:  (415, 4541)\n",
            "high shape after:  (415, 4534)\n"
          ],
          "name": "stdout"
        }
      ]
    },
    {
      "cell_type": "code",
      "metadata": {
        "id": "ckCPXGjyJhSl"
      },
      "source": [
        "open_df = open_df_original.drop(index=open_df_original.iloc[-1:].index)\n",
        "high_df = high_df_original.drop(index=high_df_original.iloc[-1:].index)\n",
        "low_df = low_df_original.drop(index=low_df_original.iloc[-1:].index)\n",
        "adjclose_df = adjclose_df_original.drop(index=adjclose_df_original.iloc[-1:].index)\n",
        "volume_df = volume_df_original.drop(index=volume_df_original.iloc[-1:].index)"
      ],
      "id": "ckCPXGjyJhSl",
      "execution_count": 7,
      "outputs": []
    },
    {
      "cell_type": "markdown",
      "metadata": {
        "id": "afraid-queensland"
      },
      "source": [
        "# 2. Second part: computation and assessing "
      ],
      "id": "afraid-queensland"
    },
    {
      "cell_type": "markdown",
      "metadata": {
        "id": "honey-mechanism"
      },
      "source": [
        "### &nbsp;&nbsp;&nbsp; * SKLearn preprocessing import to scale data"
      ],
      "id": "honey-mechanism"
    },
    {
      "cell_type": "code",
      "metadata": {
        "id": "diverse-native"
      },
      "source": [
        "from sklearn import preprocessing"
      ],
      "id": "diverse-native",
      "execution_count": 9,
      "outputs": []
    },
    {
      "cell_type": "markdown",
      "metadata": {
        "id": "international-origin"
      },
      "source": [
        "### &nbsp;&nbsp;&nbsp; %FEATURE% Relative variation from open to adjusted close price"
      ],
      "id": "international-origin"
    },
    {
      "cell_type": "code",
      "metadata": {
        "id": "victorian-episode"
      },
      "source": [
        "# relative variation from open to adjusted close price\n",
        "adjclose_rel_var_df = (adjclose_df-open_df)/open_df"
      ],
      "id": "victorian-episode",
      "execution_count": null,
      "outputs": []
    },
    {
      "cell_type": "markdown",
      "metadata": {
        "id": "lyric-quantum"
      },
      "source": [
        "### &nbsp;&nbsp;&nbsp; %FEATURE% Absolute variation between high and low price"
      ],
      "id": "lyric-quantum"
    },
    {
      "cell_type": "code",
      "metadata": {
        "id": "public-hospital"
      },
      "source": [
        "# absolute variation between high and low price\n",
        "high_low_var_df = (high_df-low_df)\n",
        "\n",
        "# to scale the absolute variation between min&max value\n",
        "high_low_var_scaler = preprocessing.MinMaxScaler(feature_range=(0, 1))\n",
        "high_low_var_scaled = high_low_var_scaler.fit_transform(high_low_var_df)\n",
        "high_low_var_scaled_df = pd.DataFrame(data=high_low_var_scaled, index=high_low_var_df.index, columns=high_low_var_df.columns)"
      ],
      "id": "public-hospital",
      "execution_count": null,
      "outputs": []
    },
    {
      "cell_type": "markdown",
      "metadata": {
        "id": "cheap-browser"
      },
      "source": [
        "### &nbsp;&nbsp;&nbsp; %FEATURE% High low absolute variation over adjusted close price"
      ],
      "id": "cheap-browser"
    },
    {
      "cell_type": "code",
      "metadata": {
        "id": "bearing-ranking"
      },
      "source": [
        "# high low absolute variation over adjusted close price\n",
        "high_low_var_df_adjclose = high_low_var_df/adjclose_df"
      ],
      "id": "bearing-ranking",
      "execution_count": null,
      "outputs": []
    },
    {
      "cell_type": "markdown",
      "metadata": {
        "id": "shared-foundation"
      },
      "source": [
        "### &nbsp;&nbsp;&nbsp; %FEATURE% Log Return (adjusted close price log return)"
      ],
      "id": "shared-foundation"
    },
    {
      "cell_type": "code",
      "metadata": {
        "id": "standing-librarian"
      },
      "source": [
        "adjclose_df_log_return = np.log(adjclose_df/adjclose_df.shift(1))"
      ],
      "id": "standing-librarian",
      "execution_count": null,
      "outputs": []
    },
    {
      "cell_type": "markdown",
      "metadata": {
        "id": "surprised-calculator"
      },
      "source": [
        "### &nbsp;&nbsp;&nbsp; * Construction of stack dataset with all features and label to classify"
      ],
      "id": "surprised-calculator"
    },
    {
      "cell_type": "code",
      "metadata": {
        "id": "swedish-technology"
      },
      "source": [
        "adjclose_rel_var_df_t = adjclose_rel_var_df.transpose()\n",
        "adjclose_rel_var_df_stack = adjclose_rel_var_df_t.stack(dropna=False)\n",
        "\n",
        "high_low_var_scaled_df_t = high_low_var_scaled_df.transpose()\n",
        "high_low_var_scaled_df_stack = high_low_var_scaled_df_t.stack(dropna=False)\n",
        "\n",
        "high_low_var_df_adjclose_t = high_low_var_df_adjclose.transpose()\n",
        "high_low_var_df_adjclose_stack = high_low_var_df_adjclose_t.stack(dropna=False)\n",
        "\n",
        "adjclose_df_t = adjclose_df.transpose()\n",
        "adjclose_df_stack = adjclose_df_t.stack(dropna=False)\n",
        "\n",
        "volume_df_t = volume_df.transpose()\n",
        "volume_df_stack = volume_df_t.stack(dropna=False)\n",
        "\n",
        "# classification variable \n",
        "classification_df = (adjclose_df_log_return > 0) * 1\n",
        "classification_df_t = classification_df.transpose()\n",
        "classification_df_t.shift(axis = 1, periods = -1) # sign the day before a rally up with 1 and vice versa with 0 \n",
        "classification_df_stack = classification_df_t.shift(axis = 1, periods = -1).stack(dropna=False)\n",
        "\n",
        "data = {'adjclose_rel_var': adjclose_rel_var_df_stack, \n",
        "        'high_low_var_scaled': high_low_var_scaled_df_stack,\n",
        "        'high_low_var_adjclose': high_low_var_df_adjclose_stack,\n",
        "        'adjclose': adjclose_df_stack,\n",
        "        'volume': volume_df_stack,\n",
        "        'label': classification_df_stack}  \n",
        "\n",
        "df_concat = pd.concat(data, axis=1)\n",
        "df_concat.dropna(axis = 0, how = 'any', inplace=True)\n",
        "df_concat"
      ],
      "id": "swedish-technology",
      "execution_count": null,
      "outputs": []
    },
    {
      "cell_type": "markdown",
      "metadata": {
        "id": "adult-assessment"
      },
      "source": [
        "### &nbsp;&nbsp;&nbsp; * Check the correct number of row in the previous dataframe"
      ],
      "id": "adult-assessment"
    },
    {
      "cell_type": "code",
      "metadata": {
        "id": "fancy-journalism"
      },
      "source": [
        "# check the correct number of row in the previous dataframe\n",
        "len(open_df.columns) * len(open_df.index) - len(open_df.columns)"
      ],
      "id": "fancy-journalism",
      "execution_count": null,
      "outputs": []
    },
    {
      "cell_type": "markdown",
      "metadata": {
        "id": "retired-bacon"
      },
      "source": [
        "### &nbsp;&nbsp;&nbsp; * Construction of stack dataset with other features and label to classify"
      ],
      "id": "retired-bacon"
    },
    {
      "cell_type": "code",
      "metadata": {
        "id": "impressed-documentation"
      },
      "source": [
        "open_df_t = open_df.loc[adjclose_df_log_return.index[0]:adjclose_df_log_return.index[-1]].transpose()\n",
        "open_df_stack = open_df_t.stack()\n",
        "\n",
        "high_df_t = high_df.loc[adjclose_df_log_return.index[0]:adjclose_df_log_return.index[-1]].transpose()\n",
        "high_df_stack = high_df_t.stack()\n",
        "\n",
        "low_df_t = low_df.loc[adjclose_df_log_return.index[0]:adjclose_df_log_return.index[-1]].transpose()\n",
        "low_df_stack = low_df_t.stack()\n",
        "\n",
        "volume_df_t = volume_df.loc[adjclose_df_log_return.index[0]:adjclose_df_log_return.index[-1]].transpose()\n",
        "volume_df_stack = volume_df_t.stack()\n",
        "\n",
        "data = {'open': open_df_stack, \n",
        "        'high': high_df_stack,\n",
        "        'low': low_df_stack,\n",
        "        'adjclose': adjclose_df_stack,\n",
        "        'volume': volume_df_stack,\n",
        "        'label': classification_df_stack} # taken from before computation\n",
        "\n",
        "df_concat2 = pd.concat(data, axis = 1)\n",
        "df_concat2.dropna(axis = 0, how = 'any', inplace = True)\n",
        "df_concat2"
      ],
      "id": "impressed-documentation",
      "execution_count": null,
      "outputs": []
    },
    {
      "cell_type": "markdown",
      "metadata": {
        "tags": [],
        "id": "oriented-relaxation"
      },
      "source": [
        "### &nbsp;&nbsp;&nbsp; * Definition of the StockClass dictionary"
      ],
      "id": "oriented-relaxation"
    },
    {
      "cell_type": "code",
      "metadata": {
        "id": "pressing-interstate"
      },
      "source": [
        "# Definition of a dictionary to store stock as StockClass instances and for each stock get attribute\n",
        "# (take a look at _2_0_stock_dataframe_class.py for more information)\n",
        "stock_object_dictionary = {'{0}'.format(ticker): StockClass(ticker=ticker_list) for ticker in ticker_list}"
      ],
      "id": "pressing-interstate",
      "execution_count": null,
      "outputs": []
    },
    {
      "cell_type": "markdown",
      "metadata": {
        "id": "yellow-shadow"
      },
      "source": [
        "##### Remember: .std() is sample deviation, whereas the standardization thru StandardScaler use the standard deviation (the difference is the denominator, in the sample std it is used N-1). Moreover, to compute the standard deviation, you can do it in this way: .std(ddof=0)"
      ],
      "id": "yellow-shadow"
    },
    {
      "cell_type": "markdown",
      "metadata": {
        "id": "short-bowling"
      },
      "source": [
        "# 3. Third part: Deep Learning"
      ],
      "id": "short-bowling"
    },
    {
      "cell_type": "code",
      "metadata": {
        "id": "virgin-insured"
      },
      "source": [
        "import tensorflow as tf \n",
        "from sklearn.preprocessing import StandardScaler\n",
        "from sklearn.model_selection import train_test_split"
      ],
      "id": "virgin-insured",
      "execution_count": null,
      "outputs": []
    },
    {
      "cell_type": "code",
      "metadata": {
        "id": "lightweight-soldier"
      },
      "source": [
        "print(tf.__version__)"
      ],
      "id": "lightweight-soldier",
      "execution_count": null,
      "outputs": []
    },
    {
      "cell_type": "markdown",
      "metadata": {
        "id": "differential-thanksgiving"
      },
      "source": [
        "### &nbsp;&nbsp;&nbsp; %FUNCTION% Function for calling back DL training"
      ],
      "id": "differential-thanksgiving"
    },
    {
      "cell_type": "code",
      "metadata": {
        "id": "concerned-greece"
      },
      "source": [
        "accuracy_limit=.7\n",
        "class myCallback(tf.keras.callbacks.Callback):\n",
        "    def on_epoch_end(self, epoch, logs={}):\n",
        "        if (logs.get('accuracy')>accuracy_limit):\n",
        "            print('--- accuracy higher than ', accuracy_limit)\n",
        "            self.model.stop_training=True"
      ],
      "id": "concerned-greece",
      "execution_count": null,
      "outputs": []
    },
    {
      "cell_type": "code",
      "metadata": {
        "id": "quality-prescription"
      },
      "source": [
        "ticker = 'AAPL'\n",
        "\n",
        "# features dataframe, without classification column\n",
        "features_df = df_concat.loc[ticker]\n",
        "features_df.drop('label', axis=1, inplace=True)\n",
        "\n",
        "# classification array\n",
        "classification_array = df_concat.loc[ticker]['label'].values\n",
        "\n",
        "# sacaling data\n",
        "df_sc_scaled = StandardScaler().fit_transform(features_df)\n",
        "\n",
        "shuffle_value = False # no shuffle, because of this we cannot stratify our label\n",
        "stratify_value = None\n",
        "train_size = 0.80\n",
        "random_state = None\n",
        "\n",
        "# define train set and test set \n",
        "x_train, x_test, y_train, y_test = train_test_split(features_df, classification_array, train_size = train_size, shuffle = shuffle_value, stratify = stratify_value, random_state = random_state)"
      ],
      "id": "quality-prescription",
      "execution_count": null,
      "outputs": []
    },
    {
      "cell_type": "code",
      "metadata": {
        "id": "electric-memphis"
      },
      "source": [
        "callbacks=myCallback()"
      ],
      "id": "electric-memphis",
      "execution_count": null,
      "outputs": []
    },
    {
      "cell_type": "code",
      "metadata": {
        "id": "nervous-catalyst"
      },
      "source": [
        "model=tf.keras.models.Sequential([tf.keras.layers.Flatten(),\n",
        "                                   tf.keras.layers.Dense(units=500, activation=tf.nn.relu),\n",
        "                                   tf.keras.layers.Dense(units=2, activation=tf.nn.softmax)])"
      ],
      "id": "nervous-catalyst",
      "execution_count": null,
      "outputs": []
    },
    {
      "cell_type": "code",
      "metadata": {
        "id": "assisted-russell"
      },
      "source": [
        "model.compile(optimizer='adam', loss='sparse_categorical_crossentropy', metrics=['accuracy'])"
      ],
      "id": "assisted-russell",
      "execution_count": null,
      "outputs": []
    },
    {
      "cell_type": "code",
      "metadata": {
        "id": "parallel-extraction"
      },
      "source": [
        "model.fit(x_train, y_train, epochs=100, callbacks=[callbacks])"
      ],
      "id": "parallel-extraction",
      "execution_count": null,
      "outputs": []
    },
    {
      "cell_type": "code",
      "metadata": {
        "id": "jewish-attempt"
      },
      "source": [
        "stock_object_dictionary['{0}'.format(ticker)].confusion_matrix, stock_object_dictionary['{0}'.format(ticker)].accuracy_report = logistic_reg(df_sc_scaled, classification_array, train_size, shuffle_value, stratify_value, random_stat) "
      ],
      "id": "jewish-attempt",
      "execution_count": null,
      "outputs": []
    },
    {
      "cell_type": "code",
      "metadata": {
        "id": "educated-rehabilitation"
      },
      "source": [
        ""
      ],
      "id": "educated-rehabilitation",
      "execution_count": null,
      "outputs": []
    },
    {
      "cell_type": "code",
      "metadata": {
        "id": "supposed-february"
      },
      "source": [
        ""
      ],
      "id": "supposed-february",
      "execution_count": null,
      "outputs": []
    },
    {
      "cell_type": "code",
      "metadata": {
        "id": "square-physics"
      },
      "source": [
        ""
      ],
      "id": "square-physics",
      "execution_count": null,
      "outputs": []
    },
    {
      "cell_type": "code",
      "metadata": {
        "id": "proud-destruction"
      },
      "source": [
        ""
      ],
      "id": "proud-destruction",
      "execution_count": null,
      "outputs": []
    },
    {
      "cell_type": "markdown",
      "metadata": {
        "id": "burning-settle"
      },
      "source": [
        "### a. Trial 1: No Shuffle (i.e. No Stratify) - 80/20 - scaled features"
      ],
      "id": "burning-settle"
    }
  ]
}