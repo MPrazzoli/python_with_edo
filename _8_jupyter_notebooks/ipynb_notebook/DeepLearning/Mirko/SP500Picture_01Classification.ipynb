{
  "nbformat": 4,
  "nbformat_minor": 5,
  "metadata": {
    "kernelspec": {
      "display_name": "Python [conda env:py_37] *",
      "language": "python",
      "name": "conda-env-py_37-py"
    },
    "language_info": {
      "codemirror_mode": {
        "name": "ipython",
        "version": 3
      },
      "file_extension": ".py",
      "mimetype": "text/x-python",
      "name": "python",
      "nbconvert_exporter": "python",
      "pygments_lexer": "ipython3",
      "version": "3.7.10"
    },
    "colab": {
      "name": "SP500Picture_01Classification.ipynb",
      "provenance": [],
      "toc_visible": true
    }
  },
  "cells": [
    {
      "cell_type": "code",
      "metadata": {
        "id": "hJvvp8WXGNBT",
        "colab": {
          "base_uri": "https://localhost:8080/"
        },
        "outputId": "bdc413f4-ced8-4783-8d3f-d55d16ceb801"
      },
      "source": [
        "from google.colab import drive\n",
        "drive.mount('/content/drive')"
      ],
      "id": "hJvvp8WXGNBT",
      "execution_count": 24,
      "outputs": [
        {
          "output_type": "stream",
          "text": [
            "Drive already mounted at /content/drive; to attempt to forcibly remount, call drive.mount(\"/content/drive\", force_remount=True).\n"
          ],
          "name": "stdout"
        }
      ]
    },
    {
      "cell_type": "code",
      "metadata": {
        "id": "substantial-notification"
      },
      "source": [
        "# python_version 3.7.10"
      ],
      "id": "substantial-notification",
      "execution_count": null,
      "outputs": []
    },
    {
      "cell_type": "markdown",
      "metadata": {
        "id": "pharmaceutical-chair"
      },
      "source": [
        "### &nbsp;&nbsp;&nbsp; %CLASS% StockClass: used to create the stock dictionary"
      ],
      "id": "pharmaceutical-chair"
    },
    {
      "cell_type": "code",
      "metadata": {
        "id": "lasting-knight"
      },
      "source": [
        "class StockClass(object):\n",
        "\n",
        "    # Initialization of the StockClass object with the ticker symbol which is use to construct a yf.Ticker object\n",
        "    def __init__(self, ticker, isin=None, exchangeid=None, sector=None, industry=None, country=None, pe=None, eps=None,\n",
        "                 insiderown=None, shsout=None, shsfloat=None, mktcap=None, income=None, sales=None,\n",
        "                 booksh=None, pb=None, roa=None, tp=None, roe=None, roi=None, employees=None, debteq=None, \n",
        "                 groupby=None, confusion_matrix=None, accuracy_report=None, \n",
        "                 confusion_matrix2=None, accuracy_report2=None):\n",
        "        self.name = ticker\n",
        "        self.isin = isin\n",
        "        self.exchangeid = exchangeid\n",
        "        # self.history is the method of the SotckClass object to store data in DataFrame format\n",
        "        self.history = pd.DataFrame\n",
        "        self.investing = pd.DataFrame\n",
        "        self.pickle = pd.DataFrame\n",
        "        self.not_found = np.array([['date', 'ticker']])\n",
        "        self.nanDiv = False\n",
        "        self.nanSplit = False\n",
        "        self.sector = None\n",
        "        self.industry = industry\n",
        "        self.country = country\n",
        "        self.pe = pe\n",
        "        self.eps = eps\n",
        "        self.insiderown = insiderown\n",
        "        self.shsout = shsout\n",
        "        self.shsfloat = shsfloat\n",
        "        self.mktcap = mktcap\n",
        "        self.income = income\n",
        "        self.sales = sales\n",
        "        self.bookh = booksh\n",
        "        self.pb = pb\n",
        "        self.roa = roa\n",
        "        self.tp = tp\n",
        "        self.roe = roe\n",
        "        self.roi = roi\n",
        "        self.employees = employees\n",
        "        self.debteq = debteq\n",
        "        self.rsi = pd.DataFrame\n",
        "        self.groupby = groupby\n",
        "        self.confusion_matrix = confusion_matrix\n",
        "        self.accuracy_report = accuracy_report\n",
        "        self.confusion_matrix2 = confusion_matrix2\n",
        "        self.accuracy_report2 = accuracy_report2"
      ],
      "id": "lasting-knight",
      "execution_count": 25,
      "outputs": []
    },
    {
      "cell_type": "code",
      "metadata": {
        "id": "Y5PPFI30tXV6"
      },
      "source": [
        "class IndexClass(object):\n",
        "\n",
        "    # Initialization of the IndexClass object\n",
        "    def __init__(self, description='', groupby=None, open=None, high=None, low=None, adjclose=None):\n",
        "        self.description = description\n",
        "        self.open =  pd.DataFrame\n",
        "        self.high =  pd.DataFrame\n",
        "        self.low =  pd.DataFrame\n",
        "        self.adjclose =  pd.DataFrame"
      ],
      "id": "Y5PPFI30tXV6",
      "execution_count": 3,
      "outputs": []
    },
    {
      "cell_type": "markdown",
      "metadata": {
        "id": "dried-compilation"
      },
      "source": [
        "# 1. First part: import data, cleaning and arranging "
      ],
      "id": "dried-compilation"
    },
    {
      "cell_type": "markdown",
      "metadata": {
        "id": "8hvFCaQZmPp_"
      },
      "source": [
        ""
      ],
      "id": "8hvFCaQZmPp_"
    },
    {
      "cell_type": "markdown",
      "metadata": {
        "id": "waiting-performer"
      },
      "source": [
        "### &nbsp;&nbsp;&nbsp; * Main packages import"
      ],
      "id": "waiting-performer"
    },
    {
      "cell_type": "code",
      "metadata": {
        "tags": [],
        "id": "educated-vertical"
      },
      "source": [
        "import numpy as np\n",
        "import pandas as pd\n",
        "import warnings\n",
        "warnings.filterwarnings('ignore')"
      ],
      "id": "educated-vertical",
      "execution_count": 4,
      "outputs": []
    },
    {
      "cell_type": "markdown",
      "metadata": {
        "id": "identical-seafood"
      },
      "source": [
        "### &nbsp;&nbsp;&nbsp; * Data import"
      ],
      "id": "identical-seafood"
    },
    {
      "cell_type": "code",
      "metadata": {
        "id": "welcome-packaging"
      },
      "source": [
        "open_df_original = pd.read_csv('/content/drive/MyDrive/Data/20210322/open', index_col='date')\n",
        "high_df_original = pd.read_csv('/content/drive/MyDrive/Data/20210322/high', index_col='date')\n",
        "low_df_original = pd.read_csv('/content/drive/MyDrive/Data/20210322/low', index_col='date')\n",
        "adjclose_df_original = pd.read_csv('/content/drive/MyDrive/Data/20210322/adjclose', index_col='date')\n",
        "volume_df_original = pd.read_csv('/content/drive/MyDrive/Data/20210322/volume', index_col='date')"
      ],
      "id": "welcome-packaging",
      "execution_count": 5,
      "outputs": []
    },
    {
      "cell_type": "code",
      "metadata": {
        "id": "Vj-wnVKFPvaw"
      },
      "source": [
        "financials_df_original = pd.read_excel('/content/drive/MyDrive/Data/20210322/ticker_isin_file_financials.xlsx', na_values=['NA'], usecols = 'A:E,J', index_col='ticker')"
      ],
      "id": "Vj-wnVKFPvaw",
      "execution_count": 6,
      "outputs": []
    },
    {
      "cell_type": "code",
      "metadata": {
        "id": "fa-toOonPxa2"
      },
      "source": [
        "ticker_list = list(adjclose_df_original.columns)"
      ],
      "id": "fa-toOonPxa2",
      "execution_count": 7,
      "outputs": []
    },
    {
      "cell_type": "code",
      "metadata": {
        "id": "qV5utEImM_9F",
        "colab": {
          "base_uri": "https://localhost:8080/"
        },
        "outputId": "9a83db28-9cdf-4294-ef85-f79a83412ffc"
      },
      "source": [
        "# to drop columns with the end of the series NaN (probably not quoted anymore)\n",
        "if open_df_original.isnull().values.any():\n",
        "    print('open shape before: ', open_df_original.shape)\n",
        "    open_df_original.dropna(axis=1, how='any', inplace=True)\n",
        "print('open shape after: ', open_df_original.shape)    \n",
        "if high_df_original.isnull().values.any():\n",
        "    print('high shape before: ', high_df_original.shape)\n",
        "    high_df_original.dropna(axis=1, how='any', inplace=True)\n",
        "print('high shape after: ', high_df_original.shape)  \n",
        "if low_df_original.isnull().values.any():\n",
        "    print('low shape before: ', low_df_original.shape)\n",
        "    low_df_original.dropna(axis=1, how='any', inplace=True)\n",
        "print('low shape after: ', low_df_original.shape)    \n",
        "if adjclose_df_original.isnull().values.any():\n",
        "    print('high shape before: ', adjclose_df_original.shape)\n",
        "    adjclose_df_original.dropna(axis=1, how='any', inplace=True)\n",
        "print('high shape after: ', adjclose_df_original.shape)    \n",
        "if volume_df_original.isnull().values.any():\n",
        "    print('high shape before: ', volume_df_original.shape)\n",
        "    volume_df_original.dropna(axis=1, how='any', inplace=True)\n",
        "print('high shape after: ', volume_df_original.shape)   \n",
        "if financials_df_original.isnull().values.any():\n",
        "    print('financials shape before: ', financials_df_original.shape)\n",
        "    financials_df_original.dropna(axis=0, how='any', inplace=True)\n",
        "print('financials shape after: ', financials_df_original.transpose().shape)      "
      ],
      "id": "qV5utEImM_9F",
      "execution_count": 8,
      "outputs": [
        {
          "output_type": "stream",
          "text": [
            "open shape before:  (415, 4541)\n",
            "open shape after:  (415, 4534)\n",
            "high shape before:  (415, 4541)\n",
            "high shape after:  (415, 4534)\n",
            "low shape before:  (415, 4541)\n",
            "low shape after:  (415, 4534)\n",
            "high shape before:  (415, 4541)\n",
            "high shape after:  (415, 4534)\n",
            "high shape before:  (415, 4541)\n",
            "high shape after:  (415, 4534)\n",
            "financials shape before:  (5143, 5)\n",
            "financials shape after:  (5, 4731)\n"
          ],
          "name": "stdout"
        }
      ]
    },
    {
      "cell_type": "code",
      "metadata": {
        "id": "ckCPXGjyJhSl"
      },
      "source": [
        "open_df = open_df_original.drop(index=open_df_original.iloc[-1:].index)\n",
        "high_df = high_df_original.drop(index=high_df_original.iloc[-1:].index)\n",
        "low_df = low_df_original.drop(index=low_df_original.iloc[-1:].index)\n",
        "adjclose_df = adjclose_df_original.drop(index=adjclose_df_original.iloc[-1:].index)\n",
        "volume_df = volume_df_original.drop(index=volume_df_original.iloc[-1:].index)"
      ],
      "id": "ckCPXGjyJhSl",
      "execution_count": 9,
      "outputs": []
    },
    {
      "cell_type": "markdown",
      "metadata": {
        "id": "afraid-queensland"
      },
      "source": [
        "# 2 Second part: computation and assessing "
      ],
      "id": "afraid-queensland"
    },
    {
      "cell_type": "markdown",
      "metadata": {
        "id": "mH2H-uILWU7w"
      },
      "source": [
        "# 2.a Indeces computation"
      ],
      "id": "mH2H-uILWU7w"
    },
    {
      "cell_type": "markdown",
      "metadata": {
        "tags": [],
        "id": "oriented-relaxation"
      },
      "source": [
        "### &nbsp;&nbsp;&nbsp; * Definition of the StockClass dictionary"
      ],
      "id": "oriented-relaxation"
    },
    {
      "cell_type": "code",
      "metadata": {
        "id": "pressing-interstate"
      },
      "source": [
        "# Definition of a dictionary to store stock as StockClass instances and for each stock get attribute\n",
        "# (take a look at _2_0_stock_dataframe_class.py for more information)\n",
        "stock_object_dictionary = {'{0}'.format(ticker): StockClass(ticker=ticker_list) for ticker in ticker_list}"
      ],
      "id": "pressing-interstate",
      "execution_count": 10,
      "outputs": []
    },
    {
      "cell_type": "code",
      "metadata": {
        "id": "kvoAWauCaH43"
      },
      "source": [
        "financials_df_original.rename(columns={'Shs Outstand':'Market Cap'}, inplace=True)\n",
        "financials_df = financials_df_original.dropna(axis=0, how='any')\n",
        "financials_df = financials_df[financials_df['Market Cap']!='-']"
      ],
      "id": "kvoAWauCaH43",
      "execution_count": 12,
      "outputs": []
    },
    {
      "cell_type": "code",
      "metadata": {
        "id": "up-4fA4GQgyQ"
      },
      "source": [
        "# Remove rows which has no market data in price dataframe\n",
        "main_list = list(set(financials_df.index) - set(adjclose_df.columns))\n",
        "financials_df.drop(index=main_list, inplace=True)"
      ],
      "id": "up-4fA4GQgyQ",
      "execution_count": 13,
      "outputs": []
    },
    {
      "cell_type": "code",
      "metadata": {
        "id": "xCJnkmKfwaDE"
      },
      "source": [
        "# GroupBy\n",
        "exchange_id_group = financials_df.groupby(['exchange_id'])\n",
        "sector_group = financials_df.groupby(['Sector'])\n",
        "industry_group = financials_df.groupby(['Industry'])\n",
        "\n",
        "num_of_quantiles = 10\n",
        "financials_df['Market Cap Group'] = np.nan\n",
        "mkt_cap_quantiles = []\n",
        "for q in np.linspace(1/num_of_quantiles, 1, num_of_quantiles):\n",
        "  mkt_cap_quantiles.append(financials_df['Market Cap'].quantile(q))\n",
        "for ticker in financials_df.index:\n",
        "    for i, q in enumerate(mkt_cap_quantiles):\n",
        "        if financials_df['Market Cap'].loc[ticker] < q:\n",
        "            financials_df['Market Cap Group'].loc[ticker] = i\n",
        "            break\n",
        "\n",
        "# Group by Market Cap Range\n",
        "marketcap_group = financials_df.groupby(['Market Cap Group'])"
      ],
      "id": "xCJnkmKfwaDE",
      "execution_count": 17,
      "outputs": []
    },
    {
      "cell_type": "code",
      "metadata": {
        "id": "2a4VUMVqpFc7"
      },
      "source": [
        "# Definition of a dictionary to store indeces as IndexClass instances (exchange_id)\n",
        "index_object_dictionary_exid = {'{0}'.format(exid): IndexClass(description=exid, groupby='exchange_id') for exid in exchange_id_group.groups.keys()}\n",
        "# Definition of a dictionary to store indeces as IndexClass instances (Sector)\n",
        "index_object_dictionary_sec = {'{0}'.format(sec): IndexClass(description=sec, groupby='Sector') for sec in sector_group.groups.keys()}\n",
        "#  Definition of a dictionary to store indeces as IndexClass instances (Industry)\n",
        "index_object_dictionary_ind = {'{0}'.format(ind): IndexClass(description=ind, groupby='Industry') for ind in industry_group.groups.keys()}\n",
        "#  Definition of a dictionary to store indeces as IndexClass instances (Market Cap)\n",
        "index_object_dictionary_mktcap = {'{0}'.format(mktcap): IndexClass(description=mktcap, groupby='Market Cap') for mktcap in marketcap_group.groups.keys()}"
      ],
      "id": "2a4VUMVqpFc7",
      "execution_count": 18,
      "outputs": []
    },
    {
      "cell_type": "code",
      "metadata": {
        "id": "lI7ffBoTI8fv"
      },
      "source": [
        "forfiles = ['open', 'high', 'low', 'adjclose']"
      ],
      "id": "lI7ffBoTI8fv",
      "execution_count": 19,
      "outputs": []
    },
    {
      "cell_type": "code",
      "metadata": {
        "id": "t3SmOMuHXf6j"
      },
      "source": [
        "list_of_stock_to_erase = [] \n",
        "for i, exid in enumerate(exchange_id_group.groups.keys()):\n",
        "  open_df_exchange_id = open_df[exchange_id_group.groups[list(exchange_id_group.groups.keys())[i]]]\n",
        "  high_df_exchange_id = high_df[exchange_id_group.groups[list(exchange_id_group.groups.keys())[i]]]\n",
        "  low_df_exchange_id = low_df[exchange_id_group.groups[list(exchange_id_group.groups.keys())[i]]]\n",
        "  adjclose_df_exchange_id = adjclose_df[exchange_id_group.groups[list(exchange_id_group.groups.keys())[i]]]\n",
        "  for ticker in exchange_id_group.groups[list(exchange_id_group.groups.keys())[i]]:\n",
        "    try:\n",
        "      open_df_exchange_id[ticker] = open_df_exchange_id[ticker] * financials_df['Market Cap'].loc[ticker]\n",
        "      high_df_exchange_id[ticker] = high_df_exchange_id[ticker] * financials_df['Market Cap'].loc[ticker]\n",
        "      low_df_exchange_id[ticker] = low_df_exchange_id[ticker] * financials_df['Market Cap'].loc[ticker]\n",
        "      adjclose_df_exchange_id[ticker] = adjclose_df_exchange_id[ticker] * financials_df['Market Cap'].loc[ticker]\n",
        "    except:\n",
        "      list_of_stock_to_erase.append(ticker)\n",
        "\n",
        "  index_object_dictionary_exid['{0}'.format(exid)].open = open_df_exchange_id.sum(axis=1)/1000000000000000\n",
        "  index_object_dictionary_exid['{0}'.format(exid)].high = high_df_exchange_id.sum(axis=1)/1000000000000000\n",
        "  index_object_dictionary_exid['{0}'.format(exid)].low = low_df_exchange_id.sum(axis=1)/1000000000000000\n",
        "  index_object_dictionary_exid['{0}'.format(exid)].adjclose = adjclose_df_exchange_id.sum(axis=1)/1000000000000000\n",
        "  \n",
        "for i, exid in enumerate(index_object_dictionary_exid.keys()):\n",
        "  if i == 0:\n",
        "    open = pd.DataFrame(index_object_dictionary_exid['{0}'.format(exid)].open, columns=[exid])\n",
        "    high = pd.DataFrame(index_object_dictionary_exid['{0}'.format(exid)].high, columns=[exid])\n",
        "    low = pd.DataFrame(index_object_dictionary_exid['{0}'.format(exid)].low, columns=[exid])\n",
        "    adjclose = pd.DataFrame(index_object_dictionary_exid['{0}'.format(exid)].adjclose, columns=[exid])\n",
        "  else:\n",
        "    open = pd.concat([open, pd.DataFrame(index_object_dictionary_exid['{0}'.format(exid)].open, columns=[exid])], axis=1)\n",
        "    high = pd.concat([high, pd.DataFrame(index_object_dictionary_exid['{0}'.format(exid)].high, columns=[exid])], axis=1)\n",
        "    low = pd.concat([low, pd.DataFrame(index_object_dictionary_exid['{0}'.format(exid)].low, columns=[exid])], axis=1)\n",
        "    adjclose = pd.concat([adjclose, pd.DataFrame(index_object_dictionary_exid['{0}'.format(exid)].adjclose, columns=[exid])], axis=1)\n",
        "\n",
        "for f in forfiles:\n",
        "  filename = 'exchange_id ' + f \n",
        "  if f == 'open':\n",
        "    open.to_csv(filename, index=True)\n",
        "  if f == 'high':\n",
        "    high.to_csv(filename, index=True)\n",
        "  if f == 'low':\n",
        "    low.to_csv(filename, index=True)\n",
        "  if f == 'adjclose':\n",
        "    adjclose.to_csv(filename, index=True)"
      ],
      "id": "t3SmOMuHXf6j",
      "execution_count": 20,
      "outputs": []
    },
    {
      "cell_type": "code",
      "metadata": {
        "id": "MWOIFozldZPO"
      },
      "source": [
        "list_of_stock_to_erase = [] \n",
        "for i, sec in enumerate(sector_group.groups.keys()):\n",
        "  open_df_sector = open_df[sector_group.groups[list(sector_group.groups.keys())[i]]]\n",
        "  high_df_sector = high_df[sector_group.groups[list(sector_group.groups.keys())[i]]]\n",
        "  low_df_sector = low_df[sector_group.groups[list(sector_group.groups.keys())[i]]]\n",
        "  adjclose_df_sector = adjclose_df[sector_group.groups[list(sector_group.groups.keys())[i]]]\n",
        "  for ticker in sector_group.groups[list(sector_group.groups.keys())[i]]:\n",
        "    try:\n",
        "      open_df_sector[ticker] = open_df_sector[ticker] * financials_df['Market Cap'].loc[ticker]\n",
        "      high_df_sector[ticker] = high_df_sector[ticker] * financials_df['Market Cap'].loc[ticker]\n",
        "      low_df_sector[ticker] = low_df_sector[ticker] * financials_df['Market Cap'].loc[ticker]\n",
        "      adjclose_df_sector[ticker] = adjclose_df_sector[ticker] * financials_df['Market Cap'].loc[ticker]\n",
        "    except:\n",
        "      list_of_stock_to_erase.append(ticker)\n",
        "\n",
        "  index_object_dictionary_sec['{0}'.format(sec)].open = open_df_sector.sum(axis=1)/1000000000000000\n",
        "  index_object_dictionary_sec['{0}'.format(sec)].high = high_df_sector.sum(axis=1)/1000000000000000\n",
        "  index_object_dictionary_sec['{0}'.format(sec)].low = low_df_sector.sum(axis=1)/1000000000000000\n",
        "  index_object_dictionary_sec['{0}'.format(sec)].adjclose = adjclose_df_sector.sum(axis=1)/1000000000000000\n",
        "\n",
        "for i, sec in enumerate(index_object_dictionary_sec.keys()):\n",
        "  if i == 0:\n",
        "    open = pd.DataFrame(index_object_dictionary_sec['{0}'.format(sec)].open, columns=[sec])\n",
        "    high = pd.DataFrame(index_object_dictionary_sec['{0}'.format(sec)].high, columns=[sec])\n",
        "    low = pd.DataFrame(index_object_dictionary_sec['{0}'.format(sec)].low, columns=[sec])\n",
        "    adjclose = pd.DataFrame(index_object_dictionary_sec['{0}'.format(sec)].adjclose, columns=[sec])\n",
        "  else:\n",
        "    open = pd.concat([open, pd.DataFrame(index_object_dictionary_sec['{0}'.format(sec)].open, columns=[sec])], axis=1)\n",
        "    high = pd.concat([high, pd.DataFrame(index_object_dictionary_sec['{0}'.format(sec)].high, columns=[sec])], axis=1)\n",
        "    low = pd.concat([low, pd.DataFrame(index_object_dictionary_sec['{0}'.format(sec)].low, columns=[sec])], axis=1)\n",
        "    adjclose = pd.concat([adjclose, pd.DataFrame(index_object_dictionary_sec['{0}'.format(sec)].adjclose, columns=[sec])], axis=1)\n",
        "\n",
        "for f in forfiles:\n",
        "  filename = 'sector ' + f \n",
        "  if f == 'open':\n",
        "    open.to_csv(filename, index=True)\n",
        "  if f == 'high':\n",
        "    high.to_csv(filename, index=True)\n",
        "  if f == 'low':\n",
        "    low.to_csv(filename, index=True)\n",
        "  if f == 'adjclose':\n",
        "    adjclose.to_csv(filename, index=True)"
      ],
      "id": "MWOIFozldZPO",
      "execution_count": 21,
      "outputs": []
    },
    {
      "cell_type": "code",
      "metadata": {
        "id": "IBwuvNCAdaA8"
      },
      "source": [
        "list_of_stock_to_erase = [] \n",
        "for i, ind in enumerate(industry_group.groups.keys()):\n",
        "  open_df_industry = open_df[industry_group.groups[list(industry_group.groups.keys())[i]]]\n",
        "  high_df_industry = high_df[industry_group.groups[list(industry_group.groups.keys())[i]]]\n",
        "  low_df_industry = low_df[industry_group.groups[list(industry_group.groups.keys())[i]]]\n",
        "  adjclose_df_industry = adjclose_df[industry_group.groups[list(industry_group.groups.keys())[i]]]\n",
        "  for ticker in industry_group.groups[list(industry_group.groups.keys())[i]]:\n",
        "    try:\n",
        "      open_df_industry[ticker] = open_df_industry[ticker] * financials_df['Market Cap'].loc[ticker]\n",
        "      high_df_industry[ticker] = high_df_industry[ticker] * financials_df['Market Cap'].loc[ticker]\n",
        "      low_df_industry[ticker] = low_df_industry[ticker] * financials_df['Market Cap'].loc[ticker]\n",
        "      adjclose_df_industry[ticker] = adjclose_df_industry[ticker] * financials_df['Market Cap'].loc[ticker]\n",
        "    except:\n",
        "      list_of_stock_to_erase.append(ticker)\n",
        "\n",
        "  index_object_dictionary_ind['{0}'.format(ind)].open = open_df_industry.sum(axis=1)/1000000000000000\n",
        "  index_object_dictionary_ind['{0}'.format(ind)].high = high_df_industry.sum(axis=1)/1000000000000000\n",
        "  index_object_dictionary_ind['{0}'.format(ind)].low = low_df_industry.sum(axis=1)/1000000000000000\n",
        "  index_object_dictionary_ind['{0}'.format(ind)].adjclose = adjclose_df_industry.sum(axis=1)/1000000000000000\n",
        "\n",
        "for i, ind in enumerate(index_object_dictionary_ind.keys()):\n",
        "  if i == 0:\n",
        "    open = pd.DataFrame(index_object_dictionary_ind['{0}'.format(ind)].open, columns=[ind])\n",
        "    high = pd.DataFrame(index_object_dictionary_ind['{0}'.format(ind)].high, columns=[ind])\n",
        "    low = pd.DataFrame(index_object_dictionary_ind['{0}'.format(ind)].low, columns=[ind])\n",
        "    adjclose = pd.DataFrame(index_object_dictionary_ind['{0}'.format(ind)].adjclose, columns=[ind])\n",
        "  else:\n",
        "    open = pd.concat([open, pd.DataFrame(index_object_dictionary_ind['{0}'.format(ind)].open, columns=[ind])], axis=1)\n",
        "    high = pd.concat([high, pd.DataFrame(index_object_dictionary_ind['{0}'.format(ind)].high, columns=[ind])], axis=1)\n",
        "    low = pd.concat([low, pd.DataFrame(index_object_dictionary_ind['{0}'.format(ind)].low, columns=[ind])], axis=1)\n",
        "    adjclose = pd.concat([adjclose, pd.DataFrame(index_object_dictionary_ind['{0}'.format(ind)].adjclose, columns=[ind])], axis=1)\n",
        "\n",
        "for f in forfiles:\n",
        "  filename = 'industry ' + f \n",
        "  if f == 'open':\n",
        "    open.to_csv(filename, index=True)\n",
        "  if f == 'high':\n",
        "    high.to_csv(filename, index=True)\n",
        "  if f == 'low':\n",
        "    low.to_csv(filename, index=True)\n",
        "  if f == 'adjclose':\n",
        "    adjclose.to_csv(filename, index=True)"
      ],
      "id": "IBwuvNCAdaA8",
      "execution_count": 22,
      "outputs": []
    },
    {
      "cell_type": "code",
      "metadata": {
        "id": "_RlDQfPTdaj_"
      },
      "source": [
        "list_of_stock_to_erase = [] \n",
        "for i, mktcap in enumerate(marketcap_group.groups.keys()):\n",
        "  open_df_marketcap = open_df[marketcap_group.groups[list(marketcap_group.groups.keys())[i]]]\n",
        "  high_df_marketcap = high_df[marketcap_group.groups[list(marketcap_group.groups.keys())[i]]]\n",
        "  low_df_marketcap = low_df[marketcap_group.groups[list(marketcap_group.groups.keys())[i]]]\n",
        "  adjclose_df_marketcap = adjclose_df[marketcap_group.groups[list(marketcap_group.groups.keys())[i]]]\n",
        "  for ticker in marketcap_group.groups[list(marketcap_group.groups.keys())[i]]:\n",
        "    try:\n",
        "      open_df_marketcap[ticker] = open_df_marketcap[ticker] * financials_df['Market Cap'].loc[ticker]\n",
        "      high_df_marketcap[ticker] = high_df_marketcap[ticker] * financials_df['Market Cap'].loc[ticker]\n",
        "      low_df_marketcap[ticker] = low_df_marketcap[ticker] * financials_df['Market Cap'].loc[ticker]\n",
        "      adjclose_df_marketcap[ticker] = adjclose_df_marketcap[ticker] * financials_df['Market Cap'].loc[ticker]\n",
        "    except:\n",
        "      list_of_stock_to_erase.append(ticker)\n",
        "\n",
        "  index_object_dictionary_mktcap['{0}'.format(mktcap)].open = open_df_marketcap.sum(axis=1)/1000000000000000\n",
        "  index_object_dictionary_mktcap['{0}'.format(mktcap)].high = high_df_marketcap.sum(axis=1)/1000000000000000\n",
        "  index_object_dictionary_mktcap['{0}'.format(mktcap)].low = low_df_marketcap.sum(axis=1)/1000000000000000\n",
        "  index_object_dictionary_mktcap['{0}'.format(mktcap)].adjclose = adjclose_df_marketcap.sum(axis=1)/1000000000000000\n",
        "\n",
        "for i, mktcap in enumerate(index_object_dictionary_mktcap.keys()):\n",
        "  if i == 0:\n",
        "    open = pd.DataFrame(index_object_dictionary_mktcap['{0}'.format(mktcap)].open, columns=[mktcap])\n",
        "    high = pd.DataFrame(index_object_dictionary_mktcap['{0}'.format(mktcap)].high, columns=[mktcap])\n",
        "    low = pd.DataFrame(index_object_dictionary_mktcap['{0}'.format(mktcap)].low, columns=[mktcap])\n",
        "    adjclose = pd.DataFrame(index_object_dictionary_mktcap['{0}'.format(mktcap)].adjclose, columns=[mktcap])\n",
        "  else:\n",
        "    open = pd.concat([open, pd.DataFrame(index_object_dictionary_mktcap['{0}'.format(mktcap)].open, columns=[mktcap])], axis=1)\n",
        "    high = pd.concat([high, pd.DataFrame(index_object_dictionary_mktcap['{0}'.format(mktcap)].high, columns=[mktcap])], axis=1)\n",
        "    low = pd.concat([low, pd.DataFrame(index_object_dictionary_mktcap['{0}'.format(mktcap)].low, columns=[mktcap])], axis=1)\n",
        "    adjclose = pd.concat([adjclose, pd.DataFrame(index_object_dictionary_mktcap['{0}'.format(mktcap)].adjclose, columns=[mktcap])], axis=1)\n",
        "\n",
        "for f in forfiles:\n",
        "  filename = 'market_cap ' + f \n",
        "  if f == 'open':\n",
        "    open.to_csv(filename, index=True)\n",
        "  if f == 'high':\n",
        "    high.to_csv(filename, index=True)\n",
        "  if f == 'low':\n",
        "    low.to_csv(filename, index=True)\n",
        "  if f == 'adjclose':\n",
        "    adjclose.to_csv(filename, index=True)"
      ],
      "id": "_RlDQfPTdaj_",
      "execution_count": 23,
      "outputs": []
    },
    {
      "cell_type": "code",
      "metadata": {
        "id": "bUoVhIECBQu5"
      },
      "source": [
        "open_df_prezzo = open_df.transpose()\n",
        "open_df_prezzo = open_df_prezzo.loc[financials_df.index]\n",
        "open_df_prezzoEMPTY = open_df_prezzo.copy()"
      ],
      "id": "bUoVhIECBQu5",
      "execution_count": 76,
      "outputs": []
    },
    {
      "cell_type": "code",
      "metadata": {
        "colab": {
          "base_uri": "https://localhost:8080/",
          "height": 205
        },
        "id": "Yh3GOIuhXNhk",
        "outputId": "2078e3c1-971d-4ac4-c223-589efc545280"
      },
      "source": [
        "open_exid = pd.read_csv('exchange_id open', index_col='date')\n",
        "open_df_index = open_exid.transpose()\n",
        "open_df_index"
      ],
      "id": "Yh3GOIuhXNhk",
      "execution_count": 77,
      "outputs": [
        {
          "output_type": "execute_result",
          "data": {
            "text/html": [
              "<div>\n",
              "<style scoped>\n",
              "    .dataframe tbody tr th:only-of-type {\n",
              "        vertical-align: middle;\n",
              "    }\n",
              "\n",
              "    .dataframe tbody tr th {\n",
              "        vertical-align: top;\n",
              "    }\n",
              "\n",
              "    .dataframe thead th {\n",
              "        text-align: right;\n",
              "    }\n",
              "</style>\n",
              "<table border=\"1\" class=\"dataframe\">\n",
              "  <thead>\n",
              "    <tr style=\"text-align: right;\">\n",
              "      <th>date</th>\n",
              "      <th>2019-07-29</th>\n",
              "      <th>2019-07-30</th>\n",
              "      <th>2019-07-31</th>\n",
              "      <th>2019-08-01</th>\n",
              "      <th>2019-08-02</th>\n",
              "      <th>2019-08-05</th>\n",
              "      <th>2019-08-06</th>\n",
              "      <th>2019-08-07</th>\n",
              "      <th>2019-08-08</th>\n",
              "      <th>2019-08-09</th>\n",
              "      <th>2019-08-12</th>\n",
              "      <th>2019-08-13</th>\n",
              "      <th>2019-08-14</th>\n",
              "      <th>2019-08-15</th>\n",
              "      <th>2019-08-16</th>\n",
              "      <th>2019-08-19</th>\n",
              "      <th>2019-08-20</th>\n",
              "      <th>2019-08-21</th>\n",
              "      <th>2019-08-22</th>\n",
              "      <th>2019-08-23</th>\n",
              "      <th>2019-08-26</th>\n",
              "      <th>2019-08-27</th>\n",
              "      <th>2019-08-28</th>\n",
              "      <th>2019-08-29</th>\n",
              "      <th>2019-08-30</th>\n",
              "      <th>2019-09-03</th>\n",
              "      <th>2019-09-04</th>\n",
              "      <th>2019-09-05</th>\n",
              "      <th>2019-09-06</th>\n",
              "      <th>2019-09-09</th>\n",
              "      <th>2019-09-10</th>\n",
              "      <th>2019-09-11</th>\n",
              "      <th>2019-09-12</th>\n",
              "      <th>2019-09-13</th>\n",
              "      <th>2019-09-16</th>\n",
              "      <th>2019-09-17</th>\n",
              "      <th>2019-09-18</th>\n",
              "      <th>2019-09-19</th>\n",
              "      <th>2019-09-20</th>\n",
              "      <th>2019-09-23</th>\n",
              "      <th>...</th>\n",
              "      <th>2021-01-21</th>\n",
              "      <th>2021-01-22</th>\n",
              "      <th>2021-01-25</th>\n",
              "      <th>2021-01-26</th>\n",
              "      <th>2021-01-27</th>\n",
              "      <th>2021-01-28</th>\n",
              "      <th>2021-01-29</th>\n",
              "      <th>2021-02-01</th>\n",
              "      <th>2021-02-02</th>\n",
              "      <th>2021-02-03</th>\n",
              "      <th>2021-02-04</th>\n",
              "      <th>2021-02-05</th>\n",
              "      <th>2021-02-08</th>\n",
              "      <th>2021-02-09</th>\n",
              "      <th>2021-02-10</th>\n",
              "      <th>2021-02-11</th>\n",
              "      <th>2021-02-12</th>\n",
              "      <th>2021-02-16</th>\n",
              "      <th>2021-02-17</th>\n",
              "      <th>2021-02-18</th>\n",
              "      <th>2021-02-19</th>\n",
              "      <th>2021-02-22</th>\n",
              "      <th>2021-02-23</th>\n",
              "      <th>2021-02-24</th>\n",
              "      <th>2021-02-25</th>\n",
              "      <th>2021-02-26</th>\n",
              "      <th>2021-03-01</th>\n",
              "      <th>2021-03-02</th>\n",
              "      <th>2021-03-03</th>\n",
              "      <th>2021-03-04</th>\n",
              "      <th>2021-03-05</th>\n",
              "      <th>2021-03-08</th>\n",
              "      <th>2021-03-09</th>\n",
              "      <th>2021-03-10</th>\n",
              "      <th>2021-03-11</th>\n",
              "      <th>2021-03-12</th>\n",
              "      <th>2021-03-15</th>\n",
              "      <th>2021-03-16</th>\n",
              "      <th>2021-03-17</th>\n",
              "      <th>2021-03-18</th>\n",
              "    </tr>\n",
              "  </thead>\n",
              "  <tbody>\n",
              "    <tr>\n",
              "      <th>650</th>\n",
              "      <td>0.000092</td>\n",
              "      <td>0.000091</td>\n",
              "      <td>0.000093</td>\n",
              "      <td>0.000091</td>\n",
              "      <td>0.000090</td>\n",
              "      <td>0.000088</td>\n",
              "      <td>0.000087</td>\n",
              "      <td>0.000087</td>\n",
              "      <td>0.000087</td>\n",
              "      <td>0.000088</td>\n",
              "      <td>0.000088</td>\n",
              "      <td>0.000087</td>\n",
              "      <td>0.000086</td>\n",
              "      <td>0.000085</td>\n",
              "      <td>0.000085</td>\n",
              "      <td>0.000086</td>\n",
              "      <td>0.000086</td>\n",
              "      <td>0.000087</td>\n",
              "      <td>0.000087</td>\n",
              "      <td>0.000086</td>\n",
              "      <td>0.000086</td>\n",
              "      <td>0.000086</td>\n",
              "      <td>0.000086</td>\n",
              "      <td>0.000087</td>\n",
              "      <td>0.000087</td>\n",
              "      <td>0.000087</td>\n",
              "      <td>0.000087</td>\n",
              "      <td>0.000087</td>\n",
              "      <td>0.000087</td>\n",
              "      <td>0.000088</td>\n",
              "      <td>0.000088</td>\n",
              "      <td>0.000089</td>\n",
              "      <td>0.000090</td>\n",
              "      <td>0.000090</td>\n",
              "      <td>0.000091</td>\n",
              "      <td>0.000091</td>\n",
              "      <td>0.000091</td>\n",
              "      <td>0.000091</td>\n",
              "      <td>0.000090</td>\n",
              "      <td>0.000090</td>\n",
              "      <td>...</td>\n",
              "      <td>0.000101</td>\n",
              "      <td>0.000098</td>\n",
              "      <td>0.000100</td>\n",
              "      <td>0.000099</td>\n",
              "      <td>0.000095</td>\n",
              "      <td>0.000096</td>\n",
              "      <td>0.000097</td>\n",
              "      <td>0.000099</td>\n",
              "      <td>0.000099</td>\n",
              "      <td>0.000099</td>\n",
              "      <td>0.000100</td>\n",
              "      <td>0.000101</td>\n",
              "      <td>0.000104</td>\n",
              "      <td>0.000106</td>\n",
              "      <td>0.000111</td>\n",
              "      <td>0.000110</td>\n",
              "      <td>0.000107</td>\n",
              "      <td>0.000111</td>\n",
              "      <td>0.000111</td>\n",
              "      <td>0.000109</td>\n",
              "      <td>0.000107</td>\n",
              "      <td>0.000108</td>\n",
              "      <td>0.000108</td>\n",
              "      <td>0.000109</td>\n",
              "      <td>0.000110</td>\n",
              "      <td>0.000107</td>\n",
              "      <td>0.000106</td>\n",
              "      <td>0.000106</td>\n",
              "      <td>0.000107</td>\n",
              "      <td>0.000105</td>\n",
              "      <td>0.000105</td>\n",
              "      <td>0.000106</td>\n",
              "      <td>0.000107</td>\n",
              "      <td>0.000109</td>\n",
              "      <td>0.000110</td>\n",
              "      <td>0.000110</td>\n",
              "      <td>0.000113</td>\n",
              "      <td>0.000113</td>\n",
              "      <td>0.000110</td>\n",
              "      <td>0.000112</td>\n",
              "    </tr>\n",
              "    <tr>\n",
              "      <th>663</th>\n",
              "      <td>0.014007</td>\n",
              "      <td>0.013843</td>\n",
              "      <td>0.013923</td>\n",
              "      <td>0.013758</td>\n",
              "      <td>0.013550</td>\n",
              "      <td>0.013177</td>\n",
              "      <td>0.013116</td>\n",
              "      <td>0.013039</td>\n",
              "      <td>0.013311</td>\n",
              "      <td>0.013452</td>\n",
              "      <td>0.013292</td>\n",
              "      <td>0.013211</td>\n",
              "      <td>0.013247</td>\n",
              "      <td>0.013103</td>\n",
              "      <td>0.013177</td>\n",
              "      <td>0.013446</td>\n",
              "      <td>0.013430</td>\n",
              "      <td>0.013478</td>\n",
              "      <td>0.013502</td>\n",
              "      <td>0.013348</td>\n",
              "      <td>0.013160</td>\n",
              "      <td>0.013292</td>\n",
              "      <td>0.013104</td>\n",
              "      <td>0.013352</td>\n",
              "      <td>0.013474</td>\n",
              "      <td>0.013290</td>\n",
              "      <td>0.013361</td>\n",
              "      <td>0.013549</td>\n",
              "      <td>0.013662</td>\n",
              "      <td>0.013663</td>\n",
              "      <td>0.013521</td>\n",
              "      <td>0.013584</td>\n",
              "      <td>0.013788</td>\n",
              "      <td>0.013766</td>\n",
              "      <td>0.013653</td>\n",
              "      <td>0.013697</td>\n",
              "      <td>0.013739</td>\n",
              "      <td>0.013767</td>\n",
              "      <td>0.013750</td>\n",
              "      <td>0.013621</td>\n",
              "      <td>...</td>\n",
              "      <td>0.022686</td>\n",
              "      <td>0.022630</td>\n",
              "      <td>0.022958</td>\n",
              "      <td>0.022943</td>\n",
              "      <td>0.022636</td>\n",
              "      <td>0.022324</td>\n",
              "      <td>0.022267</td>\n",
              "      <td>0.022179</td>\n",
              "      <td>0.022724</td>\n",
              "      <td>0.023124</td>\n",
              "      <td>0.023077</td>\n",
              "      <td>0.023300</td>\n",
              "      <td>0.023493</td>\n",
              "      <td>0.023524</td>\n",
              "      <td>0.023732</td>\n",
              "      <td>0.023689</td>\n",
              "      <td>0.023569</td>\n",
              "      <td>0.023862</td>\n",
              "      <td>0.023515</td>\n",
              "      <td>0.023338</td>\n",
              "      <td>0.023539</td>\n",
              "      <td>0.023117</td>\n",
              "      <td>0.022437</td>\n",
              "      <td>0.022603</td>\n",
              "      <td>0.022802</td>\n",
              "      <td>0.022359</td>\n",
              "      <td>0.022661</td>\n",
              "      <td>0.022992</td>\n",
              "      <td>0.022540</td>\n",
              "      <td>0.021929</td>\n",
              "      <td>0.021828</td>\n",
              "      <td>0.021897</td>\n",
              "      <td>0.021861</td>\n",
              "      <td>0.022395</td>\n",
              "      <td>0.022439</td>\n",
              "      <td>0.022352</td>\n",
              "      <td>0.022490</td>\n",
              "      <td>0.022831</td>\n",
              "      <td>0.022528</td>\n",
              "      <td>0.022509</td>\n",
              "    </tr>\n",
              "    <tr>\n",
              "      <th>676</th>\n",
              "      <td>0.028928</td>\n",
              "      <td>0.028703</td>\n",
              "      <td>0.028770</td>\n",
              "      <td>0.028486</td>\n",
              "      <td>0.028108</td>\n",
              "      <td>0.027563</td>\n",
              "      <td>0.027427</td>\n",
              "      <td>0.027221</td>\n",
              "      <td>0.027664</td>\n",
              "      <td>0.027857</td>\n",
              "      <td>0.027581</td>\n",
              "      <td>0.027344</td>\n",
              "      <td>0.027283</td>\n",
              "      <td>0.027012</td>\n",
              "      <td>0.027170</td>\n",
              "      <td>0.027656</td>\n",
              "      <td>0.027542</td>\n",
              "      <td>0.027638</td>\n",
              "      <td>0.027680</td>\n",
              "      <td>0.027477</td>\n",
              "      <td>0.027203</td>\n",
              "      <td>0.027349</td>\n",
              "      <td>0.027045</td>\n",
              "      <td>0.027537</td>\n",
              "      <td>0.027781</td>\n",
              "      <td>0.027490</td>\n",
              "      <td>0.027754</td>\n",
              "      <td>0.028037</td>\n",
              "      <td>0.028132</td>\n",
              "      <td>0.028218</td>\n",
              "      <td>0.028147</td>\n",
              "      <td>0.028304</td>\n",
              "      <td>0.028503</td>\n",
              "      <td>0.028629</td>\n",
              "      <td>0.028501</td>\n",
              "      <td>0.028471</td>\n",
              "      <td>0.028513</td>\n",
              "      <td>0.028590</td>\n",
              "      <td>0.028617</td>\n",
              "      <td>0.028340</td>\n",
              "      <td>...</td>\n",
              "      <td>0.032876</td>\n",
              "      <td>0.032420</td>\n",
              "      <td>0.032466</td>\n",
              "      <td>0.032608</td>\n",
              "      <td>0.031934</td>\n",
              "      <td>0.031774</td>\n",
              "      <td>0.031744</td>\n",
              "      <td>0.031662</td>\n",
              "      <td>0.032061</td>\n",
              "      <td>0.032199</td>\n",
              "      <td>0.032360</td>\n",
              "      <td>0.032808</td>\n",
              "      <td>0.032964</td>\n",
              "      <td>0.033083</td>\n",
              "      <td>0.033369</td>\n",
              "      <td>0.033307</td>\n",
              "      <td>0.033181</td>\n",
              "      <td>0.033733</td>\n",
              "      <td>0.033479</td>\n",
              "      <td>0.033336</td>\n",
              "      <td>0.033465</td>\n",
              "      <td>0.033255</td>\n",
              "      <td>0.033318</td>\n",
              "      <td>0.033472</td>\n",
              "      <td>0.033877</td>\n",
              "      <td>0.033120</td>\n",
              "      <td>0.033208</td>\n",
              "      <td>0.033440</td>\n",
              "      <td>0.033319</td>\n",
              "      <td>0.033060</td>\n",
              "      <td>0.032961</td>\n",
              "      <td>0.033341</td>\n",
              "      <td>0.033546</td>\n",
              "      <td>0.033710</td>\n",
              "      <td>0.033995</td>\n",
              "      <td>0.034027</td>\n",
              "      <td>0.034226</td>\n",
              "      <td>0.034281</td>\n",
              "      <td>0.033991</td>\n",
              "      <td>0.034143</td>\n",
              "    </tr>\n",
              "  </tbody>\n",
              "</table>\n",
              "<p>3 rows × 414 columns</p>\n",
              "</div>"
            ],
            "text/plain": [
              "date  2019-07-29  2019-07-30  2019-07-31  ...  2021-03-16  2021-03-17  2021-03-18\n",
              "650     0.000092    0.000091    0.000093  ...    0.000113    0.000110    0.000112\n",
              "663     0.014007    0.013843    0.013923  ...    0.022831    0.022528    0.022509\n",
              "676     0.028928    0.028703    0.028770  ...    0.034281    0.033991    0.034143\n",
              "\n",
              "[3 rows x 414 columns]"
            ]
          },
          "metadata": {
            "tags": []
          },
          "execution_count": 77
        }
      ]
    },
    {
      "cell_type": "code",
      "metadata": {
        "id": "cc2OJj9iae9Y"
      },
      "source": [
        "for ticker in open_df_prezzoEMPTY.index:\n",
        "  financials_df['exchange_id'].loc[ticker]\n",
        "  open_df_prezzoEMPTY.loc[ticker] = open_df_index.loc[str(financials_df['exchange_id'].loc[ticker])]"
      ],
      "id": "cc2OJj9iae9Y",
      "execution_count": 78,
      "outputs": []
    },
    {
      "cell_type": "code",
      "metadata": {
        "id": "yeX9MyeoBQpZ"
      },
      "source": [
        "ticker_df_index = open_df_prezzo.index\n",
        "for num, col in enumerate(open_df_prezzo.columns):\n",
        "  lista = [np.array([col, col]), np.array(['Price','ExchangeID'])] \n",
        "  if num == 0:\n",
        "    df_trial = pd.DataFrame(data=np.column_stack((open_df_prezzo[col].values, open_df_prezzoEMPTY[col].values)), index= open_df_prezzo.index, columns=lista)\n",
        "  else:\n",
        "    df_trial2 = pd.DataFrame(data=np.column_stack((open_df_prezzo[col].values, open_df_prezzoEMPTY[col].values)), index= open_df_prezzo.index, columns=lista)\n",
        "    df_trial = df_trial.join(df_trial2, how='left')"
      ],
      "id": "yeX9MyeoBQpZ",
      "execution_count": 79,
      "outputs": []
    },
    {
      "cell_type": "code",
      "metadata": {
        "id": "hum-8WhzBQm5",
        "colab": {
          "base_uri": "https://localhost:8080/"
        },
        "outputId": "414dacd7-425b-427a-9009-3e80d4116844"
      },
      "source": [
        "last_df = df_trial.stack(list(range(df_trial.columns.nlevels)))\n",
        "last_df"
      ],
      "id": "hum-8WhzBQm5",
      "execution_count": 82,
      "outputs": [
        {
          "output_type": "execute_result",
          "data": {
            "text/plain": [
              "ticker                        \n",
              "FLWS    2019-07-29  ExchangeID     0.014007\n",
              "                    Price         19.440001\n",
              "        2019-07-30  ExchangeID     0.013843\n",
              "                    Price         19.600000\n",
              "        2019-07-31  ExchangeID     0.013923\n",
              "                                    ...    \n",
              "ZNGA    2021-03-16  Price         10.060000\n",
              "        2021-03-17  ExchangeID     0.022528\n",
              "                    Price         10.160000\n",
              "        2021-03-18  ExchangeID     0.022509\n",
              "                    Price         10.000000\n",
              "Length: 3528936, dtype: float64"
            ]
          },
          "metadata": {
            "tags": []
          },
          "execution_count": 82
        }
      ]
    },
    {
      "cell_type": "code",
      "metadata": {
        "id": "myy3QcezBQkr"
      },
      "source": [
        ""
      ],
      "id": "myy3QcezBQkr",
      "execution_count": null,
      "outputs": []
    },
    {
      "cell_type": "code",
      "metadata": {
        "id": "L-GQDlVGBQh9"
      },
      "source": [
        ""
      ],
      "id": "L-GQDlVGBQh9",
      "execution_count": null,
      "outputs": []
    },
    {
      "cell_type": "code",
      "metadata": {
        "id": "Yw1karJ5BQfC"
      },
      "source": [
        ""
      ],
      "id": "Yw1karJ5BQfC",
      "execution_count": null,
      "outputs": []
    },
    {
      "cell_type": "code",
      "metadata": {
        "id": "42V-m09JBQVr"
      },
      "source": [
        ""
      ],
      "id": "42V-m09JBQVr",
      "execution_count": null,
      "outputs": []
    },
    {
      "cell_type": "code",
      "metadata": {
        "id": "Zf-EqiIZWbH4"
      },
      "source": [
        "%%time\n",
        "for ticker in ticker_list:\n",
        "    \n",
        "    try:\n",
        "        stock_object_dictionary['{0}'.format(ticker)].history = \n",
        "        \n",
        "        # features dataframe, without classification column\n",
        "        features_df = df_concat.loc[ticker]\n",
        "        features_df.drop('label', axis=1, inplace=True)\n",
        "        \n",
        "        # classification array\n",
        "        classification_array = df_concat.loc[ticker]['label'].values\n",
        "\n",
        "        # sacaling data\n",
        "        df_sc_scaled = StandardScaler().fit_transform(features_df)\n",
        "\n",
        "        shuffle_value = True # shuffle, because of this we cannot stratify our label\n",
        "        stratify_value = classification_array # stratify fashion \n",
        "        train_size = 0.80\n",
        "        random_state = None\n",
        "\n",
        "        stock_object_dictionary['{0}'.format(ticker)].confusion_matrix2, stock_object_dictionary['{0}'.format(ticker)].accuracy_report2, stock_object_dictionary['{0}'.format(ticker)].logistic_regression2 = logistic_reg(df_sc_scaled, classification_array, train_size, shuffle_value, stratify_value, random_state) \n",
        "    \n",
        "    except:\n",
        "        pass"
      ],
      "id": "Zf-EqiIZWbH4",
      "execution_count": null,
      "outputs": []
    },
    {
      "cell_type": "code",
      "metadata": {
        "id": "zGB2LRviWbE9"
      },
      "source": [
        ""
      ],
      "id": "zGB2LRviWbE9",
      "execution_count": null,
      "outputs": []
    },
    {
      "cell_type": "code",
      "metadata": {
        "id": "1js7WpzIWbCf"
      },
      "source": [
        ""
      ],
      "id": "1js7WpzIWbCf",
      "execution_count": null,
      "outputs": []
    },
    {
      "cell_type": "code",
      "metadata": {
        "id": "d9MdnHSPWggf"
      },
      "source": [
        ""
      ],
      "id": "d9MdnHSPWggf",
      "execution_count": null,
      "outputs": []
    },
    {
      "cell_type": "code",
      "metadata": {
        "id": "FAQ-VP8aWa_l"
      },
      "source": [
        ""
      ],
      "id": "FAQ-VP8aWa_l",
      "execution_count": null,
      "outputs": []
    },
    {
      "cell_type": "code",
      "metadata": {
        "id": "nhDx21rBWa9K"
      },
      "source": [
        ""
      ],
      "id": "nhDx21rBWa9K",
      "execution_count": null,
      "outputs": []
    },
    {
      "cell_type": "code",
      "metadata": {
        "id": "s0gZP0iNWaw0"
      },
      "source": [
        ""
      ],
      "id": "s0gZP0iNWaw0",
      "execution_count": null,
      "outputs": []
    },
    {
      "cell_type": "markdown",
      "metadata": {
        "id": "honey-mechanism"
      },
      "source": [
        "### &nbsp;&nbsp;&nbsp; * SKLearn preprocessing import to scale data"
      ],
      "id": "honey-mechanism"
    },
    {
      "cell_type": "code",
      "metadata": {
        "id": "diverse-native"
      },
      "source": [
        "from sklearn import preprocessing"
      ],
      "id": "diverse-native",
      "execution_count": null,
      "outputs": []
    },
    {
      "cell_type": "markdown",
      "metadata": {
        "id": "international-origin"
      },
      "source": [
        "### &nbsp;&nbsp;&nbsp; %FEATURE% Preprocessing of input data"
      ],
      "id": "international-origin"
    },
    {
      "cell_type": "code",
      "metadata": {
        "id": "victorian-episode"
      },
      "source": [
        "# relative variation from open to adjusted close price\n",
        "adjclose_rel_var_df = (adjclose_df-open_df)/open_df"
      ],
      "id": "victorian-episode",
      "execution_count": null,
      "outputs": []
    },
    {
      "cell_type": "markdown",
      "metadata": {
        "id": "lyric-quantum"
      },
      "source": [
        "### &nbsp;&nbsp;&nbsp; %FEATURE% Absolute variation between high and low price"
      ],
      "id": "lyric-quantum"
    },
    {
      "cell_type": "code",
      "metadata": {
        "id": "public-hospital"
      },
      "source": [
        "# absolute variation between high and low price\n",
        "high_low_var_df = (high_df-low_df)\n",
        "\n",
        "# to scale the absolute variation between min&max value\n",
        "high_low_var_scaler = preprocessing.MinMaxScaler(feature_range=(0, 1))\n",
        "high_low_var_scaled = high_low_var_scaler.fit_transform(high_low_var_df)\n",
        "high_low_var_scaled_df = pd.DataFrame(data=high_low_var_scaled, index=high_low_var_df.index, columns=high_low_var_df.columns)"
      ],
      "id": "public-hospital",
      "execution_count": null,
      "outputs": []
    },
    {
      "cell_type": "markdown",
      "metadata": {
        "id": "cheap-browser"
      },
      "source": [
        "### &nbsp;&nbsp;&nbsp; %FEATURE% High low absolute variation over adjusted close price"
      ],
      "id": "cheap-browser"
    },
    {
      "cell_type": "code",
      "metadata": {
        "id": "bearing-ranking"
      },
      "source": [
        "# high low absolute variation over adjusted close price\n",
        "high_low_var_df_adjclose = high_low_var_df/adjclose_df"
      ],
      "id": "bearing-ranking",
      "execution_count": null,
      "outputs": []
    },
    {
      "cell_type": "markdown",
      "metadata": {
        "id": "shared-foundation"
      },
      "source": [
        "### &nbsp;&nbsp;&nbsp; %FEATURE% Log Return (adjusted close price log return)"
      ],
      "id": "shared-foundation"
    },
    {
      "cell_type": "code",
      "metadata": {
        "id": "standing-librarian"
      },
      "source": [
        "adjclose_df_log_return = np.log(adjclose_df/adjclose_df.shift(1))"
      ],
      "id": "standing-librarian",
      "execution_count": null,
      "outputs": []
    },
    {
      "cell_type": "markdown",
      "metadata": {
        "id": "surprised-calculator"
      },
      "source": [
        "### &nbsp;&nbsp;&nbsp; * Construction of stack dataset with all features and label to classify"
      ],
      "id": "surprised-calculator"
    },
    {
      "cell_type": "code",
      "metadata": {
        "id": "swedish-technology"
      },
      "source": [
        "adjclose_rel_var_df_t = adjclose_rel_var_df.transpose()\n",
        "adjclose_rel_var_df_stack = adjclose_rel_var_df_t.stack(dropna=False)\n",
        "\n",
        "high_low_var_scaled_df_t = high_low_var_scaled_df.transpose()\n",
        "high_low_var_scaled_df_stack = high_low_var_scaled_df_t.stack(dropna=False)\n",
        "\n",
        "high_low_var_df_adjclose_t = high_low_var_df_adjclose.transpose()\n",
        "high_low_var_df_adjclose_stack = high_low_var_df_adjclose_t.stack(dropna=False)\n",
        "\n",
        "adjclose_df_t = adjclose_df.transpose()\n",
        "adjclose_df_stack = adjclose_df_t.stack(dropna=False)\n",
        "\n",
        "volume_df_t = volume_df.transpose()\n",
        "volume_df_stack = volume_df_t.stack(dropna=False)\n",
        "\n",
        "# classification variable \n",
        "classification_df = (adjclose_df_log_return > 0) * 1\n",
        "classification_df_t = classification_df.transpose()\n",
        "classification_df_t.shift(axis = 1, periods = -1) # sign the day before a rally up with 1 and vice versa with 0 \n",
        "classification_df_stack = classification_df_t.shift(axis = 1, periods = -1).stack(dropna=False)\n",
        "\n",
        "data = {'adjclose_rel_var': adjclose_rel_var_df_stack, \n",
        "        'high_low_var_scaled': high_low_var_scaled_df_stack,\n",
        "        'high_low_var_adjclose': high_low_var_df_adjclose_stack,\n",
        "        'adjclose': adjclose_df_stack,\n",
        "        'volume': volume_df_stack,\n",
        "        'label': classification_df_stack}  \n",
        "\n",
        "df_concat = pd.concat(data, axis=1)\n",
        "df_concat.dropna(axis = 0, how = 'any', inplace=True)\n",
        "df_concat"
      ],
      "id": "swedish-technology",
      "execution_count": null,
      "outputs": []
    },
    {
      "cell_type": "markdown",
      "metadata": {
        "id": "adult-assessment"
      },
      "source": [
        "### &nbsp;&nbsp;&nbsp; * Check the correct number of row in the previous dataframe"
      ],
      "id": "adult-assessment"
    },
    {
      "cell_type": "code",
      "metadata": {
        "id": "fancy-journalism"
      },
      "source": [
        "# check the correct number of row in the previous dataframe\n",
        "len(open_df.columns) * len(open_df.index) - len(open_df.columns)"
      ],
      "id": "fancy-journalism",
      "execution_count": null,
      "outputs": []
    },
    {
      "cell_type": "markdown",
      "metadata": {
        "id": "retired-bacon"
      },
      "source": [
        "### &nbsp;&nbsp;&nbsp; * Construction of stack dataset with other features and label to classify"
      ],
      "id": "retired-bacon"
    },
    {
      "cell_type": "code",
      "metadata": {
        "id": "impressed-documentation"
      },
      "source": [
        "open_df_t = open_df.loc[adjclose_df_log_return.index[0]:adjclose_df_log_return.index[-1]].transpose()\n",
        "open_df_stack = open_df_t.stack()\n",
        "\n",
        "high_df_t = high_df.loc[adjclose_df_log_return.index[0]:adjclose_df_log_return.index[-1]].transpose()\n",
        "high_df_stack = high_df_t.stack()\n",
        "\n",
        "low_df_t = low_df.loc[adjclose_df_log_return.index[0]:adjclose_df_log_return.index[-1]].transpose()\n",
        "low_df_stack = low_df_t.stack()\n",
        "\n",
        "volume_df_t = volume_df.loc[adjclose_df_log_return.index[0]:adjclose_df_log_return.index[-1]].transpose()\n",
        "volume_df_stack = volume_df_t.stack()\n",
        "\n",
        "data = {'open': open_df_stack, \n",
        "        'high': high_df_stack,\n",
        "        'low': low_df_stack,\n",
        "        'adjclose': adjclose_df_stack,\n",
        "        'volume': volume_df_stack,\n",
        "        'label': classification_df_stack} # taken from before computation\n",
        "\n",
        "df_concat2 = pd.concat(data, axis = 1)\n",
        "df_concat2.dropna(axis = 0, how = 'any', inplace = True)\n",
        "df_concat2"
      ],
      "id": "impressed-documentation",
      "execution_count": null,
      "outputs": []
    },
    {
      "cell_type": "markdown",
      "metadata": {
        "id": "yellow-shadow"
      },
      "source": [
        "##### Remember: .std() is sample deviation, whereas the standardization thru StandardScaler use the standard deviation (the difference is the denominator, in the sample std it is used N-1). Moreover, to compute the standard deviation, you can do it in this way: .std(ddof=0)"
      ],
      "id": "yellow-shadow"
    },
    {
      "cell_type": "markdown",
      "metadata": {
        "id": "pf1BD9AuV6_i"
      },
      "source": [
        "# 2.b Second part: computation and assessing "
      ],
      "id": "pf1BD9AuV6_i"
    },
    {
      "cell_type": "markdown",
      "metadata": {
        "id": "short-bowling"
      },
      "source": [
        "# 3. Third part: Deep Learning"
      ],
      "id": "short-bowling"
    },
    {
      "cell_type": "code",
      "metadata": {
        "id": "virgin-insured"
      },
      "source": [
        "import tensorflow as tf \n",
        "from sklearn.preprocessing import StandardScaler\n",
        "from sklearn.model_selection import train_test_split"
      ],
      "id": "virgin-insured",
      "execution_count": null,
      "outputs": []
    },
    {
      "cell_type": "code",
      "metadata": {
        "id": "lightweight-soldier"
      },
      "source": [
        "print(tf.__version__)"
      ],
      "id": "lightweight-soldier",
      "execution_count": null,
      "outputs": []
    },
    {
      "cell_type": "markdown",
      "metadata": {
        "id": "differential-thanksgiving"
      },
      "source": [
        "### &nbsp;&nbsp;&nbsp; %FUNCTION% Function for calling back DL training"
      ],
      "id": "differential-thanksgiving"
    },
    {
      "cell_type": "code",
      "metadata": {
        "id": "concerned-greece"
      },
      "source": [
        "accuracy_limit=.7\n",
        "class myCallback(tf.keras.callbacks.Callback):\n",
        "    def on_epoch_end(self, epoch, logs={}):\n",
        "        if (logs.get('accuracy')>accuracy_limit):\n",
        "            print('--- accuracy higher than ', accuracy_limit)\n",
        "            self.model.stop_training=True"
      ],
      "id": "concerned-greece",
      "execution_count": null,
      "outputs": []
    },
    {
      "cell_type": "code",
      "metadata": {
        "id": "quality-prescription"
      },
      "source": [
        "ticker = 'AAPL'\n",
        "\n",
        "# features dataframe, without classification column\n",
        "features_df = df_concat.loc[ticker]\n",
        "features_df.drop('label', axis=1, inplace=True)\n",
        "\n",
        "# classification array\n",
        "classification_array = df_concat.loc[ticker]['label'].values\n",
        "\n",
        "# sacaling data\n",
        "df_sc_scaled = StandardScaler().fit_transform(features_df)\n",
        "\n",
        "shuffle_value = False # no shuffle, because of this we cannot stratify our label\n",
        "stratify_value = None\n",
        "train_size = 0.80\n",
        "random_state = None\n",
        "\n",
        "# define train set and test set \n",
        "x_train, x_test, y_train, y_test = train_test_split(features_df, classification_array, train_size = train_size, shuffle = shuffle_value, stratify = stratify_value, random_state = random_state)"
      ],
      "id": "quality-prescription",
      "execution_count": null,
      "outputs": []
    },
    {
      "cell_type": "code",
      "metadata": {
        "id": "electric-memphis"
      },
      "source": [
        "callbacks=myCallback()"
      ],
      "id": "electric-memphis",
      "execution_count": null,
      "outputs": []
    },
    {
      "cell_type": "code",
      "metadata": {
        "id": "nervous-catalyst"
      },
      "source": [
        "model=tf.keras.models.Sequential([tf.keras.layers.Flatten(),\n",
        "                                   tf.keras.layers.Dense(units=500, activation=tf.nn.relu),\n",
        "                                   tf.keras.layers.Dense(units=2, activation=tf.nn.softmax)])"
      ],
      "id": "nervous-catalyst",
      "execution_count": null,
      "outputs": []
    },
    {
      "cell_type": "code",
      "metadata": {
        "id": "assisted-russell"
      },
      "source": [
        "model.compile(optimizer='adam', loss='sparse_categorical_crossentropy', metrics=['accuracy'])"
      ],
      "id": "assisted-russell",
      "execution_count": null,
      "outputs": []
    },
    {
      "cell_type": "code",
      "metadata": {
        "id": "parallel-extraction"
      },
      "source": [
        "model.fit(x_train, y_train, epochs=100, callbacks=[callbacks])"
      ],
      "id": "parallel-extraction",
      "execution_count": null,
      "outputs": []
    },
    {
      "cell_type": "code",
      "metadata": {
        "id": "jewish-attempt"
      },
      "source": [
        "stock_object_dictionary['{0}'.format(ticker)].confusion_matrix, stock_object_dictionary['{0}'.format(ticker)].accuracy_report = logistic_reg(df_sc_scaled, classification_array, train_size, shuffle_value, stratify_value, random_stat) "
      ],
      "id": "jewish-attempt",
      "execution_count": null,
      "outputs": []
    },
    {
      "cell_type": "markdown",
      "metadata": {
        "id": "GOgxwoSoW1Mg"
      },
      "source": [
        ""
      ],
      "id": "GOgxwoSoW1Mg"
    },
    {
      "cell_type": "code",
      "metadata": {
        "id": "educated-rehabilitation"
      },
      "source": [
        ""
      ],
      "id": "educated-rehabilitation",
      "execution_count": null,
      "outputs": []
    },
    {
      "cell_type": "code",
      "metadata": {
        "id": "supposed-february"
      },
      "source": [
        ""
      ],
      "id": "supposed-february",
      "execution_count": null,
      "outputs": []
    },
    {
      "cell_type": "code",
      "metadata": {
        "id": "square-physics"
      },
      "source": [
        ""
      ],
      "id": "square-physics",
      "execution_count": null,
      "outputs": []
    },
    {
      "cell_type": "code",
      "metadata": {
        "id": "proud-destruction"
      },
      "source": [
        ""
      ],
      "id": "proud-destruction",
      "execution_count": null,
      "outputs": []
    },
    {
      "cell_type": "markdown",
      "metadata": {
        "id": "burning-settle"
      },
      "source": [
        "### a. Trial 1: No Shuffle (i.e. No Stratify) - 80/20 - scaled features"
      ],
      "id": "burning-settle"
    }
  ]
}