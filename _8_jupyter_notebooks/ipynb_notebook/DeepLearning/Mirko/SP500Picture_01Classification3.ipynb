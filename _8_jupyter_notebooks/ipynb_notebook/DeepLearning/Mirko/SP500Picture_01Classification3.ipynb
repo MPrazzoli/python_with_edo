{
  "nbformat": 4,
  "nbformat_minor": 5,
  "metadata": {
    "kernelspec": {
      "display_name": "Python [conda env:py_37] *",
      "language": "python",
      "name": "conda-env-py_37-py"
    },
    "language_info": {
      "codemirror_mode": {
        "name": "ipython",
        "version": 3
      },
      "file_extension": ".py",
      "mimetype": "text/x-python",
      "name": "python",
      "nbconvert_exporter": "python",
      "pygments_lexer": "ipython3",
      "version": "3.7.10"
    },
    "colab": {
      "name": "SP500Picture_01Classification.ipynb",
      "provenance": [],
      "toc_visible": true
    }
  },
  "cells": [
    {
      "cell_type": "code",
      "metadata": {
        "id": "hJvvp8WXGNBT",
        "colab": {
          "base_uri": "https://localhost:8080/"
        },
        "outputId": "c2771074-d31a-4125-80c2-f22fa65c32d5"
      },
      "source": [
        "from google.colab import drive\n",
        "drive.mount('/content/drive')"
      ],
      "id": "hJvvp8WXGNBT",
      "execution_count": 1,
      "outputs": [
        {
          "output_type": "stream",
          "text": [
            "Mounted at /content/drive\n"
          ],
          "name": "stdout"
        }
      ]
    },
    {
      "cell_type": "code",
      "metadata": {
        "id": "substantial-notification"
      },
      "source": [
        "# python_version 3.7.10"
      ],
      "id": "substantial-notification",
      "execution_count": null,
      "outputs": []
    },
    {
      "cell_type": "markdown",
      "metadata": {
        "id": "pharmaceutical-chair"
      },
      "source": [
        "### &nbsp;&nbsp;&nbsp; %CLASS% StockClass: used to create the stock dictionary"
      ],
      "id": "pharmaceutical-chair"
    },
    {
      "cell_type": "code",
      "metadata": {
        "id": "lasting-knight"
      },
      "source": [
        "class StockClass(object):\n",
        "\n",
        "    # Initialization of the StockClass object with the ticker symbol which is use to construct a yf.Ticker object\n",
        "    def __init__(self, ticker, isin=None, exchangeid=None, sector=None, industry=None, country=None, pe=None, eps=None,\n",
        "                 insiderown=None, shsout=None, shsfloat=None, mktcap=None, income=None, sales=None,\n",
        "                 booksh=None, pb=None, roa=None, tp=None, roe=None, roi=None, employees=None, debteq=None, \n",
        "                 groupby=None, confusion_matrix=None, accuracy_report=None, \n",
        "                 confusion_matrix2=None, accuracy_report2=None):\n",
        "        self.name = ticker\n",
        "        self.isin = isin\n",
        "        self.exchangeid = exchangeid\n",
        "        # self.history is the method of the SotckClass object to store data in DataFrame format\n",
        "        self.history = pd.DataFrame\n",
        "        self.investing = pd.DataFrame\n",
        "        self.pickle = pd.DataFrame\n",
        "        self.not_found = np.array([['date', 'ticker']])\n",
        "        self.nanDiv = False\n",
        "        self.nanSplit = False\n",
        "        self.sector = None\n",
        "        self.industry = industry\n",
        "        self.country = country\n",
        "        self.pe = pe\n",
        "        self.eps = eps\n",
        "        self.insiderown = insiderown\n",
        "        self.shsout = shsout\n",
        "        self.shsfloat = shsfloat\n",
        "        self.mktcap = mktcap\n",
        "        self.income = income\n",
        "        self.sales = sales\n",
        "        self.bookh = booksh\n",
        "        self.pb = pb\n",
        "        self.roa = roa\n",
        "        self.tp = tp\n",
        "        self.roe = roe\n",
        "        self.roi = roi\n",
        "        self.employees = employees\n",
        "        self.debteq = debteq\n",
        "        self.rsi = pd.DataFrame\n",
        "        self.groupby = groupby\n",
        "        self.confusion_matrix = confusion_matrix\n",
        "        self.accuracy_report = accuracy_report\n",
        "        self.confusion_matrix2 = confusion_matrix2\n",
        "        self.accuracy_report2 = accuracy_report2"
      ],
      "id": "lasting-knight",
      "execution_count": 2,
      "outputs": []
    },
    {
      "cell_type": "code",
      "metadata": {
        "id": "Y5PPFI30tXV6"
      },
      "source": [
        "class IndexClass(object):\n",
        "\n",
        "    # Initialization of the IndexClass object\n",
        "    def __init__(self, description='', groupby=None, open=None, high=None, low=None, adjclose=None):\n",
        "        self.description = description\n",
        "        self.groupby = groupby\n",
        "        self.open =  pd.DataFrame\n",
        "        self.high =  pd.DataFrame\n",
        "        self.low =  pd.DataFrame\n",
        "        self.adjclose =  pd.DataFrame"
      ],
      "id": "Y5PPFI30tXV6",
      "execution_count": 3,
      "outputs": []
    },
    {
      "cell_type": "markdown",
      "metadata": {
        "id": "dried-compilation"
      },
      "source": [
        "# 1. First part: import data, cleaning and arranging "
      ],
      "id": "dried-compilation"
    },
    {
      "cell_type": "markdown",
      "metadata": {
        "id": "8hvFCaQZmPp_"
      },
      "source": [
        ""
      ],
      "id": "8hvFCaQZmPp_"
    },
    {
      "cell_type": "markdown",
      "metadata": {
        "id": "waiting-performer"
      },
      "source": [
        "### &nbsp;&nbsp;&nbsp; * Main packages import"
      ],
      "id": "waiting-performer"
    },
    {
      "cell_type": "code",
      "metadata": {
        "tags": [],
        "id": "educated-vertical"
      },
      "source": [
        "import numpy as np\n",
        "import pandas as pd\n",
        "import warnings\n",
        "warnings.filterwarnings('ignore')"
      ],
      "id": "educated-vertical",
      "execution_count": 4,
      "outputs": []
    },
    {
      "cell_type": "markdown",
      "metadata": {
        "id": "identical-seafood"
      },
      "source": [
        "### &nbsp;&nbsp;&nbsp; * Data import"
      ],
      "id": "identical-seafood"
    },
    {
      "cell_type": "code",
      "metadata": {
        "id": "welcome-packaging"
      },
      "source": [
        "open_df_original = pd.read_csv('/content/drive/MyDrive/Data/20210322/open', index_col='date')\n",
        "high_df_original = pd.read_csv('/content/drive/MyDrive/Data/20210322/high', index_col='date')\n",
        "low_df_original = pd.read_csv('/content/drive/MyDrive/Data/20210322/low', index_col='date')\n",
        "adjclose_df_original = pd.read_csv('/content/drive/MyDrive/Data/20210322/adjclose', index_col='date')\n",
        "volume_df_original = pd.read_csv('/content/drive/MyDrive/Data/20210322/volume', index_col='date')"
      ],
      "id": "welcome-packaging",
      "execution_count": 5,
      "outputs": []
    },
    {
      "cell_type": "code",
      "metadata": {
        "id": "Vj-wnVKFPvaw"
      },
      "source": [
        "financials_df_original = pd.read_excel('/content/drive/MyDrive/Data/20210322/ticker_isin_file_financials.xlsx', na_values=['NA'], usecols = 'A:E,J', index_col='ticker')"
      ],
      "id": "Vj-wnVKFPvaw",
      "execution_count": 60,
      "outputs": []
    },
    {
      "cell_type": "code",
      "metadata": {
        "id": "fa-toOonPxa2"
      },
      "source": [
        "ticker_list = list(adjclose_df_original.columns)"
      ],
      "id": "fa-toOonPxa2",
      "execution_count": 61,
      "outputs": []
    },
    {
      "cell_type": "code",
      "metadata": {
        "id": "qV5utEImM_9F",
        "colab": {
          "base_uri": "https://localhost:8080/"
        },
        "outputId": "3aa047d3-9f74-454c-da96-901603f87095"
      },
      "source": [
        "# to drop columns with the end of the series NaN (probably not quoted anymore)\n",
        "if open_df_original.isnull().values.any():\n",
        "    print('open shape before: ', open_df_original.shape)\n",
        "    open_df_original.dropna(axis=1, how='any', inplace=True)\n",
        "print('open shape after: ', open_df_original.shape)    \n",
        "if high_df_original.isnull().values.any():\n",
        "    print('high shape before: ', high_df_original.shape)\n",
        "    high_df_original.dropna(axis=1, how='any', inplace=True)\n",
        "print('high shape after: ', high_df_original.shape)  \n",
        "if low_df_original.isnull().values.any():\n",
        "    print('low shape before: ', low_df_original.shape)\n",
        "    low_df_original.dropna(axis=1, how='any', inplace=True)\n",
        "print('low shape after: ', low_df_original.shape)    \n",
        "if adjclose_df_original.isnull().values.any():\n",
        "    print('high shape before: ', adjclose_df_original.shape)\n",
        "    adjclose_df_original.dropna(axis=1, how='any', inplace=True)\n",
        "print('high shape after: ', adjclose_df_original.shape)    \n",
        "if volume_df_original.isnull().values.any():\n",
        "    print('high shape before: ', volume_df_original.shape)\n",
        "    volume_df_original.dropna(axis=1, how='any', inplace=True)\n",
        "print('high shape after: ', volume_df_original.shape)   \n",
        "if financials_df_original.isnull().values.any():\n",
        "    print('financials shape before: ', financials_df_original.shape)\n",
        "    financials_df_original.dropna(axis=0, how='any', inplace=True)\n",
        "print('financials shape after: ', financials_df_original.transpose().shape)      "
      ],
      "id": "qV5utEImM_9F",
      "execution_count": 62,
      "outputs": [
        {
          "output_type": "stream",
          "text": [
            "open shape after:  (415, 4534)\n",
            "high shape after:  (415, 4534)\n",
            "low shape after:  (415, 4534)\n",
            "high shape after:  (415, 4534)\n",
            "high shape after:  (415, 4534)\n",
            "financials shape before:  (5143, 5)\n",
            "financials shape after:  (5, 4731)\n"
          ],
          "name": "stdout"
        }
      ]
    },
    {
      "cell_type": "code",
      "metadata": {
        "id": "ckCPXGjyJhSl"
      },
      "source": [
        "open_df = open_df_original.drop(index=open_df_original.iloc[-1:].index)\n",
        "high_df = high_df_original.drop(index=high_df_original.iloc[-1:].index)\n",
        "low_df = low_df_original.drop(index=low_df_original.iloc[-1:].index)\n",
        "adjclose_df = adjclose_df_original.drop(index=adjclose_df_original.iloc[-1:].index)\n",
        "volume_df = volume_df_original.drop(index=volume_df_original.iloc[-1:].index)"
      ],
      "id": "ckCPXGjyJhSl",
      "execution_count": 63,
      "outputs": []
    },
    {
      "cell_type": "markdown",
      "metadata": {
        "id": "afraid-queensland"
      },
      "source": [
        "# 2 Second part: computation and assessing "
      ],
      "id": "afraid-queensland"
    },
    {
      "cell_type": "markdown",
      "metadata": {
        "id": "mH2H-uILWU7w"
      },
      "source": [
        "# 2.a Indeces computation"
      ],
      "id": "mH2H-uILWU7w"
    },
    {
      "cell_type": "markdown",
      "metadata": {
        "tags": [],
        "id": "oriented-relaxation"
      },
      "source": [
        "### &nbsp;&nbsp;&nbsp; * Definition of the StockClass dictionary"
      ],
      "id": "oriented-relaxation"
    },
    {
      "cell_type": "code",
      "metadata": {
        "id": "pressing-interstate"
      },
      "source": [
        "# Definition of a dictionary to store stock as StockClass instances and for each stock get attribute\n",
        "# (take a look at _2_0_stock_dataframe_class.py for more information)\n",
        "stock_object_dictionary = {'{0}'.format(ticker): StockClass(ticker=ticker_list) for ticker in ticker_list}"
      ],
      "id": "pressing-interstate",
      "execution_count": 64,
      "outputs": []
    },
    {
      "cell_type": "code",
      "metadata": {
        "id": "kvoAWauCaH43"
      },
      "source": [
        "financials_df_original.rename(columns={'Shs Outstand':'market_cap', 'Sector':'sector', 'Industry':'industry'}, inplace=True)\n",
        "financials_df = financials_df_original.dropna(axis=0, how='any')\n",
        "financials_df = financials_df[financials_df['market_cap']!='-']"
      ],
      "id": "kvoAWauCaH43",
      "execution_count": 65,
      "outputs": []
    },
    {
      "cell_type": "code",
      "metadata": {
        "id": "up-4fA4GQgyQ"
      },
      "source": [
        "# Remove rows which has no market data in price dataframe\n",
        "main_list = list(set(financials_df.index) - set(adjclose_df.columns))\n",
        "financials_df.drop(index=main_list, inplace=True)"
      ],
      "id": "up-4fA4GQgyQ",
      "execution_count": 66,
      "outputs": []
    },
    {
      "cell_type": "code",
      "metadata": {
        "id": "xCJnkmKfwaDE"
      },
      "source": [
        "# GroupBy\n",
        "exchange_id_group = financials_df.groupby(['exchange_id'])\n",
        "sector_group = financials_df.groupby(['sector'])\n",
        "industry_group = financials_df.groupby(['industry'])\n",
        "\n",
        "num_of_quantiles = 10\n",
        "financials_df['market_cap_group'] = np.nan\n",
        "mkt_cap_quantiles = []\n",
        "for q in np.linspace(1/num_of_quantiles, 1, num_of_quantiles):\n",
        "  mkt_cap_quantiles.append(financials_df['market_cap'].quantile(q))\n",
        "for ticker in financials_df.index:\n",
        "    for i, q in enumerate(mkt_cap_quantiles):\n",
        "        if financials_df['market_cap'].loc[ticker] < q:\n",
        "            financials_df['market_cap_group'].loc[ticker] = i\n",
        "            break\n",
        "\n",
        "# Group by Market Cap Range\n",
        "marketcap_group = financials_df.groupby(['market_cap_group'])"
      ],
      "id": "xCJnkmKfwaDE",
      "execution_count": 67,
      "outputs": []
    },
    {
      "cell_type": "code",
      "metadata": {
        "id": "2a4VUMVqpFc7"
      },
      "source": [
        "# Definition of a dictionary to store indeces as IndexClass instances (exchange_id)\n",
        "index_object_dictionary_exid = {'{0}'.format(exid): IndexClass(description=exid, groupby='exchange_id') for exid in exchange_id_group.groups.keys()}\n",
        "# Definition of a dictionary to store indeces as IndexClass instances (Sector)\n",
        "index_object_dictionary_sec = {'{0}'.format(sec): IndexClass(description=sec, groupby='sector') for sec in sector_group.groups.keys()}\n",
        "#  Definition of a dictionary to store indeces as IndexClass instances (Industry)\n",
        "index_object_dictionary_ind = {'{0}'.format(ind): IndexClass(description=ind, groupby='industry') for ind in industry_group.groups.keys()}\n",
        "#  Definition of a dictionary to store indeces as IndexClass instances (Market Cap)\n",
        "index_object_dictionary_mktcap = {'{0}'.format(mktcap): IndexClass(description=mktcap, groupby='market_cap') for mktcap in marketcap_group.groups.keys()}"
      ],
      "id": "2a4VUMVqpFc7",
      "execution_count": 68,
      "outputs": []
    },
    {
      "cell_type": "code",
      "metadata": {
        "id": "lI7ffBoTI8fv"
      },
      "source": [
        "forfiles = ['open', 'high', 'low', 'adjclose']"
      ],
      "id": "lI7ffBoTI8fv",
      "execution_count": 69,
      "outputs": []
    },
    {
      "cell_type": "code",
      "metadata": {
        "id": "t3SmOMuHXf6j"
      },
      "source": [
        "list_of_stock_to_erase = [] \n",
        "for i, exid in enumerate(exchange_id_group.groups.keys()):\n",
        "  open_df_exchange_id = open_df[exchange_id_group.groups[list(exchange_id_group.groups.keys())[i]]]\n",
        "  high_df_exchange_id = high_df[exchange_id_group.groups[list(exchange_id_group.groups.keys())[i]]]\n",
        "  low_df_exchange_id = low_df[exchange_id_group.groups[list(exchange_id_group.groups.keys())[i]]]\n",
        "  adjclose_df_exchange_id = adjclose_df[exchange_id_group.groups[list(exchange_id_group.groups.keys())[i]]]\n",
        "  for ticker in exchange_id_group.groups[list(exchange_id_group.groups.keys())[i]]:\n",
        "    try:\n",
        "      open_df_exchange_id[ticker] = open_df_exchange_id[ticker] * financials_df['market_cap'].loc[ticker]\n",
        "      high_df_exchange_id[ticker] = high_df_exchange_id[ticker] * financials_df['market_cap'].loc[ticker]\n",
        "      low_df_exchange_id[ticker] = low_df_exchange_id[ticker] * financials_df['market_cap'].loc[ticker]\n",
        "      adjclose_df_exchange_id[ticker] = adjclose_df_exchange_id[ticker] * financials_df['market_cap'].loc[ticker]\n",
        "    except:\n",
        "      list_of_stock_to_erase.append(ticker)\n",
        "\n",
        "  index_object_dictionary_exid['{0}'.format(exid)].open = open_df_exchange_id.sum(axis=1)/1000000000000000\n",
        "  index_object_dictionary_exid['{0}'.format(exid)].high = high_df_exchange_id.sum(axis=1)/1000000000000000\n",
        "  index_object_dictionary_exid['{0}'.format(exid)].low = low_df_exchange_id.sum(axis=1)/1000000000000000\n",
        "  index_object_dictionary_exid['{0}'.format(exid)].adjclose = adjclose_df_exchange_id.sum(axis=1)/1000000000000000\n",
        "  \n",
        "for i, exid in enumerate(index_object_dictionary_exid.keys()):\n",
        "  if i == 0:\n",
        "    open = pd.DataFrame(index_object_dictionary_exid['{0}'.format(exid)].open, columns=[exid])\n",
        "    high = pd.DataFrame(index_object_dictionary_exid['{0}'.format(exid)].high, columns=[exid])\n",
        "    low = pd.DataFrame(index_object_dictionary_exid['{0}'.format(exid)].low, columns=[exid])\n",
        "    adjclose = pd.DataFrame(index_object_dictionary_exid['{0}'.format(exid)].adjclose, columns=[exid])\n",
        "  else:\n",
        "    open = pd.concat([open, pd.DataFrame(index_object_dictionary_exid['{0}'.format(exid)].open, columns=[exid])], axis=1)\n",
        "    high = pd.concat([high, pd.DataFrame(index_object_dictionary_exid['{0}'.format(exid)].high, columns=[exid])], axis=1)\n",
        "    low = pd.concat([low, pd.DataFrame(index_object_dictionary_exid['{0}'.format(exid)].low, columns=[exid])], axis=1)\n",
        "    adjclose = pd.concat([adjclose, pd.DataFrame(index_object_dictionary_exid['{0}'.format(exid)].adjclose, columns=[exid])], axis=1)\n",
        "\n",
        "for f in forfiles:\n",
        "  filename = 'exchange_id ' + f \n",
        "  if f == 'open':\n",
        "    open.to_csv(filename, index=True)\n",
        "  if f == 'high':\n",
        "    high.to_csv(filename, index=True)\n",
        "  if f == 'low':\n",
        "    low.to_csv(filename, index=True)\n",
        "  if f == 'adjclose':\n",
        "    adjclose.to_csv(filename, index=True)"
      ],
      "id": "t3SmOMuHXf6j",
      "execution_count": 70,
      "outputs": []
    },
    {
      "cell_type": "code",
      "metadata": {
        "id": "MWOIFozldZPO"
      },
      "source": [
        "list_of_stock_to_erase = [] \n",
        "for i, sec in enumerate(sector_group.groups.keys()):\n",
        "  open_df_sector = open_df[sector_group.groups[list(sector_group.groups.keys())[i]]]\n",
        "  high_df_sector = high_df[sector_group.groups[list(sector_group.groups.keys())[i]]]\n",
        "  low_df_sector = low_df[sector_group.groups[list(sector_group.groups.keys())[i]]]\n",
        "  adjclose_df_sector = adjclose_df[sector_group.groups[list(sector_group.groups.keys())[i]]]\n",
        "  for ticker in sector_group.groups[list(sector_group.groups.keys())[i]]:\n",
        "    try:\n",
        "      open_df_sector[ticker] = open_df_sector[ticker] * financials_df['market_cap'].loc[ticker]\n",
        "      high_df_sector[ticker] = high_df_sector[ticker] * financials_df['market_cap'].loc[ticker]\n",
        "      low_df_sector[ticker] = low_df_sector[ticker] * financials_df['market_cap'].loc[ticker]\n",
        "      adjclose_df_sector[ticker] = adjclose_df_sector[ticker] * financials_df['market_cap'].loc[ticker]\n",
        "    except:\n",
        "      list_of_stock_to_erase.append(ticker)\n",
        "\n",
        "  index_object_dictionary_sec['{0}'.format(sec)].open = open_df_sector.sum(axis=1)/1000000000000000\n",
        "  index_object_dictionary_sec['{0}'.format(sec)].high = high_df_sector.sum(axis=1)/1000000000000000\n",
        "  index_object_dictionary_sec['{0}'.format(sec)].low = low_df_sector.sum(axis=1)/1000000000000000\n",
        "  index_object_dictionary_sec['{0}'.format(sec)].adjclose = adjclose_df_sector.sum(axis=1)/1000000000000000\n",
        "\n",
        "for i, sec in enumerate(index_object_dictionary_sec.keys()):\n",
        "  if i == 0:\n",
        "    open = pd.DataFrame(index_object_dictionary_sec['{0}'.format(sec)].open, columns=[sec])\n",
        "    high = pd.DataFrame(index_object_dictionary_sec['{0}'.format(sec)].high, columns=[sec])\n",
        "    low = pd.DataFrame(index_object_dictionary_sec['{0}'.format(sec)].low, columns=[sec])\n",
        "    adjclose = pd.DataFrame(index_object_dictionary_sec['{0}'.format(sec)].adjclose, columns=[sec])\n",
        "  else:\n",
        "    open = pd.concat([open, pd.DataFrame(index_object_dictionary_sec['{0}'.format(sec)].open, columns=[sec])], axis=1)\n",
        "    high = pd.concat([high, pd.DataFrame(index_object_dictionary_sec['{0}'.format(sec)].high, columns=[sec])], axis=1)\n",
        "    low = pd.concat([low, pd.DataFrame(index_object_dictionary_sec['{0}'.format(sec)].low, columns=[sec])], axis=1)\n",
        "    adjclose = pd.concat([adjclose, pd.DataFrame(index_object_dictionary_sec['{0}'.format(sec)].adjclose, columns=[sec])], axis=1)\n",
        "\n",
        "for f in forfiles:\n",
        "  filename = 'sector ' + f \n",
        "  if f == 'open':\n",
        "    open.to_csv(filename, index=True)\n",
        "  if f == 'high':\n",
        "    high.to_csv(filename, index=True)\n",
        "  if f == 'low':\n",
        "    low.to_csv(filename, index=True)\n",
        "  if f == 'adjclose':\n",
        "    adjclose.to_csv(filename, index=True)"
      ],
      "id": "MWOIFozldZPO",
      "execution_count": 71,
      "outputs": []
    },
    {
      "cell_type": "code",
      "metadata": {
        "id": "IBwuvNCAdaA8"
      },
      "source": [
        "list_of_stock_to_erase = [] \n",
        "for i, ind in enumerate(industry_group.groups.keys()):\n",
        "  open_df_industry = open_df[industry_group.groups[list(industry_group.groups.keys())[i]]]\n",
        "  high_df_industry = high_df[industry_group.groups[list(industry_group.groups.keys())[i]]]\n",
        "  low_df_industry = low_df[industry_group.groups[list(industry_group.groups.keys())[i]]]\n",
        "  adjclose_df_industry = adjclose_df[industry_group.groups[list(industry_group.groups.keys())[i]]]\n",
        "  for ticker in industry_group.groups[list(industry_group.groups.keys())[i]]:\n",
        "    try:\n",
        "      open_df_industry[ticker] = open_df_industry[ticker] * financials_df['market_cap'].loc[ticker]\n",
        "      high_df_industry[ticker] = high_df_industry[ticker] * financials_df['market_cap'].loc[ticker]\n",
        "      low_df_industry[ticker] = low_df_industry[ticker] * financials_df['market_cap'].loc[ticker]\n",
        "      adjclose_df_industry[ticker] = adjclose_df_industry[ticker] * financials_df['market_cap'].loc[ticker]\n",
        "    except:\n",
        "      list_of_stock_to_erase.append(ticker)\n",
        "\n",
        "  index_object_dictionary_ind['{0}'.format(ind)].open = open_df_industry.sum(axis=1)/1000000000000000\n",
        "  index_object_dictionary_ind['{0}'.format(ind)].high = high_df_industry.sum(axis=1)/1000000000000000\n",
        "  index_object_dictionary_ind['{0}'.format(ind)].low = low_df_industry.sum(axis=1)/1000000000000000\n",
        "  index_object_dictionary_ind['{0}'.format(ind)].adjclose = adjclose_df_industry.sum(axis=1)/1000000000000000\n",
        "\n",
        "for i, ind in enumerate(index_object_dictionary_ind.keys()):\n",
        "  if i == 0:\n",
        "    open = pd.DataFrame(index_object_dictionary_ind['{0}'.format(ind)].open, columns=[ind])\n",
        "    high = pd.DataFrame(index_object_dictionary_ind['{0}'.format(ind)].high, columns=[ind])\n",
        "    low = pd.DataFrame(index_object_dictionary_ind['{0}'.format(ind)].low, columns=[ind])\n",
        "    adjclose = pd.DataFrame(index_object_dictionary_ind['{0}'.format(ind)].adjclose, columns=[ind])\n",
        "  else:\n",
        "    open = pd.concat([open, pd.DataFrame(index_object_dictionary_ind['{0}'.format(ind)].open, columns=[ind])], axis=1)\n",
        "    high = pd.concat([high, pd.DataFrame(index_object_dictionary_ind['{0}'.format(ind)].high, columns=[ind])], axis=1)\n",
        "    low = pd.concat([low, pd.DataFrame(index_object_dictionary_ind['{0}'.format(ind)].low, columns=[ind])], axis=1)\n",
        "    adjclose = pd.concat([adjclose, pd.DataFrame(index_object_dictionary_ind['{0}'.format(ind)].adjclose, columns=[ind])], axis=1)\n",
        "\n",
        "for f in forfiles:\n",
        "  filename = 'industry ' + f \n",
        "  if f == 'open':\n",
        "    open.to_csv(filename, index=True)\n",
        "  if f == 'high':\n",
        "    high.to_csv(filename, index=True)\n",
        "  if f == 'low':\n",
        "    low.to_csv(filename, index=True)\n",
        "  if f == 'adjclose':\n",
        "    adjclose.to_csv(filename, index=True)"
      ],
      "id": "IBwuvNCAdaA8",
      "execution_count": 72,
      "outputs": []
    },
    {
      "cell_type": "code",
      "metadata": {
        "id": "_RlDQfPTdaj_"
      },
      "source": [
        "list_of_stock_to_erase = [] \n",
        "for i, mktcap in enumerate(marketcap_group.groups.keys()):\n",
        "  open_df_marketcap = open_df[marketcap_group.groups[list(marketcap_group.groups.keys())[i]]]\n",
        "  high_df_marketcap = high_df[marketcap_group.groups[list(marketcap_group.groups.keys())[i]]]\n",
        "  low_df_marketcap = low_df[marketcap_group.groups[list(marketcap_group.groups.keys())[i]]]\n",
        "  adjclose_df_marketcap = adjclose_df[marketcap_group.groups[list(marketcap_group.groups.keys())[i]]]\n",
        "  for ticker in marketcap_group.groups[list(marketcap_group.groups.keys())[i]]:\n",
        "    try:\n",
        "      open_df_marketcap[ticker] = open_df_marketcap[ticker] * financials_df['market_cap'].loc[ticker]\n",
        "      high_df_marketcap[ticker] = high_df_marketcap[ticker] * financials_df['market_cap'].loc[ticker]\n",
        "      low_df_marketcap[ticker] = low_df_marketcap[ticker] * financials_df['market_cap'].loc[ticker]\n",
        "      adjclose_df_marketcap[ticker] = adjclose_df_marketcap[ticker] * financials_df['market_cap'].loc[ticker]\n",
        "    except:\n",
        "      list_of_stock_to_erase.append(ticker)\n",
        "\n",
        "  index_object_dictionary_mktcap['{0}'.format(mktcap)].open = open_df_marketcap.sum(axis=1)/1000000000000000\n",
        "  index_object_dictionary_mktcap['{0}'.format(mktcap)].high = high_df_marketcap.sum(axis=1)/1000000000000000\n",
        "  index_object_dictionary_mktcap['{0}'.format(mktcap)].low = low_df_marketcap.sum(axis=1)/1000000000000000\n",
        "  index_object_dictionary_mktcap['{0}'.format(mktcap)].adjclose = adjclose_df_marketcap.sum(axis=1)/1000000000000000\n",
        "\n",
        "for i, mktcap in enumerate(index_object_dictionary_mktcap.keys()):\n",
        "  if i == 0:\n",
        "    open = pd.DataFrame(index_object_dictionary_mktcap['{0}'.format(mktcap)].open, columns=[mktcap])\n",
        "    high = pd.DataFrame(index_object_dictionary_mktcap['{0}'.format(mktcap)].high, columns=[mktcap])\n",
        "    low = pd.DataFrame(index_object_dictionary_mktcap['{0}'.format(mktcap)].low, columns=[mktcap])\n",
        "    adjclose = pd.DataFrame(index_object_dictionary_mktcap['{0}'.format(mktcap)].adjclose, columns=[mktcap])\n",
        "  else:\n",
        "    open = pd.concat([open, pd.DataFrame(index_object_dictionary_mktcap['{0}'.format(mktcap)].open, columns=[mktcap])], axis=1)\n",
        "    high = pd.concat([high, pd.DataFrame(index_object_dictionary_mktcap['{0}'.format(mktcap)].high, columns=[mktcap])], axis=1)\n",
        "    low = pd.concat([low, pd.DataFrame(index_object_dictionary_mktcap['{0}'.format(mktcap)].low, columns=[mktcap])], axis=1)\n",
        "    adjclose = pd.concat([adjclose, pd.DataFrame(index_object_dictionary_mktcap['{0}'.format(mktcap)].adjclose, columns=[mktcap])], axis=1)\n",
        "\n",
        "for f in forfiles:\n",
        "  filename = 'market_cap ' + f \n",
        "  if f == 'open':\n",
        "    open.to_csv(filename, index=True)\n",
        "  if f == 'high':\n",
        "    high.to_csv(filename, index=True)\n",
        "  if f == 'low':\n",
        "    low.to_csv(filename, index=True)\n",
        "  if f == 'adjclose':\n",
        "    adjclose.to_csv(filename, index=True)"
      ],
      "id": "_RlDQfPTdaj_",
      "execution_count": 73,
      "outputs": []
    },
    {
      "cell_type": "code",
      "metadata": {
        "id": "eU68kvSkNMeX"
      },
      "source": [
        "list_of_history = ['price','exchange_id', 'sector', 'industry', 'market_cap'] "
      ],
      "id": "eU68kvSkNMeX",
      "execution_count": 74,
      "outputs": []
    },
    {
      "cell_type": "code",
      "metadata": {
        "id": "8E-noeBZVwXx"
      },
      "source": [
        ""
      ],
      "id": "8E-noeBZVwXx",
      "execution_count": null,
      "outputs": []
    },
    {
      "cell_type": "code",
      "metadata": {
        "id": "LaNIlox5LjRP"
      },
      "source": [
        "class IndexClass(object):\n",
        "\n",
        "    # Initialization of the IndexClass object\n",
        "    def __init__(self, description='', groupby=None, open=None, high=None, low=None, adjclose=None):\n",
        "        self.description = description\n",
        "        self.open =  pd.DataFrame\n",
        "        self.high =  pd.DataFrame\n",
        "        self.low =  pd.DataFrame\n",
        "        self.adjclose =  pd.DataFrame\n",
        "\n",
        "# Definition of a dictionary to store OHLC of all indeces\n",
        "indeces_object_dictionary = {'{0}'.format(ele): IndexClass(description=ele) for ele in list_of_history}"
      ],
      "id": "LaNIlox5LjRP",
      "execution_count": null,
      "outputs": []
    },
    {
      "cell_type": "code",
      "metadata": {
        "id": "9YmS-IvFXQ4c"
      },
      "source": [
        ""
      ],
      "id": "9YmS-IvFXQ4c",
      "execution_count": 82,
      "outputs": []
    },
    {
      "cell_type": "code",
      "metadata": {
        "id": "u08xlz7zXJ9w"
      },
      "source": [
        ""
      ],
      "id": "u08xlz7zXJ9w",
      "execution_count": 82,
      "outputs": []
    },
    {
      "cell_type": "code",
      "metadata": {
        "id": "bUoVhIECBQu5"
      },
      "source": [
        "open_df_bridge = open_df.transpose().loc[financials_df.index]\n",
        "high_df_bridge = high_df.transpose().loc[financials_df.index]\n",
        "low_df_bridge = low_df.transpose().loc[financials_df.index]\n",
        "adjclose_df_bridge = adjclose_df.transpose().loc[financials_df.index]\n",
        "\n",
        "for ele in list_of_history:\n",
        "  if ele == 'price':\n",
        "    indeces_object_dictionary['{0}'.format(ele)].open = open_df.transpose().loc[financials_df.index]\n",
        "    indeces_object_dictionary['{0}'.format(ele)].high = high_df.transpose().loc[financials_df.index]\n",
        "    indeces_object_dictionary['{0}'.format(ele)].low = low_df.transpose().loc[financials_df.index]\n",
        "    indeces_object_dictionary['{0}'.format(ele)].adjclose = adjclose_df.transpose().loc[financials_df.index]\n",
        "  else:\n",
        "    open_df_index = pd.read_csv(str(ele + ' open'), index_col='date').transpose()\n",
        "    high_df_index = pd.read_csv(str(ele + ' high'), index_col='date').transpose()\n",
        "    low_df_index = pd.read_csv(str(ele + ' low'), index_col='date').transpose()\n",
        "    adjclose_df_index = pd.read_csv(str(ele + ' adjclose'), index_col='date').transpose()\n",
        "    \n",
        "    indeces_object_dictionary['{0}'.format(ele)].open = open_df.transpose().loc[financials_df.index].copy()\n",
        "    indeces_object_dictionary['{0}'.format(ele)].high = high_df.transpose().loc[financials_df.index].copy()\n",
        "    indeces_object_dictionary['{0}'.format(ele)].low = low_df.transpose().loc[financials_df.index].copy()\n",
        "    indeces_object_dictionary['{0}'.format(ele)].adjclose = adjclose_df.transpose().loc[financials_df.index].copy()\n",
        "\n",
        "    for ticker in financials_df.index:\n",
        "      indeces_object_dictionary['{0}'.format(ele)].open = open_df_index.loc[str(financials_df[str(ele)].loc[ticker])]\n",
        "      indeces_object_dictionary['{0}'.format(ele)].high = high_df_index.loc[str(financials_df[str(ele)].loc[ticker])]\n",
        "      indeces_object_dictionary['{0}'.format(ele)].low = low_df_index.loc[str(financials_df[str(ele)].loc[ticker])]\n",
        "      indeces_object_dictionary['{0}'.format(ele)].adjclose = adjclose_df_index.loc[str(financials_df[str(ele)].loc[ticker])]"
      ],
      "id": "bUoVhIECBQu5",
      "execution_count": 24,
      "outputs": []
    },
    {
      "cell_type": "code",
      "metadata": {
        "colab": {
          "base_uri": "https://localhost:8080/"
        },
        "id": "lC2zd0pbZh-V",
        "outputId": "4f97fff9-c8a0-4825-a095-890c0b37c7c0"
      },
      "source": [
        "np.array([col] * len(list_of_history))"
      ],
      "id": "lC2zd0pbZh-V",
      "execution_count": 86,
      "outputs": [
        {
          "output_type": "execute_result",
          "data": {
            "text/plain": [
              "array(['222-22', '222-22', '222-22', '222-22', '222-22'], dtype='<U6')"
            ]
          },
          "metadata": {
            "tags": []
          },
          "execution_count": 86
        }
      ]
    },
    {
      "cell_type": "code",
      "metadata": {
        "id": "XD3FDMAOZIIV"
      },
      "source": [
        "# ORA DEVI METTERE TUTTI GLI ELEMENTI DEI DIZIONARI INSIEME\n",
        "ticker_df_index = indeces_object_dictionary['exchange_id'].open.index\n",
        "for num, col in enumerate(indeces_object_dictionary['exchange_id'].open.columns):\n",
        "  \n",
        "  header_list = [np.array([col] * len(list_of_history)), np.array(list_of_history)] \n",
        "  \n",
        "  if num == 0:\n",
        "    data_list = []\n",
        "    for ele in list_of_history:\n",
        "      data_list.append(indeces_object_dictionary['{0}'.format(ele)].open)\n",
        "    open_trial = pd.DataFrame(data=np.column_stack((data_list)), index=indeces_object_dictionary['price')].open.index, columns=header_list)\n",
        "   \n",
        "    data_list = []\n",
        "    for ele in list_of_history:\n",
        "      data_list.append(indeces_object_dictionary['{0}'.format(ele)].high)\n",
        "    high_trial = pd.DataFrame(data=np.column_stack((data_list)), index=indeces_object_dictionary['price')].high.index, columns=header_list)\n",
        "    \n",
        "    data_list = []\n",
        "    for ele in list_of_history:\n",
        "      data_list.append(indeces_object_dictionary['{0}'.format(ele)].low)\n",
        "    low_trial = pd.DataFrame(data=np.column_stack((data_list)), index=indeces_object_dictionary['price')].low.index, columns=header_list)\n",
        "\n",
        "    data_list = []\n",
        "    for ele in list_of_history:\n",
        "      data_list.append(indeces_object_dictionary['{0}'.format(ele)].open)\n",
        "    adjclose_trial = pd.DataFrame(data=np.column_stack((data_list)), index=indeces_object_dictionary['price')].adjclose.index, columns=header_list)    \n",
        "\n",
        "  else: \n",
        "    data_list = []\n",
        "    for ele in list_of_history:\n",
        "      data_list.append(indeces_object_dictionary['{0}'.format(ele)].open)\n",
        "    open_trial2 = pd.DataFrame(data=np.column_stack((data_list)), index=indeces_object_dictionary['price')].open.index, columns=header_list)\n",
        "    open_trial = open_trial.join(open_trial2, how='left')\n",
        "\n",
        "    data_list = []\n",
        "    for ele in list_of_history:\n",
        "      data_list.append(indeces_object_dictionary['{0}'.format(ele)].high)\n",
        "    high_trial2 = pd.DataFrame(data=np.column_stack((data_list)), index=indeces_object_dictionary['price')].high.index, columns=header_list)\n",
        "    high_trial = high_trial.join(high_trial2, how='left')\n",
        "\n",
        "\n",
        "    data_list = []\n",
        "    for ele in list_of_history:\n",
        "      data_list.append(indeces_object_dictionary['{0}'.format(ele)].low)\n",
        "    low_trial2 = pd.DataFrame(data=np.column_stack((data_list)), index=indeces_object_dictionary['price')].low.index, columns=header_list)\n",
        "    low_trial = low_trial.join(low_trial2, how='left')\n",
        "\n",
        "    data_list = []\n",
        "    for ele in list_of_history:\n",
        "      data_list.append(indeces_object_dictionary['{0}'.format(ele)].open)\n",
        "    adjclose_trial2 = pd.DataFrame(data=np.column_stack((data_list)), index=indeces_object_dictionary['price')].adjclose.index, columns=header_list)\n",
        "    adjclose_trial = adjclose_trial.join(adjclose_trial2, how='left')"
      ],
      "id": "XD3FDMAOZIIV",
      "execution_count": null,
      "outputs": []
    },
    {
      "cell_type": "code",
      "metadata": {
        "id": "yeX9MyeoBQpZ"
      },
      "source": [
        "# ORA DEVI METTERE TUTTI GLI ELEMENTI DEI DIZIONARI INSIEME\n",
        "ticker_df_index = open_df_prezzo.index\n",
        "for num, col in enumerate(open_df_prezzo.columns):\n",
        "  lista = [np.array([col, col]), np.array(['Price','ExchangeID'])] \n",
        "  if num == 0:\n",
        "    listaDiProva = [open_df_price[col].values, open_df_priceEmpty[col].values]\n",
        "    open_trial = pd.DataFrame(data=np.column_stack((listaDiProva)), index= open_df_price.index, columns=lista)\n",
        "    high_trial = pd.DataFrame(data=np.column_stack((high_df_price[col].values, high_df_priceEmpty[col].values)), index= high_df_price.index, columns=lista)\n",
        "    low_trial = pd.DataFrame(data=np.column_stack((low_df_price[col].values, low_df_priceEmpty[col].values)), index= low_df_price.index, columns=lista)\n",
        "    adjclose_trial = pd.DataFrame(data=np.column_stack((adjclose_df_price[col].values, adjclose_df_priceEmpty[col].values)), index= adjclose_df_price.index, columns=lista)\n",
        "  else: \n",
        "    listaDiProva = [open_df_price[col].values, open_df_priceEmpty[col].values]\n",
        "    open_trial2 = pd.DataFrame(data=np.column_stack((listaDiProva)), index= open_df_price.index, columns=lista)\n",
        "    open_trial = open_trial.join(open_trial2, how='left')\n",
        "    high_trial2 = pd.DataFrame(data=np.column_stack((high_df_price[col].values, high_df_priceEmpty[col].values)), index= high_df_price.index, columns=lista)\n",
        "    high_trial = high_trial.join(high_trial2, how='left')\n",
        "    low_trial2 = pd.DataFrame(data=np.column_stack((low_df_price[col].values, low_df_priceEmpty[col].values)), index= low_df_price.index, columns=lista)\n",
        "    low_trial = low_trial.join(low_trial2, how='left')\n",
        "    adjclose_trial2 = pd.DataFrame(data=np.column_stack((adjclose_df_price[col].values, adjclose_df_priceEmpty[col].values)), index= adjclose_df_price.index, columns=lista)\n",
        "    adjclose_trial = adjclose_trial.join(adjclose_trial2, how='left')"
      ],
      "id": "yeX9MyeoBQpZ",
      "execution_count": 33,
      "outputs": []
    },
    {
      "cell_type": "code",
      "metadata": {
        "id": "Yh3GOIuhXNhk"
      },
      "source": [
        "open_df_exchange_id_index = pd.read_csv('exchange_id open', index_col='date').transpose()\n",
        "high_df_exchange_id_index = pd.read_csv('exchange_id high', index_col='date').transpose()\n",
        "low_df_exchange_id_index = pd.read_csv('exchange_id low', index_col='date').transpose()\n",
        "adjclose_df_exchange_id_index = pd.read_csv('exchange_id adjclose', index_col='date').transpose()\n",
        "\n",
        "open_df_sector_index = pd.read_csv('sector open', index_col='date').transpose()\n",
        "high_df_sector_index = pd.read_csv('sector high', index_col='date').transpose()\n",
        "low_df_sector_index = pd.read_csv('sector low', index_col='date').transpose()\n",
        "adjclose_df_sector_index = pd.read_csv('sector adjclose', index_col='date').transpose()\n",
        "\n",
        "open_df_industry_index = pd.read_csv('industry open', index_col='date').transpose()\n",
        "high_df_industry_index = pd.read_csv('industry high', index_col='date').transpose()\n",
        "low_df_industry_index = pd.read_csv('industry low', index_col='date').transpose()\n",
        "adjclose_df_industry_index = pd.read_csv('industry adjclose', index_col='date').transpose()\n",
        "\n",
        "open_df_market_cap_index = pd.read_csv('market_cap open', index_col='date').transpose()\n",
        "high_df_market_cap_index = pd.read_csv('market_cap high', index_col='date').transpose()\n",
        "low_df_market_cap_index = pd.read_csv('market_cap low', index_col='date').transpose()\n",
        "adjclose_df_market_cap_index = pd.read_csv('market_cap adjclose', index_col='date').transpose()"
      ],
      "id": "Yh3GOIuhXNhk",
      "execution_count": 25,
      "outputs": []
    },
    {
      "cell_type": "code",
      "metadata": {
        "id": "cc2OJj9iae9Y"
      },
      "source": [
        "for ticker in financials_df.index:\n",
        "  open_df_priceEmpty.loc[ticker] = open_df_exchange_id_index.loc[str(financials_df['exchange_id'].loc[ticker])]\n",
        "  high_df_priceEmpty.loc[ticker] = high_df_exchange_id_index.loc[str(financials_df['exchange_id'].loc[ticker])]\n",
        "  low_df_priceEmpty.loc[ticker] = low_df_exchange_id_index.loc[str(financials_df['exchange_id'].loc[ticker])]\n",
        "  adjclose_df_priceEmpty.loc[ticker] = adjclose_df_exchange_id_index.loc[str(financials_df['exchange_id'].loc[ticker])]"
      ],
      "id": "cc2OJj9iae9Y",
      "execution_count": 27,
      "outputs": []
    },
    {
      "cell_type": "code",
      "metadata": {
        "colab": {
          "base_uri": "https://localhost:8080/"
        },
        "id": "rVtyKOtILHBB",
        "outputId": "aca54036-0785-4f07-de21-54661845600a"
      },
      "source": [
        ""
      ],
      "id": "rVtyKOtILHBB",
      "execution_count": 36,
      "outputs": [
        {
          "output_type": "execute_result",
          "data": {
            "text/plain": [
              "[array([ 30.86000061, 166.88999939,  18.60000038, ...,   5.38999987,\n",
              "         16.28000069,  10.        ]),\n",
              " array([0.02250869, 0.02250869, 0.02250869, ..., 0.02250869, 0.02250869,\n",
              "        0.02250869])]"
            ]
          },
          "metadata": {
            "tags": []
          },
          "execution_count": 36
        }
      ]
    },
    {
      "cell_type": "code",
      "metadata": {
        "id": "hum-8WhzBQm5"
      },
      "source": [
        "open_trial = open_trial.stack(list(range(open_trial.columns.nlevels)))\n",
        "high_trial = high_trial.stack(list(range(high_trial.columns.nlevels)))\n",
        "low_trial = low_trial.stack(list(range(low_trial.columns.nlevels)))\n",
        "adjclose_trial = adjclose_trial.stack(list(range(adjclose_trial.columns.nlevels)))"
      ],
      "id": "hum-8WhzBQm5",
      "execution_count": 30,
      "outputs": []
    },
    {
      "cell_type": "code",
      "metadata": {
        "id": "myy3QcezBQkr",
        "colab": {
          "base_uri": "https://localhost:8080/",
          "height": 436
        },
        "outputId": "b0eeca39-4f29-4af9-bb8f-aaf9e50d8b73"
      },
      "source": [
        "data = {'open': open_trial, \n",
        "        'high': high_trial,\n",
        "        'low': low_trial,\n",
        "        'adjclose': adjclose_trial}\n",
        "\n",
        "df_concat = pd.concat(data, axis=1)\n",
        "df_concat.dropna(axis = 0, how = 'any', inplace=True)\n",
        "df_concat"
      ],
      "id": "myy3QcezBQkr",
      "execution_count": 31,
      "outputs": [
        {
          "output_type": "execute_result",
          "data": {
            "text/html": [
              "<div>\n",
              "<style scoped>\n",
              "    .dataframe tbody tr th:only-of-type {\n",
              "        vertical-align: middle;\n",
              "    }\n",
              "\n",
              "    .dataframe tbody tr th {\n",
              "        vertical-align: top;\n",
              "    }\n",
              "\n",
              "    .dataframe thead th {\n",
              "        text-align: right;\n",
              "    }\n",
              "</style>\n",
              "<table border=\"1\" class=\"dataframe\">\n",
              "  <thead>\n",
              "    <tr style=\"text-align: right;\">\n",
              "      <th></th>\n",
              "      <th></th>\n",
              "      <th></th>\n",
              "      <th>open</th>\n",
              "      <th>high</th>\n",
              "      <th>low</th>\n",
              "      <th>adjclose</th>\n",
              "    </tr>\n",
              "    <tr>\n",
              "      <th>ticker</th>\n",
              "      <th></th>\n",
              "      <th></th>\n",
              "      <th></th>\n",
              "      <th></th>\n",
              "      <th></th>\n",
              "      <th></th>\n",
              "    </tr>\n",
              "  </thead>\n",
              "  <tbody>\n",
              "    <tr>\n",
              "      <th rowspan=\"5\" valign=\"top\">FLWS</th>\n",
              "      <th rowspan=\"2\" valign=\"top\">2019-07-29</th>\n",
              "      <th>ExchangeID</th>\n",
              "      <td>0.014007</td>\n",
              "      <td>0.014098</td>\n",
              "      <td>0.013777</td>\n",
              "      <td>0.013731</td>\n",
              "    </tr>\n",
              "    <tr>\n",
              "      <th>Price</th>\n",
              "      <td>19.440001</td>\n",
              "      <td>19.850000</td>\n",
              "      <td>19.340000</td>\n",
              "      <td>19.680000</td>\n",
              "    </tr>\n",
              "    <tr>\n",
              "      <th rowspan=\"2\" valign=\"top\">2019-07-30</th>\n",
              "      <th>ExchangeID</th>\n",
              "      <td>0.013843</td>\n",
              "      <td>0.014019</td>\n",
              "      <td>0.013731</td>\n",
              "      <td>0.013687</td>\n",
              "    </tr>\n",
              "    <tr>\n",
              "      <th>Price</th>\n",
              "      <td>19.600000</td>\n",
              "      <td>20.059999</td>\n",
              "      <td>19.540001</td>\n",
              "      <td>20.030001</td>\n",
              "    </tr>\n",
              "    <tr>\n",
              "      <th>2019-07-31</th>\n",
              "      <th>ExchangeID</th>\n",
              "      <td>0.013923</td>\n",
              "      <td>0.014062</td>\n",
              "      <td>0.013581</td>\n",
              "      <td>0.013527</td>\n",
              "    </tr>\n",
              "    <tr>\n",
              "      <th>...</th>\n",
              "      <th>...</th>\n",
              "      <th>...</th>\n",
              "      <td>...</td>\n",
              "      <td>...</td>\n",
              "      <td>...</td>\n",
              "      <td>...</td>\n",
              "    </tr>\n",
              "    <tr>\n",
              "      <th rowspan=\"5\" valign=\"top\">ZNGA</th>\n",
              "      <th>2021-03-16</th>\n",
              "      <th>Price</th>\n",
              "      <td>10.060000</td>\n",
              "      <td>10.470000</td>\n",
              "      <td>10.050000</td>\n",
              "      <td>10.310000</td>\n",
              "    </tr>\n",
              "    <tr>\n",
              "      <th rowspan=\"2\" valign=\"top\">2021-03-17</th>\n",
              "      <th>ExchangeID</th>\n",
              "      <td>0.022528</td>\n",
              "      <td>0.023032</td>\n",
              "      <td>0.022231</td>\n",
              "      <td>0.022826</td>\n",
              "    </tr>\n",
              "    <tr>\n",
              "      <th>Price</th>\n",
              "      <td>10.160000</td>\n",
              "      <td>10.170000</td>\n",
              "      <td>9.800000</td>\n",
              "      <td>10.130000</td>\n",
              "    </tr>\n",
              "    <tr>\n",
              "      <th rowspan=\"2\" valign=\"top\">2021-03-18</th>\n",
              "      <th>ExchangeID</th>\n",
              "      <td>0.022509</td>\n",
              "      <td>0.022749</td>\n",
              "      <td>0.022046</td>\n",
              "      <td>0.022139</td>\n",
              "    </tr>\n",
              "    <tr>\n",
              "      <th>Price</th>\n",
              "      <td>10.000000</td>\n",
              "      <td>10.050000</td>\n",
              "      <td>9.830000</td>\n",
              "      <td>9.890000</td>\n",
              "    </tr>\n",
              "  </tbody>\n",
              "</table>\n",
              "<p>3528936 rows × 4 columns</p>\n",
              "</div>"
            ],
            "text/plain": [
              "                                   open       high        low   adjclose\n",
              "ticker                                                                  \n",
              "FLWS   2019-07-29 ExchangeID   0.014007   0.014098   0.013777   0.013731\n",
              "                  Price       19.440001  19.850000  19.340000  19.680000\n",
              "       2019-07-30 ExchangeID   0.013843   0.014019   0.013731   0.013687\n",
              "                  Price       19.600000  20.059999  19.540001  20.030001\n",
              "       2019-07-31 ExchangeID   0.013923   0.014062   0.013581   0.013527\n",
              "...                                 ...        ...        ...        ...\n",
              "ZNGA   2021-03-16 Price       10.060000  10.470000  10.050000  10.310000\n",
              "       2021-03-17 ExchangeID   0.022528   0.023032   0.022231   0.022826\n",
              "                  Price       10.160000  10.170000   9.800000  10.130000\n",
              "       2021-03-18 ExchangeID   0.022509   0.022749   0.022046   0.022139\n",
              "                  Price       10.000000  10.050000   9.830000   9.890000\n",
              "\n",
              "[3528936 rows x 4 columns]"
            ]
          },
          "metadata": {
            "tags": []
          },
          "execution_count": 31
        }
      ]
    },
    {
      "cell_type": "code",
      "metadata": {
        "id": "L-GQDlVGBQh9"
      },
      "source": [
        ""
      ],
      "id": "L-GQDlVGBQh9",
      "execution_count": null,
      "outputs": []
    },
    {
      "cell_type": "code",
      "metadata": {
        "id": "Yw1karJ5BQfC"
      },
      "source": [
        ""
      ],
      "id": "Yw1karJ5BQfC",
      "execution_count": null,
      "outputs": []
    },
    {
      "cell_type": "code",
      "metadata": {
        "id": "42V-m09JBQVr"
      },
      "source": [
        ""
      ],
      "id": "42V-m09JBQVr",
      "execution_count": null,
      "outputs": []
    },
    {
      "cell_type": "code",
      "metadata": {
        "id": "Zf-EqiIZWbH4"
      },
      "source": [
        "%%time\n",
        "for ticker in ticker_list:\n",
        "    \n",
        "    try:\n",
        "        stock_object_dictionary['{0}'.format(ticker)].history = \n",
        "        \n",
        "        # features dataframe, without classification column\n",
        "        features_df = df_concat.loc[ticker]\n",
        "        features_df.drop('label', axis=1, inplace=True)\n",
        "        \n",
        "        # classification array\n",
        "        classification_array = df_concat.loc[ticker]['label'].values\n",
        "\n",
        "        # sacaling data\n",
        "        df_sc_scaled = StandardScaler().fit_transform(features_df)\n",
        "\n",
        "        shuffle_value = True # shuffle, because of this we cannot stratify our label\n",
        "        stratify_value = classification_array # stratify fashion \n",
        "        train_size = 0.80\n",
        "        random_state = None\n",
        "\n",
        "        stock_object_dictionary['{0}'.format(ticker)].confusion_matrix2, stock_object_dictionary['{0}'.format(ticker)].accuracy_report2, stock_object_dictionary['{0}'.format(ticker)].logistic_regression2 = logistic_reg(df_sc_scaled, classification_array, train_size, shuffle_value, stratify_value, random_state) \n",
        "    \n",
        "    except:\n",
        "        pass"
      ],
      "id": "Zf-EqiIZWbH4",
      "execution_count": null,
      "outputs": []
    },
    {
      "cell_type": "code",
      "metadata": {
        "id": "zGB2LRviWbE9"
      },
      "source": [
        ""
      ],
      "id": "zGB2LRviWbE9",
      "execution_count": null,
      "outputs": []
    },
    {
      "cell_type": "code",
      "metadata": {
        "id": "1js7WpzIWbCf"
      },
      "source": [
        ""
      ],
      "id": "1js7WpzIWbCf",
      "execution_count": null,
      "outputs": []
    },
    {
      "cell_type": "code",
      "metadata": {
        "id": "d9MdnHSPWggf"
      },
      "source": [
        ""
      ],
      "id": "d9MdnHSPWggf",
      "execution_count": null,
      "outputs": []
    },
    {
      "cell_type": "code",
      "metadata": {
        "id": "FAQ-VP8aWa_l"
      },
      "source": [
        ""
      ],
      "id": "FAQ-VP8aWa_l",
      "execution_count": null,
      "outputs": []
    },
    {
      "cell_type": "code",
      "metadata": {
        "id": "nhDx21rBWa9K"
      },
      "source": [
        ""
      ],
      "id": "nhDx21rBWa9K",
      "execution_count": null,
      "outputs": []
    },
    {
      "cell_type": "code",
      "metadata": {
        "id": "s0gZP0iNWaw0"
      },
      "source": [
        ""
      ],
      "id": "s0gZP0iNWaw0",
      "execution_count": null,
      "outputs": []
    },
    {
      "cell_type": "markdown",
      "metadata": {
        "id": "honey-mechanism"
      },
      "source": [
        "### &nbsp;&nbsp;&nbsp; * SKLearn preprocessing import to scale data"
      ],
      "id": "honey-mechanism"
    },
    {
      "cell_type": "code",
      "metadata": {
        "id": "diverse-native"
      },
      "source": [
        "from sklearn import preprocessing"
      ],
      "id": "diverse-native",
      "execution_count": null,
      "outputs": []
    },
    {
      "cell_type": "markdown",
      "metadata": {
        "id": "international-origin"
      },
      "source": [
        "### &nbsp;&nbsp;&nbsp; %FEATURE% Preprocessing of input data"
      ],
      "id": "international-origin"
    },
    {
      "cell_type": "code",
      "metadata": {
        "id": "victorian-episode"
      },
      "source": [
        "# relative variation from open to adjusted close price\n",
        "adjclose_rel_var_df = (adjclose_df-open_df)/open_df"
      ],
      "id": "victorian-episode",
      "execution_count": null,
      "outputs": []
    },
    {
      "cell_type": "markdown",
      "metadata": {
        "id": "lyric-quantum"
      },
      "source": [
        "### &nbsp;&nbsp;&nbsp; %FEATURE% Absolute variation between high and low price"
      ],
      "id": "lyric-quantum"
    },
    {
      "cell_type": "code",
      "metadata": {
        "id": "public-hospital"
      },
      "source": [
        "# absolute variation between high and low price\n",
        "high_low_var_df = (high_df-low_df)\n",
        "\n",
        "# to scale the absolute variation between min&max value\n",
        "high_low_var_scaler = preprocessing.MinMaxScaler(feature_range=(0, 1))\n",
        "high_low_var_scaled = high_low_var_scaler.fit_transform(high_low_var_df)\n",
        "high_low_var_scaled_df = pd.DataFrame(data=high_low_var_scaled, index=high_low_var_df.index, columns=high_low_var_df.columns)"
      ],
      "id": "public-hospital",
      "execution_count": null,
      "outputs": []
    },
    {
      "cell_type": "markdown",
      "metadata": {
        "id": "cheap-browser"
      },
      "source": [
        "### &nbsp;&nbsp;&nbsp; %FEATURE% High low absolute variation over adjusted close price"
      ],
      "id": "cheap-browser"
    },
    {
      "cell_type": "code",
      "metadata": {
        "id": "bearing-ranking"
      },
      "source": [
        "# high low absolute variation over adjusted close price\n",
        "high_low_var_df_adjclose = high_low_var_df/adjclose_df"
      ],
      "id": "bearing-ranking",
      "execution_count": null,
      "outputs": []
    },
    {
      "cell_type": "markdown",
      "metadata": {
        "id": "shared-foundation"
      },
      "source": [
        "### &nbsp;&nbsp;&nbsp; %FEATURE% Log Return (adjusted close price log return)"
      ],
      "id": "shared-foundation"
    },
    {
      "cell_type": "code",
      "metadata": {
        "id": "standing-librarian"
      },
      "source": [
        "adjclose_df_log_return = np.log(adjclose_df/adjclose_df.shift(1))"
      ],
      "id": "standing-librarian",
      "execution_count": null,
      "outputs": []
    },
    {
      "cell_type": "markdown",
      "metadata": {
        "id": "surprised-calculator"
      },
      "source": [
        "### &nbsp;&nbsp;&nbsp; * Construction of stack dataset with all features and label to classify"
      ],
      "id": "surprised-calculator"
    },
    {
      "cell_type": "code",
      "metadata": {
        "id": "swedish-technology"
      },
      "source": [
        "adjclose_rel_var_df_t = adjclose_rel_var_df.transpose()\n",
        "adjclose_rel_var_df_stack = adjclose_rel_var_df_t.stack(dropna=False)\n",
        "\n",
        "high_low_var_scaled_df_t = high_low_var_scaled_df.transpose()\n",
        "high_low_var_scaled_df_stack = high_low_var_scaled_df_t.stack(dropna=False)\n",
        "\n",
        "high_low_var_df_adjclose_t = high_low_var_df_adjclose.transpose()\n",
        "high_low_var_df_adjclose_stack = high_low_var_df_adjclose_t.stack(dropna=False)\n",
        "\n",
        "adjclose_df_t = adjclose_df.transpose()\n",
        "adjclose_df_stack = adjclose_df_t.stack(dropna=False)\n",
        "\n",
        "volume_df_t = volume_df.transpose()\n",
        "volume_df_stack = volume_df_t.stack(dropna=False)\n",
        "\n",
        "# classification variable \n",
        "classification_df = (adjclose_df_log_return > 0) * 1\n",
        "classification_df_t = classification_df.transpose()\n",
        "classification_df_t.shift(axis = 1, periods = -1) # sign the day before a rally up with 1 and vice versa with 0 \n",
        "classification_df_stack = classification_df_t.shift(axis = 1, periods = -1).stack(dropna=False)\n",
        "\n",
        "data = {'adjclose_rel_var': adjclose_rel_var_df_stack, \n",
        "        'high_low_var_scaled': high_low_var_scaled_df_stack,\n",
        "        'high_low_var_adjclose': high_low_var_df_adjclose_stack,\n",
        "        'adjclose': adjclose_df_stack,\n",
        "        'volume': volume_df_stack,\n",
        "        'label': classification_df_stack}  \n",
        "\n",
        "df_concat = pd.concat(data, axis=1)\n",
        "df_concat.dropna(axis = 0, how = 'any', inplace=True)\n",
        "df_concat"
      ],
      "id": "swedish-technology",
      "execution_count": null,
      "outputs": []
    },
    {
      "cell_type": "markdown",
      "metadata": {
        "id": "adult-assessment"
      },
      "source": [
        "### &nbsp;&nbsp;&nbsp; * Check the correct number of row in the previous dataframe"
      ],
      "id": "adult-assessment"
    },
    {
      "cell_type": "code",
      "metadata": {
        "id": "fancy-journalism"
      },
      "source": [
        "# check the correct number of row in the previous dataframe\n",
        "len(open_df.columns) * len(open_df.index) - len(open_df.columns)"
      ],
      "id": "fancy-journalism",
      "execution_count": null,
      "outputs": []
    },
    {
      "cell_type": "markdown",
      "metadata": {
        "id": "retired-bacon"
      },
      "source": [
        "### &nbsp;&nbsp;&nbsp; * Construction of stack dataset with other features and label to classify"
      ],
      "id": "retired-bacon"
    },
    {
      "cell_type": "code",
      "metadata": {
        "id": "impressed-documentation"
      },
      "source": [
        "open_df_t = open_df.loc[adjclose_df_log_return.index[0]:adjclose_df_log_return.index[-1]].transpose()\n",
        "open_df_stack = open_df_t.stack()\n",
        "\n",
        "high_df_t = high_df.loc[adjclose_df_log_return.index[0]:adjclose_df_log_return.index[-1]].transpose()\n",
        "high_df_stack = high_df_t.stack()\n",
        "\n",
        "low_df_t = low_df.loc[adjclose_df_log_return.index[0]:adjclose_df_log_return.index[-1]].transpose()\n",
        "low_df_stack = low_df_t.stack()\n",
        "\n",
        "volume_df_t = volume_df.loc[adjclose_df_log_return.index[0]:adjclose_df_log_return.index[-1]].transpose()\n",
        "volume_df_stack = volume_df_t.stack()\n",
        "\n",
        "data = {'open': open_df_stack, \n",
        "        'high': high_df_stack,\n",
        "        'low': low_df_stack,\n",
        "        'adjclose': adjclose_df_stack,\n",
        "        'volume': volume_df_stack,\n",
        "        'label': classification_df_stack} # taken from before computation\n",
        "\n",
        "df_concat2 = pd.concat(data, axis = 1)\n",
        "df_concat2.dropna(axis = 0, how = 'any', inplace = True)\n",
        "df_concat2"
      ],
      "id": "impressed-documentation",
      "execution_count": null,
      "outputs": []
    },
    {
      "cell_type": "markdown",
      "metadata": {
        "id": "yellow-shadow"
      },
      "source": [
        "##### Remember: .std() is sample deviation, whereas the standardization thru StandardScaler use the standard deviation (the difference is the denominator, in the sample std it is used N-1). Moreover, to compute the standard deviation, you can do it in this way: .std(ddof=0)"
      ],
      "id": "yellow-shadow"
    },
    {
      "cell_type": "markdown",
      "metadata": {
        "id": "pf1BD9AuV6_i"
      },
      "source": [
        "# 2.b Second part: computation and assessing "
      ],
      "id": "pf1BD9AuV6_i"
    },
    {
      "cell_type": "markdown",
      "metadata": {
        "id": "short-bowling"
      },
      "source": [
        "# 3. Third part: Deep Learning"
      ],
      "id": "short-bowling"
    },
    {
      "cell_type": "code",
      "metadata": {
        "id": "virgin-insured"
      },
      "source": [
        "import tensorflow as tf \n",
        "from sklearn.preprocessing import StandardScaler\n",
        "from sklearn.model_selection import train_test_split"
      ],
      "id": "virgin-insured",
      "execution_count": null,
      "outputs": []
    },
    {
      "cell_type": "code",
      "metadata": {
        "id": "lightweight-soldier"
      },
      "source": [
        "print(tf.__version__)"
      ],
      "id": "lightweight-soldier",
      "execution_count": null,
      "outputs": []
    },
    {
      "cell_type": "markdown",
      "metadata": {
        "id": "differential-thanksgiving"
      },
      "source": [
        "### &nbsp;&nbsp;&nbsp; %FUNCTION% Function for calling back DL training"
      ],
      "id": "differential-thanksgiving"
    },
    {
      "cell_type": "code",
      "metadata": {
        "id": "concerned-greece"
      },
      "source": [
        "accuracy_limit=.7\n",
        "class myCallback(tf.keras.callbacks.Callback):\n",
        "    def on_epoch_end(self, epoch, logs={}):\n",
        "        if (logs.get('accuracy')>accuracy_limit):\n",
        "            print('--- accuracy higher than ', accuracy_limit)\n",
        "            self.model.stop_training=True"
      ],
      "id": "concerned-greece",
      "execution_count": null,
      "outputs": []
    },
    {
      "cell_type": "code",
      "metadata": {
        "id": "quality-prescription"
      },
      "source": [
        "ticker = 'AAPL'\n",
        "\n",
        "# features dataframe, without classification column\n",
        "features_df = df_concat.loc[ticker]\n",
        "features_df.drop('label', axis=1, inplace=True)\n",
        "\n",
        "# classification array\n",
        "classification_array = df_concat.loc[ticker]['label'].values\n",
        "\n",
        "# sacaling data\n",
        "df_sc_scaled = StandardScaler().fit_transform(features_df)\n",
        "\n",
        "shuffle_value = False # no shuffle, because of this we cannot stratify our label\n",
        "stratify_value = None\n",
        "train_size = 0.80\n",
        "random_state = None\n",
        "\n",
        "# define train set and test set \n",
        "x_train, x_test, y_train, y_test = train_test_split(features_df, classification_array, train_size = train_size, shuffle = shuffle_value, stratify = stratify_value, random_state = random_state)"
      ],
      "id": "quality-prescription",
      "execution_count": null,
      "outputs": []
    },
    {
      "cell_type": "code",
      "metadata": {
        "id": "electric-memphis"
      },
      "source": [
        "callbacks=myCallback()"
      ],
      "id": "electric-memphis",
      "execution_count": null,
      "outputs": []
    },
    {
      "cell_type": "code",
      "metadata": {
        "id": "nervous-catalyst"
      },
      "source": [
        "model=tf.keras.models.Sequential([tf.keras.layers.Flatten(),\n",
        "                                   tf.keras.layers.Dense(units=500, activation=tf.nn.relu),\n",
        "                                   tf.keras.layers.Dense(units=2, activation=tf.nn.softmax)])"
      ],
      "id": "nervous-catalyst",
      "execution_count": null,
      "outputs": []
    },
    {
      "cell_type": "code",
      "metadata": {
        "id": "assisted-russell"
      },
      "source": [
        "model.compile(optimizer='adam', loss='sparse_categorical_crossentropy', metrics=['accuracy'])"
      ],
      "id": "assisted-russell",
      "execution_count": null,
      "outputs": []
    },
    {
      "cell_type": "code",
      "metadata": {
        "id": "parallel-extraction"
      },
      "source": [
        "model.fit(x_train, y_train, epochs=100, callbacks=[callbacks])"
      ],
      "id": "parallel-extraction",
      "execution_count": null,
      "outputs": []
    },
    {
      "cell_type": "code",
      "metadata": {
        "id": "jewish-attempt"
      },
      "source": [
        "stock_object_dictionary['{0}'.format(ticker)].confusion_matrix, stock_object_dictionary['{0}'.format(ticker)].accuracy_report = logistic_reg(df_sc_scaled, classification_array, train_size, shuffle_value, stratify_value, random_stat) "
      ],
      "id": "jewish-attempt",
      "execution_count": null,
      "outputs": []
    },
    {
      "cell_type": "markdown",
      "metadata": {
        "id": "GOgxwoSoW1Mg"
      },
      "source": [
        ""
      ],
      "id": "GOgxwoSoW1Mg"
    },
    {
      "cell_type": "code",
      "metadata": {
        "id": "educated-rehabilitation"
      },
      "source": [
        ""
      ],
      "id": "educated-rehabilitation",
      "execution_count": null,
      "outputs": []
    },
    {
      "cell_type": "code",
      "metadata": {
        "id": "supposed-february"
      },
      "source": [
        ""
      ],
      "id": "supposed-february",
      "execution_count": null,
      "outputs": []
    },
    {
      "cell_type": "code",
      "metadata": {
        "id": "square-physics"
      },
      "source": [
        ""
      ],
      "id": "square-physics",
      "execution_count": null,
      "outputs": []
    },
    {
      "cell_type": "code",
      "metadata": {
        "id": "proud-destruction"
      },
      "source": [
        ""
      ],
      "id": "proud-destruction",
      "execution_count": null,
      "outputs": []
    },
    {
      "cell_type": "markdown",
      "metadata": {
        "id": "burning-settle"
      },
      "source": [
        "### a. Trial 1: No Shuffle (i.e. No Stratify) - 80/20 - scaled features"
      ],
      "id": "burning-settle"
    }
  ]
}