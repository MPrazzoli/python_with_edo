{
  "nbformat": 4,
  "nbformat_minor": 5,
  "metadata": {
    "kernelspec": {
      "display_name": "Python [conda env:py_37] *",
      "language": "python",
      "name": "conda-env-py_37-py"
    },
    "language_info": {
      "codemirror_mode": {
        "name": "ipython",
        "version": 3
      },
      "file_extension": ".py",
      "mimetype": "text/x-python",
      "name": "python",
      "nbconvert_exporter": "python",
      "pygments_lexer": "ipython3",
      "version": "3.7.10"
    },
    "colab": {
      "name": "SP500Picture_01Classification.ipynb",
      "provenance": [],
      "toc_visible": true
    }
  },
  "cells": [
    {
      "cell_type": "code",
      "metadata": {
        "id": "hJvvp8WXGNBT",
        "colab": {
          "base_uri": "https://localhost:8080/"
        },
        "outputId": "c2771074-d31a-4125-80c2-f22fa65c32d5"
      },
      "source": [
        "from google.colab import drive\n",
        "drive.mount('/content/drive')"
      ],
      "id": "hJvvp8WXGNBT",
      "execution_count": 1,
      "outputs": [
        {
          "output_type": "stream",
          "text": [
            "Mounted at /content/drive\n"
          ],
          "name": "stdout"
        }
      ]
    },
    {
      "cell_type": "code",
      "metadata": {
        "id": "substantial-notification"
      },
      "source": [
        "# python_version 3.7.10"
      ],
      "id": "substantial-notification",
      "execution_count": null,
      "outputs": []
    },
    {
      "cell_type": "markdown",
      "metadata": {
        "id": "pharmaceutical-chair"
      },
      "source": [
        "### &nbsp;&nbsp;&nbsp; %CLASS% StockClass: used to create the stock dictionary"
      ],
      "id": "pharmaceutical-chair"
    },
    {
      "cell_type": "code",
      "metadata": {
        "id": "lasting-knight"
      },
      "source": [
        "class StockClass(object):\n",
        "\n",
        "    # Initialization of the StockClass object with the ticker symbol which is use to construct a yf.Ticker object\n",
        "    def __init__(self, ticker, isin=None, exchangeid=None, sector=None, industry=None, country=None, pe=None, eps=None,\n",
        "                 insiderown=None, shsout=None, shsfloat=None, mktcap=None, income=None, sales=None,\n",
        "                 booksh=None, pb=None, roa=None, tp=None, roe=None, roi=None, employees=None, debteq=None, \n",
        "                 groupby=None, confusion_matrix=None, accuracy_report=None, \n",
        "                 confusion_matrix2=None, accuracy_report2=None):\n",
        "        self.name = ticker\n",
        "        self.isin = isin\n",
        "        self.exchangeid = exchangeid\n",
        "        # self.history is the method of the SotckClass object to store data in DataFrame format\n",
        "        self.history = pd.DataFrame\n",
        "        self.investing = pd.DataFrame\n",
        "        self.pickle = pd.DataFrame\n",
        "        self.not_found = np.array([['date', 'ticker']])\n",
        "        self.nanDiv = False\n",
        "        self.nanSplit = False\n",
        "        self.sector = None\n",
        "        self.industry = industry\n",
        "        self.country = country\n",
        "        self.pe = pe\n",
        "        self.eps = eps\n",
        "        self.insiderown = insiderown\n",
        "        self.shsout = shsout\n",
        "        self.shsfloat = shsfloat\n",
        "        self.mktcap = mktcap\n",
        "        self.income = income\n",
        "        self.sales = sales\n",
        "        self.bookh = booksh\n",
        "        self.pb = pb\n",
        "        self.roa = roa\n",
        "        self.tp = tp\n",
        "        self.roe = roe\n",
        "        self.roi = roi\n",
        "        self.employees = employees\n",
        "        self.debteq = debteq\n",
        "        self.rsi = pd.DataFrame\n",
        "        self.groupby = groupby\n",
        "        self.confusion_matrix = confusion_matrix\n",
        "        self.accuracy_report = accuracy_report\n",
        "        self.confusion_matrix2 = confusion_matrix2\n",
        "        self.accuracy_report2 = accuracy_report2"
      ],
      "id": "lasting-knight",
      "execution_count": 2,
      "outputs": []
    },
    {
      "cell_type": "code",
      "metadata": {
        "id": "Y5PPFI30tXV6"
      },
      "source": [
        "class IndexClass(object):\n",
        "\n",
        "    # Initialization of the IndexClass object\n",
        "    def __init__(self, description='', groupby=None, open=None, high=None, low=None, adjclose=None):\n",
        "        self.description = description\n",
        "        self.groupby = groupby\n",
        "        self.open =  pd.DataFrame\n",
        "        self.high =  pd.DataFrame\n",
        "        self.low =  pd.DataFrame\n",
        "        self.adjclose =  pd.DataFrame"
      ],
      "id": "Y5PPFI30tXV6",
      "execution_count": 3,
      "outputs": []
    },
    {
      "cell_type": "markdown",
      "metadata": {
        "id": "dried-compilation"
      },
      "source": [
        "# 1. First part: import data, cleaning and arranging "
      ],
      "id": "dried-compilation"
    },
    {
      "cell_type": "markdown",
      "metadata": {
        "id": "8hvFCaQZmPp_"
      },
      "source": [
        ""
      ],
      "id": "8hvFCaQZmPp_"
    },
    {
      "cell_type": "markdown",
      "metadata": {
        "id": "waiting-performer"
      },
      "source": [
        "### &nbsp;&nbsp;&nbsp; * Main packages import"
      ],
      "id": "waiting-performer"
    },
    {
      "cell_type": "code",
      "metadata": {
        "tags": [],
        "id": "educated-vertical"
      },
      "source": [
        "import numpy as np\n",
        "import pandas as pd\n",
        "import warnings\n",
        "warnings.filterwarnings('ignore')"
      ],
      "id": "educated-vertical",
      "execution_count": 4,
      "outputs": []
    },
    {
      "cell_type": "markdown",
      "metadata": {
        "id": "identical-seafood"
      },
      "source": [
        "### &nbsp;&nbsp;&nbsp; * Data import"
      ],
      "id": "identical-seafood"
    },
    {
      "cell_type": "code",
      "metadata": {
        "id": "welcome-packaging"
      },
      "source": [
        "open_df_original = pd.read_csv('/content/drive/MyDrive/Data/20210322/open', index_col='date')\n",
        "high_df_original = pd.read_csv('/content/drive/MyDrive/Data/20210322/high', index_col='date')\n",
        "low_df_original = pd.read_csv('/content/drive/MyDrive/Data/20210322/low', index_col='date')\n",
        "adjclose_df_original = pd.read_csv('/content/drive/MyDrive/Data/20210322/adjclose', index_col='date')\n",
        "volume_df_original = pd.read_csv('/content/drive/MyDrive/Data/20210322/volume', index_col='date')"
      ],
      "id": "welcome-packaging",
      "execution_count": 5,
      "outputs": []
    },
    {
      "cell_type": "code",
      "metadata": {
        "id": "Vj-wnVKFPvaw"
      },
      "source": [
        "financials_df_original = pd.read_excel('/content/drive/MyDrive/Data/20210322/ticker_isin_file_financials.xlsx', na_values=['NA'], usecols = 'A:E,J', index_col='ticker')"
      ],
      "id": "Vj-wnVKFPvaw",
      "execution_count": 60,
      "outputs": []
    },
    {
      "cell_type": "code",
      "metadata": {
        "id": "fa-toOonPxa2"
      },
      "source": [
        "ticker_list = list(adjclose_df_original.columns)"
      ],
      "id": "fa-toOonPxa2",
      "execution_count": 61,
      "outputs": []
    },
    {
      "cell_type": "code",
      "metadata": {
        "id": "qV5utEImM_9F",
        "colab": {
          "base_uri": "https://localhost:8080/"
        },
        "outputId": "3aa047d3-9f74-454c-da96-901603f87095"
      },
      "source": [
        "# to drop columns with the end of the series NaN (probably not quoted anymore)\n",
        "if open_df_original.isnull().values.any():\n",
        "    print('open shape before: ', open_df_original.shape)\n",
        "    open_df_original.dropna(axis=1, how='any', inplace=True)\n",
        "print('open shape after: ', open_df_original.shape)    \n",
        "if high_df_original.isnull().values.any():\n",
        "    print('high shape before: ', high_df_original.shape)\n",
        "    high_df_original.dropna(axis=1, how='any', inplace=True)\n",
        "print('high shape after: ', high_df_original.shape)  \n",
        "if low_df_original.isnull().values.any():\n",
        "    print('low shape before: ', low_df_original.shape)\n",
        "    low_df_original.dropna(axis=1, how='any', inplace=True)\n",
        "print('low shape after: ', low_df_original.shape)    \n",
        "if adjclose_df_original.isnull().values.any():\n",
        "    print('high shape before: ', adjclose_df_original.shape)\n",
        "    adjclose_df_original.dropna(axis=1, how='any', inplace=True)\n",
        "print('high shape after: ', adjclose_df_original.shape)    \n",
        "if volume_df_original.isnull().values.any():\n",
        "    print('high shape before: ', volume_df_original.shape)\n",
        "    volume_df_original.dropna(axis=1, how='any', inplace=True)\n",
        "print('high shape after: ', volume_df_original.shape)   \n",
        "if financials_df_original.isnull().values.any():\n",
        "    print('financials shape before: ', financials_df_original.shape)\n",
        "    financials_df_original.dropna(axis=0, how='any', inplace=True)\n",
        "print('financials shape after: ', financials_df_original.transpose().shape)      "
      ],
      "id": "qV5utEImM_9F",
      "execution_count": 62,
      "outputs": [
        {
          "output_type": "stream",
          "text": [
            "open shape after:  (415, 4534)\n",
            "high shape after:  (415, 4534)\n",
            "low shape after:  (415, 4534)\n",
            "high shape after:  (415, 4534)\n",
            "high shape after:  (415, 4534)\n",
            "financials shape before:  (5143, 5)\n",
            "financials shape after:  (5, 4731)\n"
          ],
          "name": "stdout"
        }
      ]
    },
    {
      "cell_type": "code",
      "metadata": {
        "id": "ckCPXGjyJhSl"
      },
      "source": [
        "open_df = open_df_original.drop(index=open_df_original.iloc[-1:].index)\n",
        "high_df = high_df_original.drop(index=high_df_original.iloc[-1:].index)\n",
        "low_df = low_df_original.drop(index=low_df_original.iloc[-1:].index)\n",
        "adjclose_df = adjclose_df_original.drop(index=adjclose_df_original.iloc[-1:].index)\n",
        "volume_df = volume_df_original.drop(index=volume_df_original.iloc[-1:].index)"
      ],
      "id": "ckCPXGjyJhSl",
      "execution_count": 63,
      "outputs": []
    },
    {
      "cell_type": "markdown",
      "metadata": {
        "id": "afraid-queensland"
      },
      "source": [
        "# 2 Second part: computation and assessing "
      ],
      "id": "afraid-queensland"
    },
    {
      "cell_type": "markdown",
      "metadata": {
        "id": "mH2H-uILWU7w"
      },
      "source": [
        "# 2.a Indeces computation"
      ],
      "id": "mH2H-uILWU7w"
    },
    {
      "cell_type": "markdown",
      "metadata": {
        "tags": [],
        "id": "oriented-relaxation"
      },
      "source": [
        "### &nbsp;&nbsp;&nbsp; * Definition of the StockClass dictionary"
      ],
      "id": "oriented-relaxation"
    },
    {
      "cell_type": "code",
      "metadata": {
        "id": "pressing-interstate"
      },
      "source": [
        "# Definition of a dictionary to store stock as StockClass instances and for each stock get attribute\n",
        "# (take a look at _2_0_stock_dataframe_class.py for more information)\n",
        "stock_object_dictionary = {'{0}'.format(ticker): StockClass(ticker=ticker_list) for ticker in ticker_list}"
      ],
      "id": "pressing-interstate",
      "execution_count": 64,
      "outputs": []
    },
    {
      "cell_type": "code",
      "metadata": {
        "id": "kvoAWauCaH43"
      },
      "source": [
        "financials_df_original.rename(columns={'Shs Outstand':'market_cap', 'Sector':'sector', 'Industry':'industry'}, inplace=True)\n",
        "financials_df = financials_df_original.dropna(axis=0, how='any')\n",
        "financials_df = financials_df[financials_df['market_cap']!='-']"
      ],
      "id": "kvoAWauCaH43",
      "execution_count": 65,
      "outputs": []
    },
    {
      "cell_type": "code",
      "metadata": {
        "id": "up-4fA4GQgyQ"
      },
      "source": [
        "# Remove rows which has no market data in price dataframe\n",
        "main_list = list(set(financials_df.index) - set(adjclose_df.columns))\n",
        "financials_df.drop(index=main_list, inplace=True)"
      ],
      "id": "up-4fA4GQgyQ",
      "execution_count": 66,
      "outputs": []
    },
    {
      "cell_type": "code",
      "metadata": {
        "id": "xCJnkmKfwaDE"
      },
      "source": [
        "# GroupBy\n",
        "exchange_id_group = financials_df.groupby(['exchange_id'])\n",
        "sector_group = financials_df.groupby(['sector'])\n",
        "industry_group = financials_df.groupby(['industry'])\n",
        "\n",
        "num_of_quantiles = 10\n",
        "financials_df['market_cap_group'] = np.nan\n",
        "mkt_cap_quantiles = []\n",
        "for q in np.linspace(1/num_of_quantiles, 1, num_of_quantiles):\n",
        "  mkt_cap_quantiles.append(financials_df['market_cap'].quantile(q))\n",
        "for ticker in financials_df.index:\n",
        "    for i, q in enumerate(mkt_cap_quantiles):\n",
        "        if financials_df['market_cap'].loc[ticker] < q:\n",
        "            financials_df['market_cap_group'].loc[ticker] = i\n",
        "            break\n",
        "\n",
        "# Group by Market Cap Range\n",
        "marketcap_group = financials_df.groupby(['market_cap_group'])"
      ],
      "id": "xCJnkmKfwaDE",
      "execution_count": 67,
      "outputs": []
    },
    {
      "cell_type": "code",
      "metadata": {
        "id": "2a4VUMVqpFc7"
      },
      "source": [
        "# Definition of a dictionary to store indeces as IndexClass instances (exchange_id)\n",
        "index_object_dictionary_exid = {'{0}'.format(exid): IndexClass(description=exid, groupby='exchange_id') for exid in exchange_id_group.groups.keys()}\n",
        "# Definition of a dictionary to store indeces as IndexClass instances (Sector)\n",
        "index_object_dictionary_sec = {'{0}'.format(sec): IndexClass(description=sec, groupby='sector') for sec in sector_group.groups.keys()}\n",
        "#  Definition of a dictionary to store indeces as IndexClass instances (Industry)\n",
        "index_object_dictionary_ind = {'{0}'.format(ind): IndexClass(description=ind, groupby='industry') for ind in industry_group.groups.keys()}\n",
        "#  Definition of a dictionary to store indeces as IndexClass instances (Market Cap)\n",
        "index_object_dictionary_mktcap = {'{0}'.format(mktcap): IndexClass(description=mktcap, groupby='market_cap') for mktcap in marketcap_group.groups.keys()}"
      ],
      "id": "2a4VUMVqpFc7",
      "execution_count": 68,
      "outputs": []
    },
    {
      "cell_type": "code",
      "metadata": {
        "id": "lI7ffBoTI8fv"
      },
      "source": [
        "forfiles = ['open', 'high', 'low', 'adjclose']"
      ],
      "id": "lI7ffBoTI8fv",
      "execution_count": 69,
      "outputs": []
    },
    {
      "cell_type": "code",
      "metadata": {
        "id": "t3SmOMuHXf6j"
      },
      "source": [
        "list_of_stock_to_erase = [] \n",
        "for i, exid in enumerate(exchange_id_group.groups.keys()):\n",
        "  open_df_exchange_id = open_df[exchange_id_group.groups[list(exchange_id_group.groups.keys())[i]]]\n",
        "  high_df_exchange_id = high_df[exchange_id_group.groups[list(exchange_id_group.groups.keys())[i]]]\n",
        "  low_df_exchange_id = low_df[exchange_id_group.groups[list(exchange_id_group.groups.keys())[i]]]\n",
        "  adjclose_df_exchange_id = adjclose_df[exchange_id_group.groups[list(exchange_id_group.groups.keys())[i]]]\n",
        "  for ticker in exchange_id_group.groups[list(exchange_id_group.groups.keys())[i]]:\n",
        "    try:\n",
        "      open_df_exchange_id[ticker] = open_df_exchange_id[ticker] * financials_df['market_cap'].loc[ticker]\n",
        "      high_df_exchange_id[ticker] = high_df_exchange_id[ticker] * financials_df['market_cap'].loc[ticker]\n",
        "      low_df_exchange_id[ticker] = low_df_exchange_id[ticker] * financials_df['market_cap'].loc[ticker]\n",
        "      adjclose_df_exchange_id[ticker] = adjclose_df_exchange_id[ticker] * financials_df['market_cap'].loc[ticker]\n",
        "    except:\n",
        "      list_of_stock_to_erase.append(ticker)\n",
        "\n",
        "  index_object_dictionary_exid['{0}'.format(exid)].open = open_df_exchange_id.sum(axis=1)/1000000000000000\n",
        "  index_object_dictionary_exid['{0}'.format(exid)].high = high_df_exchange_id.sum(axis=1)/1000000000000000\n",
        "  index_object_dictionary_exid['{0}'.format(exid)].low = low_df_exchange_id.sum(axis=1)/1000000000000000\n",
        "  index_object_dictionary_exid['{0}'.format(exid)].adjclose = adjclose_df_exchange_id.sum(axis=1)/1000000000000000\n",
        "  \n",
        "for i, exid in enumerate(index_object_dictionary_exid.keys()):\n",
        "  if i == 0:\n",
        "    open = pd.DataFrame(index_object_dictionary_exid['{0}'.format(exid)].open, columns=[exid])\n",
        "    high = pd.DataFrame(index_object_dictionary_exid['{0}'.format(exid)].high, columns=[exid])\n",
        "    low = pd.DataFrame(index_object_dictionary_exid['{0}'.format(exid)].low, columns=[exid])\n",
        "    adjclose = pd.DataFrame(index_object_dictionary_exid['{0}'.format(exid)].adjclose, columns=[exid])\n",
        "  else:\n",
        "    open = pd.concat([open, pd.DataFrame(index_object_dictionary_exid['{0}'.format(exid)].open, columns=[exid])], axis=1)\n",
        "    high = pd.concat([high, pd.DataFrame(index_object_dictionary_exid['{0}'.format(exid)].high, columns=[exid])], axis=1)\n",
        "    low = pd.concat([low, pd.DataFrame(index_object_dictionary_exid['{0}'.format(exid)].low, columns=[exid])], axis=1)\n",
        "    adjclose = pd.concat([adjclose, pd.DataFrame(index_object_dictionary_exid['{0}'.format(exid)].adjclose, columns=[exid])], axis=1)\n",
        "\n",
        "for f in forfiles:\n",
        "  filename = 'exchange_id ' + f \n",
        "  if f == 'open':\n",
        "    open.to_csv(filename, index=True)\n",
        "  if f == 'high':\n",
        "    high.to_csv(filename, index=True)\n",
        "  if f == 'low':\n",
        "    low.to_csv(filename, index=True)\n",
        "  if f == 'adjclose':\n",
        "    adjclose.to_csv(filename, index=True)"
      ],
      "id": "t3SmOMuHXf6j",
      "execution_count": 70,
      "outputs": []
    },
    {
      "cell_type": "code",
      "metadata": {
        "id": "MWOIFozldZPO"
      },
      "source": [
        "list_of_stock_to_erase = [] \n",
        "for i, sec in enumerate(sector_group.groups.keys()):\n",
        "  open_df_sector = open_df[sector_group.groups[list(sector_group.groups.keys())[i]]]\n",
        "  high_df_sector = high_df[sector_group.groups[list(sector_group.groups.keys())[i]]]\n",
        "  low_df_sector = low_df[sector_group.groups[list(sector_group.groups.keys())[i]]]\n",
        "  adjclose_df_sector = adjclose_df[sector_group.groups[list(sector_group.groups.keys())[i]]]\n",
        "  for ticker in sector_group.groups[list(sector_group.groups.keys())[i]]:\n",
        "    try:\n",
        "      open_df_sector[ticker] = open_df_sector[ticker] * financials_df['market_cap'].loc[ticker]\n",
        "      high_df_sector[ticker] = high_df_sector[ticker] * financials_df['market_cap'].loc[ticker]\n",
        "      low_df_sector[ticker] = low_df_sector[ticker] * financials_df['market_cap'].loc[ticker]\n",
        "      adjclose_df_sector[ticker] = adjclose_df_sector[ticker] * financials_df['market_cap'].loc[ticker]\n",
        "    except:\n",
        "      list_of_stock_to_erase.append(ticker)\n",
        "\n",
        "  index_object_dictionary_sec['{0}'.format(sec)].open = open_df_sector.sum(axis=1)/1000000000000000\n",
        "  index_object_dictionary_sec['{0}'.format(sec)].high = high_df_sector.sum(axis=1)/1000000000000000\n",
        "  index_object_dictionary_sec['{0}'.format(sec)].low = low_df_sector.sum(axis=1)/1000000000000000\n",
        "  index_object_dictionary_sec['{0}'.format(sec)].adjclose = adjclose_df_sector.sum(axis=1)/1000000000000000\n",
        "\n",
        "for i, sec in enumerate(index_object_dictionary_sec.keys()):\n",
        "  if i == 0:\n",
        "    open = pd.DataFrame(index_object_dictionary_sec['{0}'.format(sec)].open, columns=[sec])\n",
        "    high = pd.DataFrame(index_object_dictionary_sec['{0}'.format(sec)].high, columns=[sec])\n",
        "    low = pd.DataFrame(index_object_dictionary_sec['{0}'.format(sec)].low, columns=[sec])\n",
        "    adjclose = pd.DataFrame(index_object_dictionary_sec['{0}'.format(sec)].adjclose, columns=[sec])\n",
        "  else:\n",
        "    open = pd.concat([open, pd.DataFrame(index_object_dictionary_sec['{0}'.format(sec)].open, columns=[sec])], axis=1)\n",
        "    high = pd.concat([high, pd.DataFrame(index_object_dictionary_sec['{0}'.format(sec)].high, columns=[sec])], axis=1)\n",
        "    low = pd.concat([low, pd.DataFrame(index_object_dictionary_sec['{0}'.format(sec)].low, columns=[sec])], axis=1)\n",
        "    adjclose = pd.concat([adjclose, pd.DataFrame(index_object_dictionary_sec['{0}'.format(sec)].adjclose, columns=[sec])], axis=1)\n",
        "\n",
        "for f in forfiles:\n",
        "  filename = 'sector ' + f \n",
        "  if f == 'open':\n",
        "    open.to_csv(filename, index=True)\n",
        "  if f == 'high':\n",
        "    high.to_csv(filename, index=True)\n",
        "  if f == 'low':\n",
        "    low.to_csv(filename, index=True)\n",
        "  if f == 'adjclose':\n",
        "    adjclose.to_csv(filename, index=True)"
      ],
      "id": "MWOIFozldZPO",
      "execution_count": 71,
      "outputs": []
    },
    {
      "cell_type": "code",
      "metadata": {
        "id": "IBwuvNCAdaA8"
      },
      "source": [
        "list_of_stock_to_erase = [] \n",
        "for i, ind in enumerate(industry_group.groups.keys()):\n",
        "  open_df_industry = open_df[industry_group.groups[list(industry_group.groups.keys())[i]]]\n",
        "  high_df_industry = high_df[industry_group.groups[list(industry_group.groups.keys())[i]]]\n",
        "  low_df_industry = low_df[industry_group.groups[list(industry_group.groups.keys())[i]]]\n",
        "  adjclose_df_industry = adjclose_df[industry_group.groups[list(industry_group.groups.keys())[i]]]\n",
        "  for ticker in industry_group.groups[list(industry_group.groups.keys())[i]]:\n",
        "    try:\n",
        "      open_df_industry[ticker] = open_df_industry[ticker] * financials_df['market_cap'].loc[ticker]\n",
        "      high_df_industry[ticker] = high_df_industry[ticker] * financials_df['market_cap'].loc[ticker]\n",
        "      low_df_industry[ticker] = low_df_industry[ticker] * financials_df['market_cap'].loc[ticker]\n",
        "      adjclose_df_industry[ticker] = adjclose_df_industry[ticker] * financials_df['market_cap'].loc[ticker]\n",
        "    except:\n",
        "      list_of_stock_to_erase.append(ticker)\n",
        "\n",
        "  index_object_dictionary_ind['{0}'.format(ind)].open = open_df_industry.sum(axis=1)/1000000000000000\n",
        "  index_object_dictionary_ind['{0}'.format(ind)].high = high_df_industry.sum(axis=1)/1000000000000000\n",
        "  index_object_dictionary_ind['{0}'.format(ind)].low = low_df_industry.sum(axis=1)/1000000000000000\n",
        "  index_object_dictionary_ind['{0}'.format(ind)].adjclose = adjclose_df_industry.sum(axis=1)/1000000000000000\n",
        "\n",
        "for i, ind in enumerate(index_object_dictionary_ind.keys()):\n",
        "  if i == 0:\n",
        "    open = pd.DataFrame(index_object_dictionary_ind['{0}'.format(ind)].open, columns=[ind])\n",
        "    high = pd.DataFrame(index_object_dictionary_ind['{0}'.format(ind)].high, columns=[ind])\n",
        "    low = pd.DataFrame(index_object_dictionary_ind['{0}'.format(ind)].low, columns=[ind])\n",
        "    adjclose = pd.DataFrame(index_object_dictionary_ind['{0}'.format(ind)].adjclose, columns=[ind])\n",
        "  else:\n",
        "    open = pd.concat([open, pd.DataFrame(index_object_dictionary_ind['{0}'.format(ind)].open, columns=[ind])], axis=1)\n",
        "    high = pd.concat([high, pd.DataFrame(index_object_dictionary_ind['{0}'.format(ind)].high, columns=[ind])], axis=1)\n",
        "    low = pd.concat([low, pd.DataFrame(index_object_dictionary_ind['{0}'.format(ind)].low, columns=[ind])], axis=1)\n",
        "    adjclose = pd.concat([adjclose, pd.DataFrame(index_object_dictionary_ind['{0}'.format(ind)].adjclose, columns=[ind])], axis=1)\n",
        "\n",
        "for f in forfiles:\n",
        "  filename = 'industry ' + f \n",
        "  if f == 'open':\n",
        "    open.to_csv(filename, index=True)\n",
        "  if f == 'high':\n",
        "    high.to_csv(filename, index=True)\n",
        "  if f == 'low':\n",
        "    low.to_csv(filename, index=True)\n",
        "  if f == 'adjclose':\n",
        "    adjclose.to_csv(filename, index=True)"
      ],
      "id": "IBwuvNCAdaA8",
      "execution_count": 72,
      "outputs": []
    },
    {
      "cell_type": "code",
      "metadata": {
        "id": "_RlDQfPTdaj_"
      },
      "source": [
        "list_of_stock_to_erase = [] \n",
        "for i, mktcap in enumerate(marketcap_group.groups.keys()):\n",
        "  open_df_marketcap = open_df[marketcap_group.groups[list(marketcap_group.groups.keys())[i]]]\n",
        "  high_df_marketcap = high_df[marketcap_group.groups[list(marketcap_group.groups.keys())[i]]]\n",
        "  low_df_marketcap = low_df[marketcap_group.groups[list(marketcap_group.groups.keys())[i]]]\n",
        "  adjclose_df_marketcap = adjclose_df[marketcap_group.groups[list(marketcap_group.groups.keys())[i]]]\n",
        "  for ticker in marketcap_group.groups[list(marketcap_group.groups.keys())[i]]:\n",
        "    try:\n",
        "      open_df_marketcap[ticker] = open_df_marketcap[ticker] * financials_df['market_cap'].loc[ticker]\n",
        "      high_df_marketcap[ticker] = high_df_marketcap[ticker] * financials_df['market_cap'].loc[ticker]\n",
        "      low_df_marketcap[ticker] = low_df_marketcap[ticker] * financials_df['market_cap'].loc[ticker]\n",
        "      adjclose_df_marketcap[ticker] = adjclose_df_marketcap[ticker] * financials_df['market_cap'].loc[ticker]\n",
        "    except:\n",
        "      list_of_stock_to_erase.append(ticker)\n",
        "\n",
        "  index_object_dictionary_mktcap['{0}'.format(mktcap)].open = open_df_marketcap.sum(axis=1)/1000000000000000\n",
        "  index_object_dictionary_mktcap['{0}'.format(mktcap)].high = high_df_marketcap.sum(axis=1)/1000000000000000\n",
        "  index_object_dictionary_mktcap['{0}'.format(mktcap)].low = low_df_marketcap.sum(axis=1)/1000000000000000\n",
        "  index_object_dictionary_mktcap['{0}'.format(mktcap)].adjclose = adjclose_df_marketcap.sum(axis=1)/1000000000000000\n",
        "\n",
        "for i, mktcap in enumerate(index_object_dictionary_mktcap.keys()):\n",
        "  if i == 0:\n",
        "    open = pd.DataFrame(index_object_dictionary_mktcap['{0}'.format(mktcap)].open, columns=[mktcap])\n",
        "    high = pd.DataFrame(index_object_dictionary_mktcap['{0}'.format(mktcap)].high, columns=[mktcap])\n",
        "    low = pd.DataFrame(index_object_dictionary_mktcap['{0}'.format(mktcap)].low, columns=[mktcap])\n",
        "    adjclose = pd.DataFrame(index_object_dictionary_mktcap['{0}'.format(mktcap)].adjclose, columns=[mktcap])\n",
        "  else:\n",
        "    open = pd.concat([open, pd.DataFrame(index_object_dictionary_mktcap['{0}'.format(mktcap)].open, columns=[mktcap])], axis=1)\n",
        "    high = pd.concat([high, pd.DataFrame(index_object_dictionary_mktcap['{0}'.format(mktcap)].high, columns=[mktcap])], axis=1)\n",
        "    low = pd.concat([low, pd.DataFrame(index_object_dictionary_mktcap['{0}'.format(mktcap)].low, columns=[mktcap])], axis=1)\n",
        "    adjclose = pd.concat([adjclose, pd.DataFrame(index_object_dictionary_mktcap['{0}'.format(mktcap)].adjclose, columns=[mktcap])], axis=1)\n",
        "\n",
        "for f in forfiles:\n",
        "  filename = 'market_cap ' + f \n",
        "  if f == 'open':\n",
        "    open.to_csv(filename, index=True)\n",
        "  if f == 'high':\n",
        "    high.to_csv(filename, index=True)\n",
        "  if f == 'low':\n",
        "    low.to_csv(filename, index=True)\n",
        "  if f == 'adjclose':\n",
        "    adjclose.to_csv(filename, index=True)"
      ],
      "id": "_RlDQfPTdaj_",
      "execution_count": 73,
      "outputs": []
    },
    {
      "cell_type": "code",
      "metadata": {
        "id": "eU68kvSkNMeX"
      },
      "source": [
        "list_of_history = ['price','exchange_id', 'sector', 'industry', 'market_cap'] "
      ],
      "id": "eU68kvSkNMeX",
      "execution_count": 87,
      "outputs": []
    },
    {
      "cell_type": "code",
      "metadata": {
        "id": "8E-noeBZVwXx"
      },
      "source": [
        ""
      ],
      "id": "8E-noeBZVwXx",
      "execution_count": 87,
      "outputs": []
    },
    {
      "cell_type": "code",
      "metadata": {
        "id": "LaNIlox5LjRP"
      },
      "source": [
        "# Definition of a dictionary to store OHLC of all indeces\n",
        "indeces_object_dictionary = {'{0}'.format(ele): IndexClass(description=ele) for ele in list_of_history}"
      ],
      "id": "LaNIlox5LjRP",
      "execution_count": 89,
      "outputs": []
    },
    {
      "cell_type": "code",
      "metadata": {
        "colab": {
          "base_uri": "https://localhost:8080/",
          "height": 654
        },
        "id": "9YmS-IvFXQ4c",
        "outputId": "97bb5c65-26ab-43bd-d28c-167725cb8a26"
      },
      "source": [
        "open_df_index.loc[str(financials_df[str(ele)].loc[ticker])]"
      ],
      "id": "9YmS-IvFXQ4c",
      "execution_count": 95,
      "outputs": [
        {
          "output_type": "error",
          "ename": "KeyError",
          "evalue": "ignored",
          "traceback": [
            "\u001b[0;31m---------------------------------------------------------------------------\u001b[0m",
            "\u001b[0;31mKeyError\u001b[0m                                  Traceback (most recent call last)",
            "\u001b[0;32m/usr/local/lib/python3.7/dist-packages/pandas/core/indexes/base.py\u001b[0m in \u001b[0;36mget_loc\u001b[0;34m(self, key, method, tolerance)\u001b[0m\n\u001b[1;32m   2897\u001b[0m             \u001b[0;32mtry\u001b[0m\u001b[0;34m:\u001b[0m\u001b[0;34m\u001b[0m\u001b[0;34m\u001b[0m\u001b[0m\n\u001b[0;32m-> 2898\u001b[0;31m                 \u001b[0;32mreturn\u001b[0m \u001b[0mself\u001b[0m\u001b[0;34m.\u001b[0m\u001b[0m_engine\u001b[0m\u001b[0;34m.\u001b[0m\u001b[0mget_loc\u001b[0m\u001b[0;34m(\u001b[0m\u001b[0mcasted_key\u001b[0m\u001b[0;34m)\u001b[0m\u001b[0;34m\u001b[0m\u001b[0;34m\u001b[0m\u001b[0m\n\u001b[0m\u001b[1;32m   2899\u001b[0m             \u001b[0;32mexcept\u001b[0m \u001b[0mKeyError\u001b[0m \u001b[0;32mas\u001b[0m \u001b[0merr\u001b[0m\u001b[0;34m:\u001b[0m\u001b[0;34m\u001b[0m\u001b[0;34m\u001b[0m\u001b[0m\n",
            "\u001b[0;32mpandas/_libs/index.pyx\u001b[0m in \u001b[0;36mpandas._libs.index.IndexEngine.get_loc\u001b[0;34m()\u001b[0m\n",
            "\u001b[0;32mpandas/_libs/index.pyx\u001b[0m in \u001b[0;36mpandas._libs.index.IndexEngine.get_loc\u001b[0;34m()\u001b[0m\n",
            "\u001b[0;32mpandas/_libs/hashtable_class_helper.pxi\u001b[0m in \u001b[0;36mpandas._libs.hashtable.PyObjectHashTable.get_item\u001b[0;34m()\u001b[0m\n",
            "\u001b[0;32mpandas/_libs/hashtable_class_helper.pxi\u001b[0m in \u001b[0;36mpandas._libs.hashtable.PyObjectHashTable.get_item\u001b[0;34m()\u001b[0m\n",
            "\u001b[0;31mKeyError\u001b[0m: '64319999.99999999'",
            "\nThe above exception was the direct cause of the following exception:\n",
            "\u001b[0;31mKeyError\u001b[0m                                  Traceback (most recent call last)",
            "\u001b[0;32m<ipython-input-95-1831bae4825e>\u001b[0m in \u001b[0;36m<module>\u001b[0;34m()\u001b[0m\n\u001b[0;32m----> 1\u001b[0;31m \u001b[0mopen_df_index\u001b[0m\u001b[0;34m.\u001b[0m\u001b[0mloc\u001b[0m\u001b[0;34m[\u001b[0m\u001b[0mstr\u001b[0m\u001b[0;34m(\u001b[0m\u001b[0mfinancials_df\u001b[0m\u001b[0;34m[\u001b[0m\u001b[0mstr\u001b[0m\u001b[0;34m(\u001b[0m\u001b[0mele\u001b[0m\u001b[0;34m)\u001b[0m\u001b[0;34m]\u001b[0m\u001b[0;34m.\u001b[0m\u001b[0mloc\u001b[0m\u001b[0;34m[\u001b[0m\u001b[0mticker\u001b[0m\u001b[0;34m]\u001b[0m\u001b[0;34m)\u001b[0m\u001b[0;34m]\u001b[0m\u001b[0;34m\u001b[0m\u001b[0;34m\u001b[0m\u001b[0m\n\u001b[0m",
            "\u001b[0;32m/usr/local/lib/python3.7/dist-packages/pandas/core/indexing.py\u001b[0m in \u001b[0;36m__getitem__\u001b[0;34m(self, key)\u001b[0m\n\u001b[1;32m    877\u001b[0m \u001b[0;34m\u001b[0m\u001b[0m\n\u001b[1;32m    878\u001b[0m             \u001b[0mmaybe_callable\u001b[0m \u001b[0;34m=\u001b[0m \u001b[0mcom\u001b[0m\u001b[0;34m.\u001b[0m\u001b[0mapply_if_callable\u001b[0m\u001b[0;34m(\u001b[0m\u001b[0mkey\u001b[0m\u001b[0;34m,\u001b[0m \u001b[0mself\u001b[0m\u001b[0;34m.\u001b[0m\u001b[0mobj\u001b[0m\u001b[0;34m)\u001b[0m\u001b[0;34m\u001b[0m\u001b[0;34m\u001b[0m\u001b[0m\n\u001b[0;32m--> 879\u001b[0;31m             \u001b[0;32mreturn\u001b[0m \u001b[0mself\u001b[0m\u001b[0;34m.\u001b[0m\u001b[0m_getitem_axis\u001b[0m\u001b[0;34m(\u001b[0m\u001b[0mmaybe_callable\u001b[0m\u001b[0;34m,\u001b[0m \u001b[0maxis\u001b[0m\u001b[0;34m=\u001b[0m\u001b[0maxis\u001b[0m\u001b[0;34m)\u001b[0m\u001b[0;34m\u001b[0m\u001b[0;34m\u001b[0m\u001b[0m\n\u001b[0m\u001b[1;32m    880\u001b[0m \u001b[0;34m\u001b[0m\u001b[0m\n\u001b[1;32m    881\u001b[0m     \u001b[0;32mdef\u001b[0m \u001b[0m_is_scalar_access\u001b[0m\u001b[0;34m(\u001b[0m\u001b[0mself\u001b[0m\u001b[0;34m,\u001b[0m \u001b[0mkey\u001b[0m\u001b[0;34m:\u001b[0m \u001b[0mTuple\u001b[0m\u001b[0;34m)\u001b[0m\u001b[0;34m:\u001b[0m\u001b[0;34m\u001b[0m\u001b[0;34m\u001b[0m\u001b[0m\n",
            "\u001b[0;32m/usr/local/lib/python3.7/dist-packages/pandas/core/indexing.py\u001b[0m in \u001b[0;36m_getitem_axis\u001b[0;34m(self, key, axis)\u001b[0m\n\u001b[1;32m   1108\u001b[0m         \u001b[0;31m# fall thru to straight lookup\u001b[0m\u001b[0;34m\u001b[0m\u001b[0;34m\u001b[0m\u001b[0;34m\u001b[0m\u001b[0m\n\u001b[1;32m   1109\u001b[0m         \u001b[0mself\u001b[0m\u001b[0;34m.\u001b[0m\u001b[0m_validate_key\u001b[0m\u001b[0;34m(\u001b[0m\u001b[0mkey\u001b[0m\u001b[0;34m,\u001b[0m \u001b[0maxis\u001b[0m\u001b[0;34m)\u001b[0m\u001b[0;34m\u001b[0m\u001b[0;34m\u001b[0m\u001b[0m\n\u001b[0;32m-> 1110\u001b[0;31m         \u001b[0;32mreturn\u001b[0m \u001b[0mself\u001b[0m\u001b[0;34m.\u001b[0m\u001b[0m_get_label\u001b[0m\u001b[0;34m(\u001b[0m\u001b[0mkey\u001b[0m\u001b[0;34m,\u001b[0m \u001b[0maxis\u001b[0m\u001b[0;34m=\u001b[0m\u001b[0maxis\u001b[0m\u001b[0;34m)\u001b[0m\u001b[0;34m\u001b[0m\u001b[0;34m\u001b[0m\u001b[0m\n\u001b[0m\u001b[1;32m   1111\u001b[0m \u001b[0;34m\u001b[0m\u001b[0m\n\u001b[1;32m   1112\u001b[0m     \u001b[0;32mdef\u001b[0m \u001b[0m_get_slice_axis\u001b[0m\u001b[0;34m(\u001b[0m\u001b[0mself\u001b[0m\u001b[0;34m,\u001b[0m \u001b[0mslice_obj\u001b[0m\u001b[0;34m:\u001b[0m \u001b[0mslice\u001b[0m\u001b[0;34m,\u001b[0m \u001b[0maxis\u001b[0m\u001b[0;34m:\u001b[0m \u001b[0mint\u001b[0m\u001b[0;34m)\u001b[0m\u001b[0;34m:\u001b[0m\u001b[0;34m\u001b[0m\u001b[0;34m\u001b[0m\u001b[0m\n",
            "\u001b[0;32m/usr/local/lib/python3.7/dist-packages/pandas/core/indexing.py\u001b[0m in \u001b[0;36m_get_label\u001b[0;34m(self, label, axis)\u001b[0m\n\u001b[1;32m   1057\u001b[0m     \u001b[0;32mdef\u001b[0m \u001b[0m_get_label\u001b[0m\u001b[0;34m(\u001b[0m\u001b[0mself\u001b[0m\u001b[0;34m,\u001b[0m \u001b[0mlabel\u001b[0m\u001b[0;34m,\u001b[0m \u001b[0maxis\u001b[0m\u001b[0;34m:\u001b[0m \u001b[0mint\u001b[0m\u001b[0;34m)\u001b[0m\u001b[0;34m:\u001b[0m\u001b[0;34m\u001b[0m\u001b[0;34m\u001b[0m\u001b[0m\n\u001b[1;32m   1058\u001b[0m         \u001b[0;31m# GH#5667 this will fail if the label is not present in the axis.\u001b[0m\u001b[0;34m\u001b[0m\u001b[0;34m\u001b[0m\u001b[0;34m\u001b[0m\u001b[0m\n\u001b[0;32m-> 1059\u001b[0;31m         \u001b[0;32mreturn\u001b[0m \u001b[0mself\u001b[0m\u001b[0;34m.\u001b[0m\u001b[0mobj\u001b[0m\u001b[0;34m.\u001b[0m\u001b[0mxs\u001b[0m\u001b[0;34m(\u001b[0m\u001b[0mlabel\u001b[0m\u001b[0;34m,\u001b[0m \u001b[0maxis\u001b[0m\u001b[0;34m=\u001b[0m\u001b[0maxis\u001b[0m\u001b[0;34m)\u001b[0m\u001b[0;34m\u001b[0m\u001b[0;34m\u001b[0m\u001b[0m\n\u001b[0m\u001b[1;32m   1060\u001b[0m \u001b[0;34m\u001b[0m\u001b[0m\n\u001b[1;32m   1061\u001b[0m     \u001b[0;32mdef\u001b[0m \u001b[0m_handle_lowerdim_multi_index_axis0\u001b[0m\u001b[0;34m(\u001b[0m\u001b[0mself\u001b[0m\u001b[0;34m,\u001b[0m \u001b[0mtup\u001b[0m\u001b[0;34m:\u001b[0m \u001b[0mTuple\u001b[0m\u001b[0;34m)\u001b[0m\u001b[0;34m:\u001b[0m\u001b[0;34m\u001b[0m\u001b[0;34m\u001b[0m\u001b[0m\n",
            "\u001b[0;32m/usr/local/lib/python3.7/dist-packages/pandas/core/generic.py\u001b[0m in \u001b[0;36mxs\u001b[0;34m(self, key, axis, level, drop_level)\u001b[0m\n\u001b[1;32m   3491\u001b[0m             \u001b[0mloc\u001b[0m\u001b[0;34m,\u001b[0m \u001b[0mnew_index\u001b[0m \u001b[0;34m=\u001b[0m \u001b[0mself\u001b[0m\u001b[0;34m.\u001b[0m\u001b[0mindex\u001b[0m\u001b[0;34m.\u001b[0m\u001b[0mget_loc_level\u001b[0m\u001b[0;34m(\u001b[0m\u001b[0mkey\u001b[0m\u001b[0;34m,\u001b[0m \u001b[0mdrop_level\u001b[0m\u001b[0;34m=\u001b[0m\u001b[0mdrop_level\u001b[0m\u001b[0;34m)\u001b[0m\u001b[0;34m\u001b[0m\u001b[0;34m\u001b[0m\u001b[0m\n\u001b[1;32m   3492\u001b[0m         \u001b[0;32melse\u001b[0m\u001b[0;34m:\u001b[0m\u001b[0;34m\u001b[0m\u001b[0;34m\u001b[0m\u001b[0m\n\u001b[0;32m-> 3493\u001b[0;31m             \u001b[0mloc\u001b[0m \u001b[0;34m=\u001b[0m \u001b[0mself\u001b[0m\u001b[0;34m.\u001b[0m\u001b[0mindex\u001b[0m\u001b[0;34m.\u001b[0m\u001b[0mget_loc\u001b[0m\u001b[0;34m(\u001b[0m\u001b[0mkey\u001b[0m\u001b[0;34m)\u001b[0m\u001b[0;34m\u001b[0m\u001b[0;34m\u001b[0m\u001b[0m\n\u001b[0m\u001b[1;32m   3494\u001b[0m \u001b[0;34m\u001b[0m\u001b[0m\n\u001b[1;32m   3495\u001b[0m             \u001b[0;32mif\u001b[0m \u001b[0misinstance\u001b[0m\u001b[0;34m(\u001b[0m\u001b[0mloc\u001b[0m\u001b[0;34m,\u001b[0m \u001b[0mnp\u001b[0m\u001b[0;34m.\u001b[0m\u001b[0mndarray\u001b[0m\u001b[0;34m)\u001b[0m\u001b[0;34m:\u001b[0m\u001b[0;34m\u001b[0m\u001b[0;34m\u001b[0m\u001b[0m\n",
            "\u001b[0;32m/usr/local/lib/python3.7/dist-packages/pandas/core/indexes/base.py\u001b[0m in \u001b[0;36mget_loc\u001b[0;34m(self, key, method, tolerance)\u001b[0m\n\u001b[1;32m   2898\u001b[0m                 \u001b[0;32mreturn\u001b[0m \u001b[0mself\u001b[0m\u001b[0;34m.\u001b[0m\u001b[0m_engine\u001b[0m\u001b[0;34m.\u001b[0m\u001b[0mget_loc\u001b[0m\u001b[0;34m(\u001b[0m\u001b[0mcasted_key\u001b[0m\u001b[0;34m)\u001b[0m\u001b[0;34m\u001b[0m\u001b[0;34m\u001b[0m\u001b[0m\n\u001b[1;32m   2899\u001b[0m             \u001b[0;32mexcept\u001b[0m \u001b[0mKeyError\u001b[0m \u001b[0;32mas\u001b[0m \u001b[0merr\u001b[0m\u001b[0;34m:\u001b[0m\u001b[0;34m\u001b[0m\u001b[0;34m\u001b[0m\u001b[0m\n\u001b[0;32m-> 2900\u001b[0;31m                 \u001b[0;32mraise\u001b[0m \u001b[0mKeyError\u001b[0m\u001b[0;34m(\u001b[0m\u001b[0mkey\u001b[0m\u001b[0;34m)\u001b[0m \u001b[0;32mfrom\u001b[0m \u001b[0merr\u001b[0m\u001b[0;34m\u001b[0m\u001b[0;34m\u001b[0m\u001b[0m\n\u001b[0m\u001b[1;32m   2901\u001b[0m \u001b[0;34m\u001b[0m\u001b[0m\n\u001b[1;32m   2902\u001b[0m         \u001b[0;32mif\u001b[0m \u001b[0mtolerance\u001b[0m \u001b[0;32mis\u001b[0m \u001b[0;32mnot\u001b[0m \u001b[0;32mNone\u001b[0m\u001b[0;34m:\u001b[0m\u001b[0;34m\u001b[0m\u001b[0;34m\u001b[0m\u001b[0m\n",
            "\u001b[0;31mKeyError\u001b[0m: '64319999.99999999'"
          ]
        }
      ]
    },
    {
      "cell_type": "code",
      "metadata": {
        "id": "zi_FDSdOcUmu",
        "outputId": "655f2472-6f50-4adc-fae1-d0ca6e1bac20",
        "colab": {
          "base_uri": "https://localhost:8080/",
          "height": 413
        }
      },
      "source": [
        "open_df_index"
      ],
      "id": "zi_FDSdOcUmu",
      "execution_count": 99,
      "outputs": [
        {
          "output_type": "execute_result",
          "data": {
            "text/html": [
              "<div>\n",
              "<style scoped>\n",
              "    .dataframe tbody tr th:only-of-type {\n",
              "        vertical-align: middle;\n",
              "    }\n",
              "\n",
              "    .dataframe tbody tr th {\n",
              "        vertical-align: top;\n",
              "    }\n",
              "\n",
              "    .dataframe thead th {\n",
              "        text-align: right;\n",
              "    }\n",
              "</style>\n",
              "<table border=\"1\" class=\"dataframe\">\n",
              "  <thead>\n",
              "    <tr style=\"text-align: right;\">\n",
              "      <th>date</th>\n",
              "      <th>2019-07-29</th>\n",
              "      <th>2019-07-30</th>\n",
              "      <th>2019-07-31</th>\n",
              "      <th>2019-08-01</th>\n",
              "      <th>2019-08-02</th>\n",
              "      <th>2019-08-05</th>\n",
              "      <th>2019-08-06</th>\n",
              "      <th>2019-08-07</th>\n",
              "      <th>2019-08-08</th>\n",
              "      <th>2019-08-09</th>\n",
              "      <th>2019-08-12</th>\n",
              "      <th>2019-08-13</th>\n",
              "      <th>2019-08-14</th>\n",
              "      <th>2019-08-15</th>\n",
              "      <th>2019-08-16</th>\n",
              "      <th>2019-08-19</th>\n",
              "      <th>2019-08-20</th>\n",
              "      <th>2019-08-21</th>\n",
              "      <th>2019-08-22</th>\n",
              "      <th>2019-08-23</th>\n",
              "      <th>2019-08-26</th>\n",
              "      <th>2019-08-27</th>\n",
              "      <th>2019-08-28</th>\n",
              "      <th>2019-08-29</th>\n",
              "      <th>2019-08-30</th>\n",
              "      <th>2019-09-03</th>\n",
              "      <th>2019-09-04</th>\n",
              "      <th>2019-09-05</th>\n",
              "      <th>2019-09-06</th>\n",
              "      <th>2019-09-09</th>\n",
              "      <th>2019-09-10</th>\n",
              "      <th>2019-09-11</th>\n",
              "      <th>2019-09-12</th>\n",
              "      <th>2019-09-13</th>\n",
              "      <th>2019-09-16</th>\n",
              "      <th>2019-09-17</th>\n",
              "      <th>2019-09-18</th>\n",
              "      <th>2019-09-19</th>\n",
              "      <th>2019-09-20</th>\n",
              "      <th>2019-09-23</th>\n",
              "      <th>...</th>\n",
              "      <th>2021-01-21</th>\n",
              "      <th>2021-01-22</th>\n",
              "      <th>2021-01-25</th>\n",
              "      <th>2021-01-26</th>\n",
              "      <th>2021-01-27</th>\n",
              "      <th>2021-01-28</th>\n",
              "      <th>2021-01-29</th>\n",
              "      <th>2021-02-01</th>\n",
              "      <th>2021-02-02</th>\n",
              "      <th>2021-02-03</th>\n",
              "      <th>2021-02-04</th>\n",
              "      <th>2021-02-05</th>\n",
              "      <th>2021-02-08</th>\n",
              "      <th>2021-02-09</th>\n",
              "      <th>2021-02-10</th>\n",
              "      <th>2021-02-11</th>\n",
              "      <th>2021-02-12</th>\n",
              "      <th>2021-02-16</th>\n",
              "      <th>2021-02-17</th>\n",
              "      <th>2021-02-18</th>\n",
              "      <th>2021-02-19</th>\n",
              "      <th>2021-02-22</th>\n",
              "      <th>2021-02-23</th>\n",
              "      <th>2021-02-24</th>\n",
              "      <th>2021-02-25</th>\n",
              "      <th>2021-02-26</th>\n",
              "      <th>2021-03-01</th>\n",
              "      <th>2021-03-02</th>\n",
              "      <th>2021-03-03</th>\n",
              "      <th>2021-03-04</th>\n",
              "      <th>2021-03-05</th>\n",
              "      <th>2021-03-08</th>\n",
              "      <th>2021-03-09</th>\n",
              "      <th>2021-03-10</th>\n",
              "      <th>2021-03-11</th>\n",
              "      <th>2021-03-12</th>\n",
              "      <th>2021-03-15</th>\n",
              "      <th>2021-03-16</th>\n",
              "      <th>2021-03-17</th>\n",
              "      <th>2021-03-18</th>\n",
              "    </tr>\n",
              "  </thead>\n",
              "  <tbody>\n",
              "    <tr>\n",
              "      <th>0.0</th>\n",
              "      <td>0.000605</td>\n",
              "      <td>0.000599</td>\n",
              "      <td>0.000601</td>\n",
              "      <td>0.000599</td>\n",
              "      <td>0.000587</td>\n",
              "      <td>0.000579</td>\n",
              "      <td>0.000578</td>\n",
              "      <td>0.000574</td>\n",
              "      <td>0.000579</td>\n",
              "      <td>0.000581</td>\n",
              "      <td>0.000576</td>\n",
              "      <td>0.000575</td>\n",
              "      <td>0.000572</td>\n",
              "      <td>0.000572</td>\n",
              "      <td>0.000578</td>\n",
              "      <td>0.000587</td>\n",
              "      <td>0.000580</td>\n",
              "      <td>0.000578</td>\n",
              "      <td>0.000580</td>\n",
              "      <td>0.000580</td>\n",
              "      <td>0.000575</td>\n",
              "      <td>0.000580</td>\n",
              "      <td>0.000574</td>\n",
              "      <td>0.000584</td>\n",
              "      <td>0.000590</td>\n",
              "      <td>0.000582</td>\n",
              "      <td>0.000586</td>\n",
              "      <td>0.000589</td>\n",
              "      <td>0.000591</td>\n",
              "      <td>0.000594</td>\n",
              "      <td>0.000598</td>\n",
              "      <td>0.000600</td>\n",
              "      <td>0.000609</td>\n",
              "      <td>0.000613</td>\n",
              "      <td>0.000611</td>\n",
              "      <td>0.000607</td>\n",
              "      <td>0.000604</td>\n",
              "      <td>0.000608</td>\n",
              "      <td>0.000605</td>\n",
              "      <td>0.000599</td>\n",
              "      <td>...</td>\n",
              "      <td>0.000679</td>\n",
              "      <td>0.000675</td>\n",
              "      <td>0.000673</td>\n",
              "      <td>0.000675</td>\n",
              "      <td>0.000666</td>\n",
              "      <td>0.000664</td>\n",
              "      <td>0.000666</td>\n",
              "      <td>0.000666</td>\n",
              "      <td>0.000673</td>\n",
              "      <td>0.000677</td>\n",
              "      <td>0.000681</td>\n",
              "      <td>0.000690</td>\n",
              "      <td>0.000691</td>\n",
              "      <td>0.000697</td>\n",
              "      <td>0.000710</td>\n",
              "      <td>0.000706</td>\n",
              "      <td>0.000702</td>\n",
              "      <td>0.000716</td>\n",
              "      <td>0.000716</td>\n",
              "      <td>0.000717</td>\n",
              "      <td>0.000717</td>\n",
              "      <td>0.000707</td>\n",
              "      <td>0.000717</td>\n",
              "      <td>0.000718</td>\n",
              "      <td>0.000728</td>\n",
              "      <td>0.000714</td>\n",
              "      <td>0.000720</td>\n",
              "      <td>0.000731</td>\n",
              "      <td>0.000728</td>\n",
              "      <td>0.000732</td>\n",
              "      <td>0.000723</td>\n",
              "      <td>0.000742</td>\n",
              "      <td>0.000753</td>\n",
              "      <td>0.000760</td>\n",
              "      <td>0.000775</td>\n",
              "      <td>0.000768</td>\n",
              "      <td>0.000766</td>\n",
              "      <td>0.000753</td>\n",
              "      <td>0.000744</td>\n",
              "      <td>0.000750</td>\n",
              "    </tr>\n",
              "    <tr>\n",
              "      <th>1.0</th>\n",
              "      <td>0.000220</td>\n",
              "      <td>0.000217</td>\n",
              "      <td>0.000220</td>\n",
              "      <td>0.000219</td>\n",
              "      <td>0.000215</td>\n",
              "      <td>0.000211</td>\n",
              "      <td>0.000209</td>\n",
              "      <td>0.000208</td>\n",
              "      <td>0.000212</td>\n",
              "      <td>0.000213</td>\n",
              "      <td>0.000212</td>\n",
              "      <td>0.000210</td>\n",
              "      <td>0.000210</td>\n",
              "      <td>0.000208</td>\n",
              "      <td>0.000208</td>\n",
              "      <td>0.000212</td>\n",
              "      <td>0.000212</td>\n",
              "      <td>0.000213</td>\n",
              "      <td>0.000213</td>\n",
              "      <td>0.000212</td>\n",
              "      <td>0.000208</td>\n",
              "      <td>0.000210</td>\n",
              "      <td>0.000207</td>\n",
              "      <td>0.000211</td>\n",
              "      <td>0.000213</td>\n",
              "      <td>0.000210</td>\n",
              "      <td>0.000210</td>\n",
              "      <td>0.000212</td>\n",
              "      <td>0.000214</td>\n",
              "      <td>0.000214</td>\n",
              "      <td>0.000215</td>\n",
              "      <td>0.000217</td>\n",
              "      <td>0.000219</td>\n",
              "      <td>0.000221</td>\n",
              "      <td>0.000221</td>\n",
              "      <td>0.000220</td>\n",
              "      <td>0.000220</td>\n",
              "      <td>0.000220</td>\n",
              "      <td>0.000219</td>\n",
              "      <td>0.000217</td>\n",
              "      <td>...</td>\n",
              "      <td>0.000228</td>\n",
              "      <td>0.000224</td>\n",
              "      <td>0.000228</td>\n",
              "      <td>0.000231</td>\n",
              "      <td>0.000225</td>\n",
              "      <td>0.000224</td>\n",
              "      <td>0.000224</td>\n",
              "      <td>0.000222</td>\n",
              "      <td>0.000227</td>\n",
              "      <td>0.000229</td>\n",
              "      <td>0.000231</td>\n",
              "      <td>0.000237</td>\n",
              "      <td>0.000240</td>\n",
              "      <td>0.000245</td>\n",
              "      <td>0.000248</td>\n",
              "      <td>0.000246</td>\n",
              "      <td>0.000245</td>\n",
              "      <td>0.000248</td>\n",
              "      <td>0.000245</td>\n",
              "      <td>0.000242</td>\n",
              "      <td>0.000242</td>\n",
              "      <td>0.000243</td>\n",
              "      <td>0.000241</td>\n",
              "      <td>0.000243</td>\n",
              "      <td>0.000246</td>\n",
              "      <td>0.000239</td>\n",
              "      <td>0.000240</td>\n",
              "      <td>0.000243</td>\n",
              "      <td>0.000241</td>\n",
              "      <td>0.000238</td>\n",
              "      <td>0.000236</td>\n",
              "      <td>0.000239</td>\n",
              "      <td>0.000244</td>\n",
              "      <td>0.000245</td>\n",
              "      <td>0.000249</td>\n",
              "      <td>0.000250</td>\n",
              "      <td>0.000252</td>\n",
              "      <td>0.000252</td>\n",
              "      <td>0.000248</td>\n",
              "      <td>0.000249</td>\n",
              "    </tr>\n",
              "    <tr>\n",
              "      <th>2.0</th>\n",
              "      <td>0.000353</td>\n",
              "      <td>0.000350</td>\n",
              "      <td>0.000354</td>\n",
              "      <td>0.000351</td>\n",
              "      <td>0.000344</td>\n",
              "      <td>0.000337</td>\n",
              "      <td>0.000335</td>\n",
              "      <td>0.000333</td>\n",
              "      <td>0.000337</td>\n",
              "      <td>0.000340</td>\n",
              "      <td>0.000337</td>\n",
              "      <td>0.000333</td>\n",
              "      <td>0.000334</td>\n",
              "      <td>0.000330</td>\n",
              "      <td>0.000331</td>\n",
              "      <td>0.000339</td>\n",
              "      <td>0.000338</td>\n",
              "      <td>0.000338</td>\n",
              "      <td>0.000338</td>\n",
              "      <td>0.000335</td>\n",
              "      <td>0.000330</td>\n",
              "      <td>0.000332</td>\n",
              "      <td>0.000326</td>\n",
              "      <td>0.000333</td>\n",
              "      <td>0.000336</td>\n",
              "      <td>0.000332</td>\n",
              "      <td>0.000333</td>\n",
              "      <td>0.000336</td>\n",
              "      <td>0.000340</td>\n",
              "      <td>0.000340</td>\n",
              "      <td>0.000340</td>\n",
              "      <td>0.000343</td>\n",
              "      <td>0.000348</td>\n",
              "      <td>0.000348</td>\n",
              "      <td>0.000347</td>\n",
              "      <td>0.000348</td>\n",
              "      <td>0.000350</td>\n",
              "      <td>0.000349</td>\n",
              "      <td>0.000348</td>\n",
              "      <td>0.000346</td>\n",
              "      <td>...</td>\n",
              "      <td>0.000473</td>\n",
              "      <td>0.000467</td>\n",
              "      <td>0.000474</td>\n",
              "      <td>0.000475</td>\n",
              "      <td>0.000463</td>\n",
              "      <td>0.000463</td>\n",
              "      <td>0.000459</td>\n",
              "      <td>0.000457</td>\n",
              "      <td>0.000469</td>\n",
              "      <td>0.000471</td>\n",
              "      <td>0.000475</td>\n",
              "      <td>0.000484</td>\n",
              "      <td>0.000490</td>\n",
              "      <td>0.000497</td>\n",
              "      <td>0.000503</td>\n",
              "      <td>0.000501</td>\n",
              "      <td>0.000496</td>\n",
              "      <td>0.000502</td>\n",
              "      <td>0.000493</td>\n",
              "      <td>0.000489</td>\n",
              "      <td>0.000491</td>\n",
              "      <td>0.000493</td>\n",
              "      <td>0.000486</td>\n",
              "      <td>0.000489</td>\n",
              "      <td>0.000495</td>\n",
              "      <td>0.000484</td>\n",
              "      <td>0.000490</td>\n",
              "      <td>0.000497</td>\n",
              "      <td>0.000491</td>\n",
              "      <td>0.000483</td>\n",
              "      <td>0.000475</td>\n",
              "      <td>0.000478</td>\n",
              "      <td>0.000486</td>\n",
              "      <td>0.000491</td>\n",
              "      <td>0.000499</td>\n",
              "      <td>0.000502</td>\n",
              "      <td>0.000506</td>\n",
              "      <td>0.000509</td>\n",
              "      <td>0.000502</td>\n",
              "      <td>0.000505</td>\n",
              "    </tr>\n",
              "    <tr>\n",
              "      <th>3.0</th>\n",
              "      <td>0.000510</td>\n",
              "      <td>0.000503</td>\n",
              "      <td>0.000508</td>\n",
              "      <td>0.000504</td>\n",
              "      <td>0.000497</td>\n",
              "      <td>0.000484</td>\n",
              "      <td>0.000481</td>\n",
              "      <td>0.000479</td>\n",
              "      <td>0.000487</td>\n",
              "      <td>0.000493</td>\n",
              "      <td>0.000487</td>\n",
              "      <td>0.000483</td>\n",
              "      <td>0.000481</td>\n",
              "      <td>0.000478</td>\n",
              "      <td>0.000479</td>\n",
              "      <td>0.000490</td>\n",
              "      <td>0.000487</td>\n",
              "      <td>0.000490</td>\n",
              "      <td>0.000492</td>\n",
              "      <td>0.000487</td>\n",
              "      <td>0.000480</td>\n",
              "      <td>0.000484</td>\n",
              "      <td>0.000475</td>\n",
              "      <td>0.000485</td>\n",
              "      <td>0.000490</td>\n",
              "      <td>0.000484</td>\n",
              "      <td>0.000486</td>\n",
              "      <td>0.000491</td>\n",
              "      <td>0.000494</td>\n",
              "      <td>0.000494</td>\n",
              "      <td>0.000489</td>\n",
              "      <td>0.000494</td>\n",
              "      <td>0.000501</td>\n",
              "      <td>0.000503</td>\n",
              "      <td>0.000500</td>\n",
              "      <td>0.000501</td>\n",
              "      <td>0.000503</td>\n",
              "      <td>0.000502</td>\n",
              "      <td>0.000501</td>\n",
              "      <td>0.000499</td>\n",
              "      <td>...</td>\n",
              "      <td>0.000695</td>\n",
              "      <td>0.000685</td>\n",
              "      <td>0.000694</td>\n",
              "      <td>0.000695</td>\n",
              "      <td>0.000674</td>\n",
              "      <td>0.000676</td>\n",
              "      <td>0.000670</td>\n",
              "      <td>0.000665</td>\n",
              "      <td>0.000682</td>\n",
              "      <td>0.000686</td>\n",
              "      <td>0.000687</td>\n",
              "      <td>0.000703</td>\n",
              "      <td>0.000710</td>\n",
              "      <td>0.000719</td>\n",
              "      <td>0.000728</td>\n",
              "      <td>0.000724</td>\n",
              "      <td>0.000722</td>\n",
              "      <td>0.000731</td>\n",
              "      <td>0.000716</td>\n",
              "      <td>0.000712</td>\n",
              "      <td>0.000715</td>\n",
              "      <td>0.000714</td>\n",
              "      <td>0.000698</td>\n",
              "      <td>0.000703</td>\n",
              "      <td>0.000708</td>\n",
              "      <td>0.000690</td>\n",
              "      <td>0.000700</td>\n",
              "      <td>0.000709</td>\n",
              "      <td>0.000698</td>\n",
              "      <td>0.000679</td>\n",
              "      <td>0.000672</td>\n",
              "      <td>0.000681</td>\n",
              "      <td>0.000686</td>\n",
              "      <td>0.000697</td>\n",
              "      <td>0.000706</td>\n",
              "      <td>0.000708</td>\n",
              "      <td>0.000715</td>\n",
              "      <td>0.000720</td>\n",
              "      <td>0.000707</td>\n",
              "      <td>0.000710</td>\n",
              "    </tr>\n",
              "    <tr>\n",
              "      <th>4.0</th>\n",
              "      <td>0.000887</td>\n",
              "      <td>0.000875</td>\n",
              "      <td>0.000882</td>\n",
              "      <td>0.000873</td>\n",
              "      <td>0.000861</td>\n",
              "      <td>0.000839</td>\n",
              "      <td>0.000832</td>\n",
              "      <td>0.000831</td>\n",
              "      <td>0.000851</td>\n",
              "      <td>0.000863</td>\n",
              "      <td>0.000849</td>\n",
              "      <td>0.000843</td>\n",
              "      <td>0.000840</td>\n",
              "      <td>0.000830</td>\n",
              "      <td>0.000831</td>\n",
              "      <td>0.000851</td>\n",
              "      <td>0.000846</td>\n",
              "      <td>0.000850</td>\n",
              "      <td>0.000850</td>\n",
              "      <td>0.000842</td>\n",
              "      <td>0.000830</td>\n",
              "      <td>0.000835</td>\n",
              "      <td>0.000820</td>\n",
              "      <td>0.000836</td>\n",
              "      <td>0.000843</td>\n",
              "      <td>0.000835</td>\n",
              "      <td>0.000836</td>\n",
              "      <td>0.000841</td>\n",
              "      <td>0.000847</td>\n",
              "      <td>0.000845</td>\n",
              "      <td>0.000838</td>\n",
              "      <td>0.000843</td>\n",
              "      <td>0.000856</td>\n",
              "      <td>0.000857</td>\n",
              "      <td>0.000851</td>\n",
              "      <td>0.000855</td>\n",
              "      <td>0.000856</td>\n",
              "      <td>0.000854</td>\n",
              "      <td>0.000851</td>\n",
              "      <td>0.000846</td>\n",
              "      <td>...</td>\n",
              "      <td>0.001219</td>\n",
              "      <td>0.001197</td>\n",
              "      <td>0.001211</td>\n",
              "      <td>0.001206</td>\n",
              "      <td>0.001159</td>\n",
              "      <td>0.001159</td>\n",
              "      <td>0.001167</td>\n",
              "      <td>0.001160</td>\n",
              "      <td>0.001190</td>\n",
              "      <td>0.001201</td>\n",
              "      <td>0.001202</td>\n",
              "      <td>0.001225</td>\n",
              "      <td>0.001235</td>\n",
              "      <td>0.001243</td>\n",
              "      <td>0.001257</td>\n",
              "      <td>0.001257</td>\n",
              "      <td>0.001256</td>\n",
              "      <td>0.001272</td>\n",
              "      <td>0.001253</td>\n",
              "      <td>0.001243</td>\n",
              "      <td>0.001247</td>\n",
              "      <td>0.001252</td>\n",
              "      <td>0.001225</td>\n",
              "      <td>0.001239</td>\n",
              "      <td>0.001254</td>\n",
              "      <td>0.001220</td>\n",
              "      <td>0.001241</td>\n",
              "      <td>0.001251</td>\n",
              "      <td>0.001229</td>\n",
              "      <td>0.001197</td>\n",
              "      <td>0.001178</td>\n",
              "      <td>0.001191</td>\n",
              "      <td>0.001205</td>\n",
              "      <td>0.001223</td>\n",
              "      <td>0.001234</td>\n",
              "      <td>0.001239</td>\n",
              "      <td>0.001251</td>\n",
              "      <td>0.001266</td>\n",
              "      <td>0.001241</td>\n",
              "      <td>0.001246</td>\n",
              "    </tr>\n",
              "    <tr>\n",
              "      <th>5.0</th>\n",
              "      <td>0.001128</td>\n",
              "      <td>0.001110</td>\n",
              "      <td>0.001123</td>\n",
              "      <td>0.001113</td>\n",
              "      <td>0.001091</td>\n",
              "      <td>0.001063</td>\n",
              "      <td>0.001061</td>\n",
              "      <td>0.001053</td>\n",
              "      <td>0.001075</td>\n",
              "      <td>0.001085</td>\n",
              "      <td>0.001071</td>\n",
              "      <td>0.001060</td>\n",
              "      <td>0.001058</td>\n",
              "      <td>0.001046</td>\n",
              "      <td>0.001047</td>\n",
              "      <td>0.001073</td>\n",
              "      <td>0.001067</td>\n",
              "      <td>0.001073</td>\n",
              "      <td>0.001077</td>\n",
              "      <td>0.001066</td>\n",
              "      <td>0.001054</td>\n",
              "      <td>0.001059</td>\n",
              "      <td>0.001039</td>\n",
              "      <td>0.001063</td>\n",
              "      <td>0.001068</td>\n",
              "      <td>0.001056</td>\n",
              "      <td>0.001061</td>\n",
              "      <td>0.001070</td>\n",
              "      <td>0.001079</td>\n",
              "      <td>0.001076</td>\n",
              "      <td>0.001064</td>\n",
              "      <td>0.001074</td>\n",
              "      <td>0.001090</td>\n",
              "      <td>0.001090</td>\n",
              "      <td>0.001081</td>\n",
              "      <td>0.001088</td>\n",
              "      <td>0.001088</td>\n",
              "      <td>0.001088</td>\n",
              "      <td>0.001086</td>\n",
              "      <td>0.001078</td>\n",
              "      <td>...</td>\n",
              "      <td>0.001488</td>\n",
              "      <td>0.001467</td>\n",
              "      <td>0.001495</td>\n",
              "      <td>0.001495</td>\n",
              "      <td>0.001462</td>\n",
              "      <td>0.001458</td>\n",
              "      <td>0.001468</td>\n",
              "      <td>0.001459</td>\n",
              "      <td>0.001479</td>\n",
              "      <td>0.001489</td>\n",
              "      <td>0.001495</td>\n",
              "      <td>0.001525</td>\n",
              "      <td>0.001542</td>\n",
              "      <td>0.001557</td>\n",
              "      <td>0.001565</td>\n",
              "      <td>0.001561</td>\n",
              "      <td>0.001558</td>\n",
              "      <td>0.001581</td>\n",
              "      <td>0.001549</td>\n",
              "      <td>0.001536</td>\n",
              "      <td>0.001546</td>\n",
              "      <td>0.001547</td>\n",
              "      <td>0.001514</td>\n",
              "      <td>0.001532</td>\n",
              "      <td>0.001558</td>\n",
              "      <td>0.001513</td>\n",
              "      <td>0.001538</td>\n",
              "      <td>0.001558</td>\n",
              "      <td>0.001531</td>\n",
              "      <td>0.001499</td>\n",
              "      <td>0.001480</td>\n",
              "      <td>0.001498</td>\n",
              "      <td>0.001514</td>\n",
              "      <td>0.001538</td>\n",
              "      <td>0.001547</td>\n",
              "      <td>0.001558</td>\n",
              "      <td>0.001577</td>\n",
              "      <td>0.001589</td>\n",
              "      <td>0.001559</td>\n",
              "      <td>0.001566</td>\n",
              "    </tr>\n",
              "    <tr>\n",
              "      <th>6.0</th>\n",
              "      <td>0.001572</td>\n",
              "      <td>0.001554</td>\n",
              "      <td>0.001568</td>\n",
              "      <td>0.001556</td>\n",
              "      <td>0.001530</td>\n",
              "      <td>0.001491</td>\n",
              "      <td>0.001482</td>\n",
              "      <td>0.001471</td>\n",
              "      <td>0.001501</td>\n",
              "      <td>0.001516</td>\n",
              "      <td>0.001496</td>\n",
              "      <td>0.001482</td>\n",
              "      <td>0.001480</td>\n",
              "      <td>0.001463</td>\n",
              "      <td>0.001469</td>\n",
              "      <td>0.001502</td>\n",
              "      <td>0.001495</td>\n",
              "      <td>0.001501</td>\n",
              "      <td>0.001506</td>\n",
              "      <td>0.001491</td>\n",
              "      <td>0.001473</td>\n",
              "      <td>0.001481</td>\n",
              "      <td>0.001457</td>\n",
              "      <td>0.001487</td>\n",
              "      <td>0.001500</td>\n",
              "      <td>0.001483</td>\n",
              "      <td>0.001490</td>\n",
              "      <td>0.001507</td>\n",
              "      <td>0.001516</td>\n",
              "      <td>0.001519</td>\n",
              "      <td>0.001502</td>\n",
              "      <td>0.001517</td>\n",
              "      <td>0.001537</td>\n",
              "      <td>0.001540</td>\n",
              "      <td>0.001526</td>\n",
              "      <td>0.001534</td>\n",
              "      <td>0.001538</td>\n",
              "      <td>0.001537</td>\n",
              "      <td>0.001537</td>\n",
              "      <td>0.001527</td>\n",
              "      <td>...</td>\n",
              "      <td>0.002151</td>\n",
              "      <td>0.002122</td>\n",
              "      <td>0.002145</td>\n",
              "      <td>0.002146</td>\n",
              "      <td>0.002078</td>\n",
              "      <td>0.002066</td>\n",
              "      <td>0.002069</td>\n",
              "      <td>0.002065</td>\n",
              "      <td>0.002114</td>\n",
              "      <td>0.002128</td>\n",
              "      <td>0.002133</td>\n",
              "      <td>0.002170</td>\n",
              "      <td>0.002186</td>\n",
              "      <td>0.002196</td>\n",
              "      <td>0.002220</td>\n",
              "      <td>0.002213</td>\n",
              "      <td>0.002197</td>\n",
              "      <td>0.002234</td>\n",
              "      <td>0.002195</td>\n",
              "      <td>0.002171</td>\n",
              "      <td>0.002187</td>\n",
              "      <td>0.002182</td>\n",
              "      <td>0.002138</td>\n",
              "      <td>0.002148</td>\n",
              "      <td>0.002166</td>\n",
              "      <td>0.002115</td>\n",
              "      <td>0.002144</td>\n",
              "      <td>0.002166</td>\n",
              "      <td>0.002134</td>\n",
              "      <td>0.002083</td>\n",
              "      <td>0.002058</td>\n",
              "      <td>0.002083</td>\n",
              "      <td>0.002094</td>\n",
              "      <td>0.002124</td>\n",
              "      <td>0.002138</td>\n",
              "      <td>0.002150</td>\n",
              "      <td>0.002170</td>\n",
              "      <td>0.002197</td>\n",
              "      <td>0.002156</td>\n",
              "      <td>0.002160</td>\n",
              "    </tr>\n",
              "    <tr>\n",
              "      <th>7.0</th>\n",
              "      <td>0.002711</td>\n",
              "      <td>0.002682</td>\n",
              "      <td>0.002710</td>\n",
              "      <td>0.002686</td>\n",
              "      <td>0.002646</td>\n",
              "      <td>0.002581</td>\n",
              "      <td>0.002568</td>\n",
              "      <td>0.002553</td>\n",
              "      <td>0.002602</td>\n",
              "      <td>0.002629</td>\n",
              "      <td>0.002597</td>\n",
              "      <td>0.002572</td>\n",
              "      <td>0.002568</td>\n",
              "      <td>0.002544</td>\n",
              "      <td>0.002552</td>\n",
              "      <td>0.002608</td>\n",
              "      <td>0.002595</td>\n",
              "      <td>0.002607</td>\n",
              "      <td>0.002619</td>\n",
              "      <td>0.002594</td>\n",
              "      <td>0.002565</td>\n",
              "      <td>0.002574</td>\n",
              "      <td>0.002538</td>\n",
              "      <td>0.002584</td>\n",
              "      <td>0.002609</td>\n",
              "      <td>0.002579</td>\n",
              "      <td>0.002590</td>\n",
              "      <td>0.002617</td>\n",
              "      <td>0.002634</td>\n",
              "      <td>0.002641</td>\n",
              "      <td>0.002620</td>\n",
              "      <td>0.002633</td>\n",
              "      <td>0.002666</td>\n",
              "      <td>0.002668</td>\n",
              "      <td>0.002646</td>\n",
              "      <td>0.002659</td>\n",
              "      <td>0.002664</td>\n",
              "      <td>0.002664</td>\n",
              "      <td>0.002662</td>\n",
              "      <td>0.002638</td>\n",
              "      <td>...</td>\n",
              "      <td>0.003797</td>\n",
              "      <td>0.003755</td>\n",
              "      <td>0.003785</td>\n",
              "      <td>0.003793</td>\n",
              "      <td>0.003677</td>\n",
              "      <td>0.003661</td>\n",
              "      <td>0.003665</td>\n",
              "      <td>0.003638</td>\n",
              "      <td>0.003714</td>\n",
              "      <td>0.003748</td>\n",
              "      <td>0.003747</td>\n",
              "      <td>0.003809</td>\n",
              "      <td>0.003844</td>\n",
              "      <td>0.003882</td>\n",
              "      <td>0.003937</td>\n",
              "      <td>0.003936</td>\n",
              "      <td>0.003917</td>\n",
              "      <td>0.003993</td>\n",
              "      <td>0.003920</td>\n",
              "      <td>0.003887</td>\n",
              "      <td>0.003910</td>\n",
              "      <td>0.003900</td>\n",
              "      <td>0.003808</td>\n",
              "      <td>0.003832</td>\n",
              "      <td>0.003871</td>\n",
              "      <td>0.003775</td>\n",
              "      <td>0.003823</td>\n",
              "      <td>0.003870</td>\n",
              "      <td>0.003812</td>\n",
              "      <td>0.003688</td>\n",
              "      <td>0.003649</td>\n",
              "      <td>0.003672</td>\n",
              "      <td>0.003681</td>\n",
              "      <td>0.003744</td>\n",
              "      <td>0.003764</td>\n",
              "      <td>0.003764</td>\n",
              "      <td>0.003801</td>\n",
              "      <td>0.003846</td>\n",
              "      <td>0.003769</td>\n",
              "      <td>0.003787</td>\n",
              "    </tr>\n",
              "    <tr>\n",
              "      <th>8.0</th>\n",
              "      <td>0.005572</td>\n",
              "      <td>0.005518</td>\n",
              "      <td>0.005549</td>\n",
              "      <td>0.005495</td>\n",
              "      <td>0.005431</td>\n",
              "      <td>0.005324</td>\n",
              "      <td>0.005284</td>\n",
              "      <td>0.005259</td>\n",
              "      <td>0.005361</td>\n",
              "      <td>0.005411</td>\n",
              "      <td>0.005355</td>\n",
              "      <td>0.005302</td>\n",
              "      <td>0.005299</td>\n",
              "      <td>0.005231</td>\n",
              "      <td>0.005262</td>\n",
              "      <td>0.005374</td>\n",
              "      <td>0.005367</td>\n",
              "      <td>0.005382</td>\n",
              "      <td>0.005395</td>\n",
              "      <td>0.005353</td>\n",
              "      <td>0.005291</td>\n",
              "      <td>0.005326</td>\n",
              "      <td>0.005252</td>\n",
              "      <td>0.005344</td>\n",
              "      <td>0.005382</td>\n",
              "      <td>0.005326</td>\n",
              "      <td>0.005370</td>\n",
              "      <td>0.005427</td>\n",
              "      <td>0.005454</td>\n",
              "      <td>0.005471</td>\n",
              "      <td>0.005421</td>\n",
              "      <td>0.005441</td>\n",
              "      <td>0.005496</td>\n",
              "      <td>0.005496</td>\n",
              "      <td>0.005464</td>\n",
              "      <td>0.005480</td>\n",
              "      <td>0.005495</td>\n",
              "      <td>0.005498</td>\n",
              "      <td>0.005496</td>\n",
              "      <td>0.005440</td>\n",
              "      <td>...</td>\n",
              "      <td>0.006943</td>\n",
              "      <td>0.006871</td>\n",
              "      <td>0.006900</td>\n",
              "      <td>0.006898</td>\n",
              "      <td>0.006730</td>\n",
              "      <td>0.006704</td>\n",
              "      <td>0.006728</td>\n",
              "      <td>0.006699</td>\n",
              "      <td>0.006815</td>\n",
              "      <td>0.006863</td>\n",
              "      <td>0.006895</td>\n",
              "      <td>0.007001</td>\n",
              "      <td>0.007058</td>\n",
              "      <td>0.007098</td>\n",
              "      <td>0.007185</td>\n",
              "      <td>0.007177</td>\n",
              "      <td>0.007136</td>\n",
              "      <td>0.007244</td>\n",
              "      <td>0.007153</td>\n",
              "      <td>0.007086</td>\n",
              "      <td>0.007130</td>\n",
              "      <td>0.007096</td>\n",
              "      <td>0.007026</td>\n",
              "      <td>0.007055</td>\n",
              "      <td>0.007150</td>\n",
              "      <td>0.006985</td>\n",
              "      <td>0.007060</td>\n",
              "      <td>0.007150</td>\n",
              "      <td>0.007074</td>\n",
              "      <td>0.006923</td>\n",
              "      <td>0.006881</td>\n",
              "      <td>0.006935</td>\n",
              "      <td>0.006983</td>\n",
              "      <td>0.007053</td>\n",
              "      <td>0.007093</td>\n",
              "      <td>0.007100</td>\n",
              "      <td>0.007166</td>\n",
              "      <td>0.007244</td>\n",
              "      <td>0.007150</td>\n",
              "      <td>0.007167</td>\n",
              "    </tr>\n",
              "    <tr>\n",
              "      <th>9.0</th>\n",
              "      <td>0.029418</td>\n",
              "      <td>0.029182</td>\n",
              "      <td>0.029223</td>\n",
              "      <td>0.028893</td>\n",
              "      <td>0.028500</td>\n",
              "      <td>0.027875</td>\n",
              "      <td>0.027755</td>\n",
              "      <td>0.027541</td>\n",
              "      <td>0.028013</td>\n",
              "      <td>0.028221</td>\n",
              "      <td>0.027938</td>\n",
              "      <td>0.027738</td>\n",
              "      <td>0.027731</td>\n",
              "      <td>0.027457</td>\n",
              "      <td>0.027631</td>\n",
              "      <td>0.028108</td>\n",
              "      <td>0.028026</td>\n",
              "      <td>0.028130</td>\n",
              "      <td>0.028155</td>\n",
              "      <td>0.027908</td>\n",
              "      <td>0.027599</td>\n",
              "      <td>0.027801</td>\n",
              "      <td>0.027503</td>\n",
              "      <td>0.028005</td>\n",
              "      <td>0.028267</td>\n",
              "      <td>0.027936</td>\n",
              "      <td>0.028197</td>\n",
              "      <td>0.028538</td>\n",
              "      <td>0.028668</td>\n",
              "      <td>0.028731</td>\n",
              "      <td>0.028623</td>\n",
              "      <td>0.028768</td>\n",
              "      <td>0.029013</td>\n",
              "      <td>0.029100</td>\n",
              "      <td>0.028951</td>\n",
              "      <td>0.028919</td>\n",
              "      <td>0.028978</td>\n",
              "      <td>0.029078</td>\n",
              "      <td>0.029102</td>\n",
              "      <td>0.028814</td>\n",
              "      <td>...</td>\n",
              "      <td>0.037954</td>\n",
              "      <td>0.037650</td>\n",
              "      <td>0.037887</td>\n",
              "      <td>0.038002</td>\n",
              "      <td>0.037497</td>\n",
              "      <td>0.037087</td>\n",
              "      <td>0.036961</td>\n",
              "      <td>0.036877</td>\n",
              "      <td>0.037487</td>\n",
              "      <td>0.037896</td>\n",
              "      <td>0.037953</td>\n",
              "      <td>0.038330</td>\n",
              "      <td>0.038526</td>\n",
              "      <td>0.038542</td>\n",
              "      <td>0.038821</td>\n",
              "      <td>0.038748</td>\n",
              "      <td>0.038591</td>\n",
              "      <td>0.039148</td>\n",
              "      <td>0.038825</td>\n",
              "      <td>0.038660</td>\n",
              "      <td>0.038890</td>\n",
              "      <td>0.038309</td>\n",
              "      <td>0.037968</td>\n",
              "      <td>0.038187</td>\n",
              "      <td>0.038573</td>\n",
              "      <td>0.037812</td>\n",
              "      <td>0.037980</td>\n",
              "      <td>0.038325</td>\n",
              "      <td>0.037988</td>\n",
              "      <td>0.037530</td>\n",
              "      <td>0.037501</td>\n",
              "      <td>0.037784</td>\n",
              "      <td>0.037826</td>\n",
              "      <td>0.038298</td>\n",
              "      <td>0.038500</td>\n",
              "      <td>0.038409</td>\n",
              "      <td>0.038583</td>\n",
              "      <td>0.038807</td>\n",
              "      <td>0.038512</td>\n",
              "      <td>0.038581</td>\n",
              "    </tr>\n",
              "  </tbody>\n",
              "</table>\n",
              "<p>10 rows × 414 columns</p>\n",
              "</div>"
            ],
            "text/plain": [
              "date  2019-07-29  2019-07-30  2019-07-31  ...  2021-03-16  2021-03-17  2021-03-18\n",
              "0.0     0.000605    0.000599    0.000601  ...    0.000753    0.000744    0.000750\n",
              "1.0     0.000220    0.000217    0.000220  ...    0.000252    0.000248    0.000249\n",
              "2.0     0.000353    0.000350    0.000354  ...    0.000509    0.000502    0.000505\n",
              "3.0     0.000510    0.000503    0.000508  ...    0.000720    0.000707    0.000710\n",
              "4.0     0.000887    0.000875    0.000882  ...    0.001266    0.001241    0.001246\n",
              "5.0     0.001128    0.001110    0.001123  ...    0.001589    0.001559    0.001566\n",
              "6.0     0.001572    0.001554    0.001568  ...    0.002197    0.002156    0.002160\n",
              "7.0     0.002711    0.002682    0.002710  ...    0.003846    0.003769    0.003787\n",
              "8.0     0.005572    0.005518    0.005549  ...    0.007244    0.007150    0.007167\n",
              "9.0     0.029418    0.029182    0.029223  ...    0.038807    0.038512    0.038581\n",
              "\n",
              "[10 rows x 414 columns]"
            ]
          },
          "metadata": {
            "tags": []
          },
          "execution_count": 99
        }
      ]
    },
    {
      "cell_type": "code",
      "metadata": {
        "colab": {
          "base_uri": "https://localhost:8080/",
          "height": 690
        },
        "id": "u08xlz7zXJ9w",
        "outputId": "9f7bf230-08fa-409e-bbee-f189a5b39af0"
      },
      "source": [
        "financials_df"
      ],
      "id": "u08xlz7zXJ9w",
      "execution_count": 94,
      "outputs": [
        {
          "output_type": "execute_result",
          "data": {
            "text/html": [
              "<div>\n",
              "<style scoped>\n",
              "    .dataframe tbody tr th:only-of-type {\n",
              "        vertical-align: middle;\n",
              "    }\n",
              "\n",
              "    .dataframe tbody tr th {\n",
              "        vertical-align: top;\n",
              "    }\n",
              "\n",
              "    .dataframe thead th {\n",
              "        text-align: right;\n",
              "    }\n",
              "</style>\n",
              "<table border=\"1\" class=\"dataframe\">\n",
              "  <thead>\n",
              "    <tr style=\"text-align: right;\">\n",
              "      <th></th>\n",
              "      <th>isin</th>\n",
              "      <th>exchange_id</th>\n",
              "      <th>sector</th>\n",
              "      <th>industry</th>\n",
              "      <th>market_cap</th>\n",
              "      <th>market_cap_group</th>\n",
              "    </tr>\n",
              "    <tr>\n",
              "      <th>ticker</th>\n",
              "      <th></th>\n",
              "      <th></th>\n",
              "      <th></th>\n",
              "      <th></th>\n",
              "      <th></th>\n",
              "      <th></th>\n",
              "    </tr>\n",
              "  </thead>\n",
              "  <tbody>\n",
              "    <tr>\n",
              "      <th>FLWS</th>\n",
              "      <td>US68243Q1067</td>\n",
              "      <td>663</td>\n",
              "      <td>Consumer Cyclical</td>\n",
              "      <td>Specialty Retail</td>\n",
              "      <td>6.432e+07</td>\n",
              "      <td>5.0</td>\n",
              "    </tr>\n",
              "    <tr>\n",
              "      <th>TXG</th>\n",
              "      <td>US88025U1097</td>\n",
              "      <td>663</td>\n",
              "      <td>Healthcare</td>\n",
              "      <td>Health Information Services</td>\n",
              "      <td>101340000</td>\n",
              "      <td>6.0</td>\n",
              "    </tr>\n",
              "    <tr>\n",
              "      <th>YI</th>\n",
              "      <td>US68247Q1022</td>\n",
              "      <td>663</td>\n",
              "      <td>Healthcare</td>\n",
              "      <td>Health Information Services</td>\n",
              "      <td>82430000</td>\n",
              "      <td>6.0</td>\n",
              "    </tr>\n",
              "    <tr>\n",
              "      <th>FCCY</th>\n",
              "      <td>US31986N1028</td>\n",
              "      <td>663</td>\n",
              "      <td>Financial</td>\n",
              "      <td>Banks - Regional</td>\n",
              "      <td>10230000</td>\n",
              "      <td>1.0</td>\n",
              "    </tr>\n",
              "    <tr>\n",
              "      <th>SRCE</th>\n",
              "      <td>US3369011032</td>\n",
              "      <td>663</td>\n",
              "      <td>Financial</td>\n",
              "      <td>Banks - Regional</td>\n",
              "      <td>25550000</td>\n",
              "      <td>2.0</td>\n",
              "    </tr>\n",
              "    <tr>\n",
              "      <th>...</th>\n",
              "      <td>...</td>\n",
              "      <td>...</td>\n",
              "      <td>...</td>\n",
              "      <td>...</td>\n",
              "      <td>...</td>\n",
              "      <td>...</td>\n",
              "    </tr>\n",
              "    <tr>\n",
              "      <th>CNET</th>\n",
              "      <td>US98880R1095</td>\n",
              "      <td>663</td>\n",
              "      <td>Communication Services</td>\n",
              "      <td>Advertising Agencies</td>\n",
              "      <td>21720000</td>\n",
              "      <td>2.0</td>\n",
              "    </tr>\n",
              "    <tr>\n",
              "      <th>ZYME</th>\n",
              "      <td>CA98985W1023</td>\n",
              "      <td>676</td>\n",
              "      <td>Healthcare</td>\n",
              "      <td>Biotechnology</td>\n",
              "      <td>50900000</td>\n",
              "      <td>4.0</td>\n",
              "    </tr>\n",
              "    <tr>\n",
              "      <th>ZYNE</th>\n",
              "      <td>US98986X1090</td>\n",
              "      <td>663</td>\n",
              "      <td>Healthcare</td>\n",
              "      <td>Drug Manufacturers - Specialty &amp; Generic</td>\n",
              "      <td>29240000</td>\n",
              "      <td>3.0</td>\n",
              "    </tr>\n",
              "    <tr>\n",
              "      <th>ZYXI</th>\n",
              "      <td>US98986M1036</td>\n",
              "      <td>663</td>\n",
              "      <td>Healthcare</td>\n",
              "      <td>Medical Devices</td>\n",
              "      <td>34490000</td>\n",
              "      <td>3.0</td>\n",
              "    </tr>\n",
              "    <tr>\n",
              "      <th>ZNGA</th>\n",
              "      <td>US98986T1088</td>\n",
              "      <td>663</td>\n",
              "      <td>Communication Services</td>\n",
              "      <td>Electronic Gaming &amp; Multimedia</td>\n",
              "      <td>1080000000</td>\n",
              "      <td>9.0</td>\n",
              "    </tr>\n",
              "  </tbody>\n",
              "</table>\n",
              "<p>4262 rows × 6 columns</p>\n",
              "</div>"
            ],
            "text/plain": [
              "                isin  exchange_id  ...  market_cap market_cap_group\n",
              "ticker                             ...                             \n",
              "FLWS    US68243Q1067          663  ...   6.432e+07              5.0\n",
              "TXG     US88025U1097          663  ...   101340000              6.0\n",
              "YI      US68247Q1022          663  ...    82430000              6.0\n",
              "FCCY    US31986N1028          663  ...    10230000              1.0\n",
              "SRCE    US3369011032          663  ...    25550000              2.0\n",
              "...              ...          ...  ...         ...              ...\n",
              "CNET    US98880R1095          663  ...    21720000              2.0\n",
              "ZYME    CA98985W1023          676  ...    50900000              4.0\n",
              "ZYNE    US98986X1090          663  ...    29240000              3.0\n",
              "ZYXI    US98986M1036          663  ...    34490000              3.0\n",
              "ZNGA    US98986T1088          663  ...  1080000000              9.0\n",
              "\n",
              "[4262 rows x 6 columns]"
            ]
          },
          "metadata": {
            "tags": []
          },
          "execution_count": 94
        }
      ]
    },
    {
      "cell_type": "code",
      "metadata": {
        "id": "1FQrQ62ldXb2",
        "outputId": "62087970-1f27-48d6-997c-e1117fa79832",
        "colab": {
          "base_uri": "https://localhost:8080/",
          "height": 640
        }
      },
      "source": [
        "open_df_index = pd.read_csv(str(ele + ' open'), index_col='date')\n",
        "open_df_index"
      ],
      "id": "1FQrQ62ldXb2",
      "execution_count": 109,
      "outputs": [
        {
          "output_type": "execute_result",
          "data": {
            "text/html": [
              "<div>\n",
              "<style scoped>\n",
              "    .dataframe tbody tr th:only-of-type {\n",
              "        vertical-align: middle;\n",
              "    }\n",
              "\n",
              "    .dataframe tbody tr th {\n",
              "        vertical-align: top;\n",
              "    }\n",
              "\n",
              "    .dataframe thead th {\n",
              "        text-align: right;\n",
              "    }\n",
              "</style>\n",
              "<table border=\"1\" class=\"dataframe\">\n",
              "  <thead>\n",
              "    <tr style=\"text-align: right;\">\n",
              "      <th></th>\n",
              "      <th>Basic Materials</th>\n",
              "      <th>Communication Services</th>\n",
              "      <th>Consumer Cyclical</th>\n",
              "      <th>Consumer Defensive</th>\n",
              "      <th>Energy</th>\n",
              "      <th>Financial</th>\n",
              "      <th>Healthcare</th>\n",
              "      <th>Industrials</th>\n",
              "      <th>Real Estate</th>\n",
              "      <th>Technology</th>\n",
              "      <th>Utilities</th>\n",
              "    </tr>\n",
              "    <tr>\n",
              "      <th>date</th>\n",
              "      <th></th>\n",
              "      <th></th>\n",
              "      <th></th>\n",
              "      <th></th>\n",
              "      <th></th>\n",
              "      <th></th>\n",
              "      <th></th>\n",
              "      <th></th>\n",
              "      <th></th>\n",
              "      <th></th>\n",
              "      <th></th>\n",
              "    </tr>\n",
              "  </thead>\n",
              "  <tbody>\n",
              "    <tr>\n",
              "      <th>2019-07-29</th>\n",
              "      <td>0.001597</td>\n",
              "      <td>0.004899</td>\n",
              "      <td>0.004560</td>\n",
              "      <td>0.003225</td>\n",
              "      <td>0.003054</td>\n",
              "      <td>0.007503</td>\n",
              "      <td>0.005344</td>\n",
              "      <td>0.003343</td>\n",
              "      <td>0.001126</td>\n",
              "      <td>0.007181</td>\n",
              "      <td>0.001193</td>\n",
              "    </tr>\n",
              "    <tr>\n",
              "      <th>2019-07-30</th>\n",
              "      <td>0.001586</td>\n",
              "      <td>0.004844</td>\n",
              "      <td>0.004509</td>\n",
              "      <td>0.003228</td>\n",
              "      <td>0.003029</td>\n",
              "      <td>0.007405</td>\n",
              "      <td>0.005306</td>\n",
              "      <td>0.003314</td>\n",
              "      <td>0.001125</td>\n",
              "      <td>0.007101</td>\n",
              "      <td>0.001191</td>\n",
              "    </tr>\n",
              "    <tr>\n",
              "      <th>2019-07-31</th>\n",
              "      <td>0.001598</td>\n",
              "      <td>0.004836</td>\n",
              "      <td>0.004510</td>\n",
              "      <td>0.003212</td>\n",
              "      <td>0.003058</td>\n",
              "      <td>0.007429</td>\n",
              "      <td>0.005324</td>\n",
              "      <td>0.003353</td>\n",
              "      <td>0.001133</td>\n",
              "      <td>0.007144</td>\n",
              "      <td>0.001189</td>\n",
              "    </tr>\n",
              "    <tr>\n",
              "      <th>2019-08-01</th>\n",
              "      <td>0.001555</td>\n",
              "      <td>0.004807</td>\n",
              "      <td>0.004478</td>\n",
              "      <td>0.003182</td>\n",
              "      <td>0.002991</td>\n",
              "      <td>0.007370</td>\n",
              "      <td>0.005295</td>\n",
              "      <td>0.003309</td>\n",
              "      <td>0.001129</td>\n",
              "      <td>0.007038</td>\n",
              "      <td>0.001181</td>\n",
              "    </tr>\n",
              "    <tr>\n",
              "      <th>2019-08-02</th>\n",
              "      <td>0.001533</td>\n",
              "      <td>0.004741</td>\n",
              "      <td>0.004363</td>\n",
              "      <td>0.003162</td>\n",
              "      <td>0.002961</td>\n",
              "      <td>0.007225</td>\n",
              "      <td>0.005281</td>\n",
              "      <td>0.003244</td>\n",
              "      <td>0.001127</td>\n",
              "      <td>0.006915</td>\n",
              "      <td>0.001197</td>\n",
              "    </tr>\n",
              "    <tr>\n",
              "      <th>...</th>\n",
              "      <td>...</td>\n",
              "      <td>...</td>\n",
              "      <td>...</td>\n",
              "      <td>...</td>\n",
              "      <td>...</td>\n",
              "      <td>...</td>\n",
              "      <td>...</td>\n",
              "      <td>...</td>\n",
              "      <td>...</td>\n",
              "      <td>...</td>\n",
              "      <td>...</td>\n",
              "    </tr>\n",
              "    <tr>\n",
              "      <th>2021-03-12</th>\n",
              "      <td>0.002160</td>\n",
              "      <td>0.007232</td>\n",
              "      <td>0.007107</td>\n",
              "      <td>0.003434</td>\n",
              "      <td>0.002512</td>\n",
              "      <td>0.008969</td>\n",
              "      <td>0.006744</td>\n",
              "      <td>0.004264</td>\n",
              "      <td>0.001169</td>\n",
              "      <td>0.011729</td>\n",
              "      <td>0.001167</td>\n",
              "    </tr>\n",
              "    <tr>\n",
              "      <th>2021-03-15</th>\n",
              "      <td>0.002167</td>\n",
              "      <td>0.007236</td>\n",
              "      <td>0.007183</td>\n",
              "      <td>0.003464</td>\n",
              "      <td>0.002507</td>\n",
              "      <td>0.008980</td>\n",
              "      <td>0.006780</td>\n",
              "      <td>0.004323</td>\n",
              "      <td>0.001191</td>\n",
              "      <td>0.011817</td>\n",
              "      <td>0.001179</td>\n",
              "    </tr>\n",
              "    <tr>\n",
              "      <th>2021-03-16</th>\n",
              "      <td>0.002170</td>\n",
              "      <td>0.007302</td>\n",
              "      <td>0.007265</td>\n",
              "      <td>0.003463</td>\n",
              "      <td>0.002467</td>\n",
              "      <td>0.008913</td>\n",
              "      <td>0.006866</td>\n",
              "      <td>0.004344</td>\n",
              "      <td>0.001208</td>\n",
              "      <td>0.012039</td>\n",
              "      <td>0.001189</td>\n",
              "    </tr>\n",
              "    <tr>\n",
              "      <th>2021-03-17</th>\n",
              "      <td>0.002134</td>\n",
              "      <td>0.007262</td>\n",
              "      <td>0.007116</td>\n",
              "      <td>0.003466</td>\n",
              "      <td>0.002428</td>\n",
              "      <td>0.008889</td>\n",
              "      <td>0.006786</td>\n",
              "      <td>0.004284</td>\n",
              "      <td>0.001196</td>\n",
              "      <td>0.011876</td>\n",
              "      <td>0.001192</td>\n",
              "    </tr>\n",
              "    <tr>\n",
              "      <th>2021-03-18</th>\n",
              "      <td>0.002155</td>\n",
              "      <td>0.007248</td>\n",
              "      <td>0.007227</td>\n",
              "      <td>0.003448</td>\n",
              "      <td>0.002444</td>\n",
              "      <td>0.008949</td>\n",
              "      <td>0.006778</td>\n",
              "      <td>0.004312</td>\n",
              "      <td>0.001193</td>\n",
              "      <td>0.011836</td>\n",
              "      <td>0.001173</td>\n",
              "    </tr>\n",
              "  </tbody>\n",
              "</table>\n",
              "<p>414 rows × 11 columns</p>\n",
              "</div>"
            ],
            "text/plain": [
              "            Basic Materials  Communication Services  ...  Technology  Utilities\n",
              "date                                                 ...                       \n",
              "2019-07-29         0.001597                0.004899  ...    0.007181   0.001193\n",
              "2019-07-30         0.001586                0.004844  ...    0.007101   0.001191\n",
              "2019-07-31         0.001598                0.004836  ...    0.007144   0.001189\n",
              "2019-08-01         0.001555                0.004807  ...    0.007038   0.001181\n",
              "2019-08-02         0.001533                0.004741  ...    0.006915   0.001197\n",
              "...                     ...                     ...  ...         ...        ...\n",
              "2021-03-12         0.002160                0.007232  ...    0.011729   0.001167\n",
              "2021-03-15         0.002167                0.007236  ...    0.011817   0.001179\n",
              "2021-03-16         0.002170                0.007302  ...    0.012039   0.001189\n",
              "2021-03-17         0.002134                0.007262  ...    0.011876   0.001192\n",
              "2021-03-18         0.002155                0.007248  ...    0.011836   0.001173\n",
              "\n",
              "[414 rows x 11 columns]"
            ]
          },
          "metadata": {
            "tags": []
          },
          "execution_count": 109
        }
      ]
    },
    {
      "cell_type": "code",
      "metadata": {
        "id": "ex2Zd1LZejUD",
        "outputId": "647d3462-1be5-459c-b11e-843084294a0a",
        "colab": {
          "base_uri": "https://localhost:8080/",
          "height": 35
        }
      },
      "source": [
        "str(financials_df[str(ele)].loc[ticker])"
      ],
      "id": "ex2Zd1LZejUD",
      "execution_count": 112,
      "outputs": [
        {
          "output_type": "execute_result",
          "data": {
            "application/vnd.google.colaboratory.intrinsic+json": {
              "type": "string"
            },
            "text/plain": [
              "'Healthcare'"
            ]
          },
          "metadata": {
            "tags": []
          },
          "execution_count": 112
        }
      ]
    },
    {
      "cell_type": "code",
      "metadata": {
        "id": "213hAi2YeWUx",
        "outputId": "aa3ed9db-1774-4bfd-a0f3-cd8f726de0b5",
        "colab": {
          "base_uri": "https://localhost:8080/",
          "height": 618
        }
      },
      "source": [
        "open_df_index.loc['Healthcare']\n",
        "# ti dà errore perchè dovrai transporlo "
      ],
      "id": "213hAi2YeWUx",
      "execution_count": 113,
      "outputs": [
        {
          "output_type": "error",
          "ename": "KeyError",
          "evalue": "ignored",
          "traceback": [
            "\u001b[0;31m---------------------------------------------------------------------------\u001b[0m",
            "\u001b[0;31mKeyError\u001b[0m                                  Traceback (most recent call last)",
            "\u001b[0;32m/usr/local/lib/python3.7/dist-packages/pandas/core/indexes/base.py\u001b[0m in \u001b[0;36mget_loc\u001b[0;34m(self, key, method, tolerance)\u001b[0m\n\u001b[1;32m   2897\u001b[0m             \u001b[0;32mtry\u001b[0m\u001b[0;34m:\u001b[0m\u001b[0;34m\u001b[0m\u001b[0;34m\u001b[0m\u001b[0m\n\u001b[0;32m-> 2898\u001b[0;31m                 \u001b[0;32mreturn\u001b[0m \u001b[0mself\u001b[0m\u001b[0;34m.\u001b[0m\u001b[0m_engine\u001b[0m\u001b[0;34m.\u001b[0m\u001b[0mget_loc\u001b[0m\u001b[0;34m(\u001b[0m\u001b[0mcasted_key\u001b[0m\u001b[0;34m)\u001b[0m\u001b[0;34m\u001b[0m\u001b[0;34m\u001b[0m\u001b[0m\n\u001b[0m\u001b[1;32m   2899\u001b[0m             \u001b[0;32mexcept\u001b[0m \u001b[0mKeyError\u001b[0m \u001b[0;32mas\u001b[0m \u001b[0merr\u001b[0m\u001b[0;34m:\u001b[0m\u001b[0;34m\u001b[0m\u001b[0;34m\u001b[0m\u001b[0m\n",
            "\u001b[0;32mpandas/_libs/index.pyx\u001b[0m in \u001b[0;36mpandas._libs.index.IndexEngine.get_loc\u001b[0;34m()\u001b[0m\n",
            "\u001b[0;32mpandas/_libs/index.pyx\u001b[0m in \u001b[0;36mpandas._libs.index.IndexEngine.get_loc\u001b[0;34m()\u001b[0m\n",
            "\u001b[0;32mpandas/_libs/hashtable_class_helper.pxi\u001b[0m in \u001b[0;36mpandas._libs.hashtable.PyObjectHashTable.get_item\u001b[0;34m()\u001b[0m\n",
            "\u001b[0;32mpandas/_libs/hashtable_class_helper.pxi\u001b[0m in \u001b[0;36mpandas._libs.hashtable.PyObjectHashTable.get_item\u001b[0;34m()\u001b[0m\n",
            "\u001b[0;31mKeyError\u001b[0m: 'Healthcare'",
            "\nThe above exception was the direct cause of the following exception:\n",
            "\u001b[0;31mKeyError\u001b[0m                                  Traceback (most recent call last)",
            "\u001b[0;32m<ipython-input-113-e9d3803abd46>\u001b[0m in \u001b[0;36m<module>\u001b[0;34m()\u001b[0m\n\u001b[0;32m----> 1\u001b[0;31m \u001b[0mopen_df_index\u001b[0m\u001b[0;34m.\u001b[0m\u001b[0mloc\u001b[0m\u001b[0;34m[\u001b[0m\u001b[0;34m'Healthcare'\u001b[0m\u001b[0;34m]\u001b[0m\u001b[0;34m\u001b[0m\u001b[0;34m\u001b[0m\u001b[0m\n\u001b[0m",
            "\u001b[0;32m/usr/local/lib/python3.7/dist-packages/pandas/core/indexing.py\u001b[0m in \u001b[0;36m__getitem__\u001b[0;34m(self, key)\u001b[0m\n\u001b[1;32m    877\u001b[0m \u001b[0;34m\u001b[0m\u001b[0m\n\u001b[1;32m    878\u001b[0m             \u001b[0mmaybe_callable\u001b[0m \u001b[0;34m=\u001b[0m \u001b[0mcom\u001b[0m\u001b[0;34m.\u001b[0m\u001b[0mapply_if_callable\u001b[0m\u001b[0;34m(\u001b[0m\u001b[0mkey\u001b[0m\u001b[0;34m,\u001b[0m \u001b[0mself\u001b[0m\u001b[0;34m.\u001b[0m\u001b[0mobj\u001b[0m\u001b[0;34m)\u001b[0m\u001b[0;34m\u001b[0m\u001b[0;34m\u001b[0m\u001b[0m\n\u001b[0;32m--> 879\u001b[0;31m             \u001b[0;32mreturn\u001b[0m \u001b[0mself\u001b[0m\u001b[0;34m.\u001b[0m\u001b[0m_getitem_axis\u001b[0m\u001b[0;34m(\u001b[0m\u001b[0mmaybe_callable\u001b[0m\u001b[0;34m,\u001b[0m \u001b[0maxis\u001b[0m\u001b[0;34m=\u001b[0m\u001b[0maxis\u001b[0m\u001b[0;34m)\u001b[0m\u001b[0;34m\u001b[0m\u001b[0;34m\u001b[0m\u001b[0m\n\u001b[0m\u001b[1;32m    880\u001b[0m \u001b[0;34m\u001b[0m\u001b[0m\n\u001b[1;32m    881\u001b[0m     \u001b[0;32mdef\u001b[0m \u001b[0m_is_scalar_access\u001b[0m\u001b[0;34m(\u001b[0m\u001b[0mself\u001b[0m\u001b[0;34m,\u001b[0m \u001b[0mkey\u001b[0m\u001b[0;34m:\u001b[0m \u001b[0mTuple\u001b[0m\u001b[0;34m)\u001b[0m\u001b[0;34m:\u001b[0m\u001b[0;34m\u001b[0m\u001b[0;34m\u001b[0m\u001b[0m\n",
            "\u001b[0;32m/usr/local/lib/python3.7/dist-packages/pandas/core/indexing.py\u001b[0m in \u001b[0;36m_getitem_axis\u001b[0;34m(self, key, axis)\u001b[0m\n\u001b[1;32m   1108\u001b[0m         \u001b[0;31m# fall thru to straight lookup\u001b[0m\u001b[0;34m\u001b[0m\u001b[0;34m\u001b[0m\u001b[0;34m\u001b[0m\u001b[0m\n\u001b[1;32m   1109\u001b[0m         \u001b[0mself\u001b[0m\u001b[0;34m.\u001b[0m\u001b[0m_validate_key\u001b[0m\u001b[0;34m(\u001b[0m\u001b[0mkey\u001b[0m\u001b[0;34m,\u001b[0m \u001b[0maxis\u001b[0m\u001b[0;34m)\u001b[0m\u001b[0;34m\u001b[0m\u001b[0;34m\u001b[0m\u001b[0m\n\u001b[0;32m-> 1110\u001b[0;31m         \u001b[0;32mreturn\u001b[0m \u001b[0mself\u001b[0m\u001b[0;34m.\u001b[0m\u001b[0m_get_label\u001b[0m\u001b[0;34m(\u001b[0m\u001b[0mkey\u001b[0m\u001b[0;34m,\u001b[0m \u001b[0maxis\u001b[0m\u001b[0;34m=\u001b[0m\u001b[0maxis\u001b[0m\u001b[0;34m)\u001b[0m\u001b[0;34m\u001b[0m\u001b[0;34m\u001b[0m\u001b[0m\n\u001b[0m\u001b[1;32m   1111\u001b[0m \u001b[0;34m\u001b[0m\u001b[0m\n\u001b[1;32m   1112\u001b[0m     \u001b[0;32mdef\u001b[0m \u001b[0m_get_slice_axis\u001b[0m\u001b[0;34m(\u001b[0m\u001b[0mself\u001b[0m\u001b[0;34m,\u001b[0m \u001b[0mslice_obj\u001b[0m\u001b[0;34m:\u001b[0m \u001b[0mslice\u001b[0m\u001b[0;34m,\u001b[0m \u001b[0maxis\u001b[0m\u001b[0;34m:\u001b[0m \u001b[0mint\u001b[0m\u001b[0;34m)\u001b[0m\u001b[0;34m:\u001b[0m\u001b[0;34m\u001b[0m\u001b[0;34m\u001b[0m\u001b[0m\n",
            "\u001b[0;32m/usr/local/lib/python3.7/dist-packages/pandas/core/indexing.py\u001b[0m in \u001b[0;36m_get_label\u001b[0;34m(self, label, axis)\u001b[0m\n\u001b[1;32m   1057\u001b[0m     \u001b[0;32mdef\u001b[0m \u001b[0m_get_label\u001b[0m\u001b[0;34m(\u001b[0m\u001b[0mself\u001b[0m\u001b[0;34m,\u001b[0m \u001b[0mlabel\u001b[0m\u001b[0;34m,\u001b[0m \u001b[0maxis\u001b[0m\u001b[0;34m:\u001b[0m \u001b[0mint\u001b[0m\u001b[0;34m)\u001b[0m\u001b[0;34m:\u001b[0m\u001b[0;34m\u001b[0m\u001b[0;34m\u001b[0m\u001b[0m\n\u001b[1;32m   1058\u001b[0m         \u001b[0;31m# GH#5667 this will fail if the label is not present in the axis.\u001b[0m\u001b[0;34m\u001b[0m\u001b[0;34m\u001b[0m\u001b[0;34m\u001b[0m\u001b[0m\n\u001b[0;32m-> 1059\u001b[0;31m         \u001b[0;32mreturn\u001b[0m \u001b[0mself\u001b[0m\u001b[0;34m.\u001b[0m\u001b[0mobj\u001b[0m\u001b[0;34m.\u001b[0m\u001b[0mxs\u001b[0m\u001b[0;34m(\u001b[0m\u001b[0mlabel\u001b[0m\u001b[0;34m,\u001b[0m \u001b[0maxis\u001b[0m\u001b[0;34m=\u001b[0m\u001b[0maxis\u001b[0m\u001b[0;34m)\u001b[0m\u001b[0;34m\u001b[0m\u001b[0;34m\u001b[0m\u001b[0m\n\u001b[0m\u001b[1;32m   1060\u001b[0m \u001b[0;34m\u001b[0m\u001b[0m\n\u001b[1;32m   1061\u001b[0m     \u001b[0;32mdef\u001b[0m \u001b[0m_handle_lowerdim_multi_index_axis0\u001b[0m\u001b[0;34m(\u001b[0m\u001b[0mself\u001b[0m\u001b[0;34m,\u001b[0m \u001b[0mtup\u001b[0m\u001b[0;34m:\u001b[0m \u001b[0mTuple\u001b[0m\u001b[0;34m)\u001b[0m\u001b[0;34m:\u001b[0m\u001b[0;34m\u001b[0m\u001b[0;34m\u001b[0m\u001b[0m\n",
            "\u001b[0;32m/usr/local/lib/python3.7/dist-packages/pandas/core/generic.py\u001b[0m in \u001b[0;36mxs\u001b[0;34m(self, key, axis, level, drop_level)\u001b[0m\n\u001b[1;32m   3491\u001b[0m             \u001b[0mloc\u001b[0m\u001b[0;34m,\u001b[0m \u001b[0mnew_index\u001b[0m \u001b[0;34m=\u001b[0m \u001b[0mself\u001b[0m\u001b[0;34m.\u001b[0m\u001b[0mindex\u001b[0m\u001b[0;34m.\u001b[0m\u001b[0mget_loc_level\u001b[0m\u001b[0;34m(\u001b[0m\u001b[0mkey\u001b[0m\u001b[0;34m,\u001b[0m \u001b[0mdrop_level\u001b[0m\u001b[0;34m=\u001b[0m\u001b[0mdrop_level\u001b[0m\u001b[0;34m)\u001b[0m\u001b[0;34m\u001b[0m\u001b[0;34m\u001b[0m\u001b[0m\n\u001b[1;32m   3492\u001b[0m         \u001b[0;32melse\u001b[0m\u001b[0;34m:\u001b[0m\u001b[0;34m\u001b[0m\u001b[0;34m\u001b[0m\u001b[0m\n\u001b[0;32m-> 3493\u001b[0;31m             \u001b[0mloc\u001b[0m \u001b[0;34m=\u001b[0m \u001b[0mself\u001b[0m\u001b[0;34m.\u001b[0m\u001b[0mindex\u001b[0m\u001b[0;34m.\u001b[0m\u001b[0mget_loc\u001b[0m\u001b[0;34m(\u001b[0m\u001b[0mkey\u001b[0m\u001b[0;34m)\u001b[0m\u001b[0;34m\u001b[0m\u001b[0;34m\u001b[0m\u001b[0m\n\u001b[0m\u001b[1;32m   3494\u001b[0m \u001b[0;34m\u001b[0m\u001b[0m\n\u001b[1;32m   3495\u001b[0m             \u001b[0;32mif\u001b[0m \u001b[0misinstance\u001b[0m\u001b[0;34m(\u001b[0m\u001b[0mloc\u001b[0m\u001b[0;34m,\u001b[0m \u001b[0mnp\u001b[0m\u001b[0;34m.\u001b[0m\u001b[0mndarray\u001b[0m\u001b[0;34m)\u001b[0m\u001b[0;34m:\u001b[0m\u001b[0;34m\u001b[0m\u001b[0;34m\u001b[0m\u001b[0m\n",
            "\u001b[0;32m/usr/local/lib/python3.7/dist-packages/pandas/core/indexes/base.py\u001b[0m in \u001b[0;36mget_loc\u001b[0;34m(self, key, method, tolerance)\u001b[0m\n\u001b[1;32m   2898\u001b[0m                 \u001b[0;32mreturn\u001b[0m \u001b[0mself\u001b[0m\u001b[0;34m.\u001b[0m\u001b[0m_engine\u001b[0m\u001b[0;34m.\u001b[0m\u001b[0mget_loc\u001b[0m\u001b[0;34m(\u001b[0m\u001b[0mcasted_key\u001b[0m\u001b[0;34m)\u001b[0m\u001b[0;34m\u001b[0m\u001b[0;34m\u001b[0m\u001b[0m\n\u001b[1;32m   2899\u001b[0m             \u001b[0;32mexcept\u001b[0m \u001b[0mKeyError\u001b[0m \u001b[0;32mas\u001b[0m \u001b[0merr\u001b[0m\u001b[0;34m:\u001b[0m\u001b[0;34m\u001b[0m\u001b[0;34m\u001b[0m\u001b[0m\n\u001b[0;32m-> 2900\u001b[0;31m                 \u001b[0;32mraise\u001b[0m \u001b[0mKeyError\u001b[0m\u001b[0;34m(\u001b[0m\u001b[0mkey\u001b[0m\u001b[0;34m)\u001b[0m \u001b[0;32mfrom\u001b[0m \u001b[0merr\u001b[0m\u001b[0;34m\u001b[0m\u001b[0;34m\u001b[0m\u001b[0m\n\u001b[0m\u001b[1;32m   2901\u001b[0m \u001b[0;34m\u001b[0m\u001b[0m\n\u001b[1;32m   2902\u001b[0m         \u001b[0;32mif\u001b[0m \u001b[0mtolerance\u001b[0m \u001b[0;32mis\u001b[0m \u001b[0;32mnot\u001b[0m \u001b[0;32mNone\u001b[0m\u001b[0;34m:\u001b[0m\u001b[0;34m\u001b[0m\u001b[0;34m\u001b[0m\u001b[0m\n",
            "\u001b[0;31mKeyError\u001b[0m: 'Healthcare'"
          ]
        }
      ]
    },
    {
      "cell_type": "code",
      "metadata": {
        "id": "bUoVhIECBQu5",
        "colab": {
          "base_uri": "https://localhost:8080/",
          "height": 441
        },
        "outputId": "5c910c21-35ff-4e88-bd96-4c762880204e"
      },
      "source": [
        "open_df_bridge = open_df.transpose().loc[financials_df.index]\n",
        "high_df_bridge = high_df.transpose().loc[financials_df.index]\n",
        "low_df_bridge = low_df.transpose().loc[financials_df.index]\n",
        "adjclose_df_bridge = adjclose_df.transpose().loc[financials_df.index]\n",
        "\n",
        "for ele in list_of_history:\n",
        "  if ele == 'price':\n",
        "    indeces_object_dictionary['{0}'.format(ele)].open = open_df.transpose().loc[financials_df.index]\n",
        "    indeces_object_dictionary['{0}'.format(ele)].high = high_df.transpose().loc[financials_df.index]\n",
        "    indeces_object_dictionary['{0}'.format(ele)].low = low_df.transpose().loc[financials_df.index]\n",
        "    indeces_object_dictionary['{0}'.format(ele)].adjclose = adjclose_df.transpose().loc[financials_df.index]\n",
        "  else:\n",
        "    open_df_index = pd.read_csv(str(ele + ' open'), index_col='date').transpose()\n",
        "    high_df_index = pd.read_csv(str(ele + ' high'), index_col='date').transpose()\n",
        "    low_df_index = pd.read_csv(str(ele + ' low'), index_col='date').transpose()\n",
        "    adjclose_df_index = pd.read_csv(str(ele + ' adjclose'), index_col='date').transpose()\n",
        "    \n",
        "    indeces_object_dictionary['{0}'.format(ele)].open = open_df.transpose().loc[financials_df.index].copy()\n",
        "    indeces_object_dictionary['{0}'.format(ele)].high = high_df.transpose().loc[financials_df.index].copy()\n",
        "    indeces_object_dictionary['{0}'.format(ele)].low = low_df.transpose().loc[financials_df.index].copy()\n",
        "    indeces_object_dictionary['{0}'.format(ele)].adjclose = adjclose_df.transpose().loc[financials_df.index].copy()\n",
        "\n",
        "    for ticker in financials_df.index:\n",
        "      indeces_object_dictionary['{0}'.format(ele)].open = open_df_index.loc[str(financials_df[str(ele)].loc[ticker])]\n",
        "      indeces_object_dictionary['{0}'.format(ele)].high = high_df_index.loc[str(financials_df[str(ele)].loc[ticker])]\n",
        "      indeces_object_dictionary['{0}'.format(ele)].low = low_df_index.loc[str(financials_df[str(ele)].loc[ticker])]\n",
        "      indeces_object_dictionary['{0}'.format(ele)].adjclose = adjclose_df_index.loc[str(financials_df[str(ele)].loc[ticker])]"
      ],
      "id": "bUoVhIECBQu5",
      "execution_count": 101,
      "outputs": [
        {
          "output_type": "error",
          "ename": "KeyboardInterrupt",
          "evalue": "ignored",
          "traceback": [
            "\u001b[0;31m---------------------------------------------------------------------------\u001b[0m",
            "\u001b[0;31mKeyboardInterrupt\u001b[0m                         Traceback (most recent call last)",
            "\u001b[0;32m<ipython-input-101-07b0cc74e99f>\u001b[0m in \u001b[0;36m<module>\u001b[0;34m()\u001b[0m\n\u001b[1;32m     24\u001b[0m       \u001b[0mindeces_object_dictionary\u001b[0m\u001b[0;34m[\u001b[0m\u001b[0;34m'{0}'\u001b[0m\u001b[0;34m.\u001b[0m\u001b[0mformat\u001b[0m\u001b[0;34m(\u001b[0m\u001b[0mele\u001b[0m\u001b[0;34m)\u001b[0m\u001b[0;34m]\u001b[0m\u001b[0;34m.\u001b[0m\u001b[0mopen\u001b[0m \u001b[0;34m=\u001b[0m \u001b[0mopen_df_index\u001b[0m\u001b[0;34m.\u001b[0m\u001b[0mloc\u001b[0m\u001b[0;34m[\u001b[0m\u001b[0mstr\u001b[0m\u001b[0;34m(\u001b[0m\u001b[0mfinancials_df\u001b[0m\u001b[0;34m[\u001b[0m\u001b[0mstr\u001b[0m\u001b[0;34m(\u001b[0m\u001b[0mele\u001b[0m\u001b[0;34m)\u001b[0m\u001b[0;34m]\u001b[0m\u001b[0;34m.\u001b[0m\u001b[0mloc\u001b[0m\u001b[0;34m[\u001b[0m\u001b[0mticker\u001b[0m\u001b[0;34m]\u001b[0m\u001b[0;34m)\u001b[0m\u001b[0;34m]\u001b[0m\u001b[0;34m\u001b[0m\u001b[0;34m\u001b[0m\u001b[0m\n\u001b[1;32m     25\u001b[0m       \u001b[0mindeces_object_dictionary\u001b[0m\u001b[0;34m[\u001b[0m\u001b[0;34m'{0}'\u001b[0m\u001b[0;34m.\u001b[0m\u001b[0mformat\u001b[0m\u001b[0;34m(\u001b[0m\u001b[0mele\u001b[0m\u001b[0;34m)\u001b[0m\u001b[0;34m]\u001b[0m\u001b[0;34m.\u001b[0m\u001b[0mhigh\u001b[0m \u001b[0;34m=\u001b[0m \u001b[0mhigh_df_index\u001b[0m\u001b[0;34m.\u001b[0m\u001b[0mloc\u001b[0m\u001b[0;34m[\u001b[0m\u001b[0mstr\u001b[0m\u001b[0;34m(\u001b[0m\u001b[0mfinancials_df\u001b[0m\u001b[0;34m[\u001b[0m\u001b[0mstr\u001b[0m\u001b[0;34m(\u001b[0m\u001b[0mele\u001b[0m\u001b[0;34m)\u001b[0m\u001b[0;34m]\u001b[0m\u001b[0;34m.\u001b[0m\u001b[0mloc\u001b[0m\u001b[0;34m[\u001b[0m\u001b[0mticker\u001b[0m\u001b[0;34m]\u001b[0m\u001b[0;34m)\u001b[0m\u001b[0;34m]\u001b[0m\u001b[0;34m\u001b[0m\u001b[0;34m\u001b[0m\u001b[0m\n\u001b[0;32m---> 26\u001b[0;31m       \u001b[0mindeces_object_dictionary\u001b[0m\u001b[0;34m[\u001b[0m\u001b[0;34m'{0}'\u001b[0m\u001b[0;34m.\u001b[0m\u001b[0mformat\u001b[0m\u001b[0;34m(\u001b[0m\u001b[0mele\u001b[0m\u001b[0;34m)\u001b[0m\u001b[0;34m]\u001b[0m\u001b[0;34m.\u001b[0m\u001b[0mlow\u001b[0m \u001b[0;34m=\u001b[0m \u001b[0mlow_df_index\u001b[0m\u001b[0;34m.\u001b[0m\u001b[0mloc\u001b[0m\u001b[0;34m[\u001b[0m\u001b[0mstr\u001b[0m\u001b[0;34m(\u001b[0m\u001b[0mfinancials_df\u001b[0m\u001b[0;34m[\u001b[0m\u001b[0mstr\u001b[0m\u001b[0;34m(\u001b[0m\u001b[0mele\u001b[0m\u001b[0;34m)\u001b[0m\u001b[0;34m]\u001b[0m\u001b[0;34m.\u001b[0m\u001b[0mloc\u001b[0m\u001b[0;34m[\u001b[0m\u001b[0mticker\u001b[0m\u001b[0;34m]\u001b[0m\u001b[0;34m)\u001b[0m\u001b[0;34m]\u001b[0m\u001b[0;34m\u001b[0m\u001b[0;34m\u001b[0m\u001b[0m\n\u001b[0m\u001b[1;32m     27\u001b[0m       \u001b[0mindeces_object_dictionary\u001b[0m\u001b[0;34m[\u001b[0m\u001b[0;34m'{0}'\u001b[0m\u001b[0;34m.\u001b[0m\u001b[0mformat\u001b[0m\u001b[0;34m(\u001b[0m\u001b[0mele\u001b[0m\u001b[0;34m)\u001b[0m\u001b[0;34m]\u001b[0m\u001b[0;34m.\u001b[0m\u001b[0madjclose\u001b[0m \u001b[0;34m=\u001b[0m \u001b[0madjclose_df_index\u001b[0m\u001b[0;34m.\u001b[0m\u001b[0mloc\u001b[0m\u001b[0;34m[\u001b[0m\u001b[0mstr\u001b[0m\u001b[0;34m(\u001b[0m\u001b[0mfinancials_df\u001b[0m\u001b[0;34m[\u001b[0m\u001b[0mstr\u001b[0m\u001b[0;34m(\u001b[0m\u001b[0mele\u001b[0m\u001b[0;34m)\u001b[0m\u001b[0;34m]\u001b[0m\u001b[0;34m.\u001b[0m\u001b[0mloc\u001b[0m\u001b[0;34m[\u001b[0m\u001b[0mticker\u001b[0m\u001b[0;34m]\u001b[0m\u001b[0;34m)\u001b[0m\u001b[0;34m]\u001b[0m\u001b[0;34m\u001b[0m\u001b[0;34m\u001b[0m\u001b[0m\n",
            "\u001b[0;32m/usr/local/lib/python3.7/dist-packages/pandas/core/indexing.py\u001b[0m in \u001b[0;36m__getitem__\u001b[0;34m(self, key)\u001b[0m\n\u001b[1;32m    877\u001b[0m \u001b[0;34m\u001b[0m\u001b[0m\n\u001b[1;32m    878\u001b[0m             \u001b[0mmaybe_callable\u001b[0m \u001b[0;34m=\u001b[0m \u001b[0mcom\u001b[0m\u001b[0;34m.\u001b[0m\u001b[0mapply_if_callable\u001b[0m\u001b[0;34m(\u001b[0m\u001b[0mkey\u001b[0m\u001b[0;34m,\u001b[0m \u001b[0mself\u001b[0m\u001b[0;34m.\u001b[0m\u001b[0mobj\u001b[0m\u001b[0;34m)\u001b[0m\u001b[0;34m\u001b[0m\u001b[0;34m\u001b[0m\u001b[0m\n\u001b[0;32m--> 879\u001b[0;31m             \u001b[0;32mreturn\u001b[0m \u001b[0mself\u001b[0m\u001b[0;34m.\u001b[0m\u001b[0m_getitem_axis\u001b[0m\u001b[0;34m(\u001b[0m\u001b[0mmaybe_callable\u001b[0m\u001b[0;34m,\u001b[0m \u001b[0maxis\u001b[0m\u001b[0;34m=\u001b[0m\u001b[0maxis\u001b[0m\u001b[0;34m)\u001b[0m\u001b[0;34m\u001b[0m\u001b[0;34m\u001b[0m\u001b[0m\n\u001b[0m\u001b[1;32m    880\u001b[0m \u001b[0;34m\u001b[0m\u001b[0m\n\u001b[1;32m    881\u001b[0m     \u001b[0;32mdef\u001b[0m \u001b[0m_is_scalar_access\u001b[0m\u001b[0;34m(\u001b[0m\u001b[0mself\u001b[0m\u001b[0;34m,\u001b[0m \u001b[0mkey\u001b[0m\u001b[0;34m:\u001b[0m \u001b[0mTuple\u001b[0m\u001b[0;34m)\u001b[0m\u001b[0;34m:\u001b[0m\u001b[0;34m\u001b[0m\u001b[0;34m\u001b[0m\u001b[0m\n",
            "\u001b[0;32m/usr/local/lib/python3.7/dist-packages/pandas/core/indexing.py\u001b[0m in \u001b[0;36m_getitem_axis\u001b[0;34m(self, key, axis)\u001b[0m\n\u001b[1;32m   1081\u001b[0m             \u001b[0mkey\u001b[0m \u001b[0;34m=\u001b[0m \u001b[0mlist\u001b[0m\u001b[0;34m(\u001b[0m\u001b[0mkey\u001b[0m\u001b[0;34m)\u001b[0m\u001b[0;34m\u001b[0m\u001b[0;34m\u001b[0m\u001b[0m\n\u001b[1;32m   1082\u001b[0m \u001b[0;34m\u001b[0m\u001b[0m\n\u001b[0;32m-> 1083\u001b[0;31m         \u001b[0mlabels\u001b[0m \u001b[0;34m=\u001b[0m \u001b[0mself\u001b[0m\u001b[0;34m.\u001b[0m\u001b[0mobj\u001b[0m\u001b[0;34m.\u001b[0m\u001b[0m_get_axis\u001b[0m\u001b[0;34m(\u001b[0m\u001b[0maxis\u001b[0m\u001b[0;34m)\u001b[0m\u001b[0;34m\u001b[0m\u001b[0;34m\u001b[0m\u001b[0m\n\u001b[0m\u001b[1;32m   1084\u001b[0m         \u001b[0mkey\u001b[0m \u001b[0;34m=\u001b[0m \u001b[0mlabels\u001b[0m\u001b[0;34m.\u001b[0m\u001b[0m_get_partial_string_timestamp_match_key\u001b[0m\u001b[0;34m(\u001b[0m\u001b[0mkey\u001b[0m\u001b[0;34m)\u001b[0m\u001b[0;34m\u001b[0m\u001b[0;34m\u001b[0m\u001b[0m\n\u001b[1;32m   1085\u001b[0m \u001b[0;34m\u001b[0m\u001b[0m\n",
            "\u001b[0;32m/usr/local/lib/python3.7/dist-packages/pandas/core/generic.py\u001b[0m in \u001b[0;36m_get_axis\u001b[0;34m(self, axis)\u001b[0m\n\u001b[1;32m    378\u001b[0m         \u001b[0maxis_number\u001b[0m \u001b[0;34m=\u001b[0m \u001b[0mself\u001b[0m\u001b[0;34m.\u001b[0m\u001b[0m_get_axis_number\u001b[0m\u001b[0;34m(\u001b[0m\u001b[0maxis\u001b[0m\u001b[0;34m)\u001b[0m\u001b[0;34m\u001b[0m\u001b[0;34m\u001b[0m\u001b[0m\n\u001b[1;32m    379\u001b[0m         \u001b[0;32massert\u001b[0m \u001b[0maxis_number\u001b[0m \u001b[0;32min\u001b[0m \u001b[0;34m{\u001b[0m\u001b[0;36m0\u001b[0m\u001b[0;34m,\u001b[0m \u001b[0;36m1\u001b[0m\u001b[0;34m}\u001b[0m\u001b[0;34m\u001b[0m\u001b[0;34m\u001b[0m\u001b[0m\n\u001b[0;32m--> 380\u001b[0;31m         \u001b[0;32mreturn\u001b[0m \u001b[0mself\u001b[0m\u001b[0;34m.\u001b[0m\u001b[0mindex\u001b[0m \u001b[0;32mif\u001b[0m \u001b[0maxis_number\u001b[0m \u001b[0;34m==\u001b[0m \u001b[0;36m0\u001b[0m \u001b[0;32melse\u001b[0m \u001b[0mself\u001b[0m\u001b[0;34m.\u001b[0m\u001b[0mcolumns\u001b[0m\u001b[0;34m\u001b[0m\u001b[0;34m\u001b[0m\u001b[0m\n\u001b[0m\u001b[1;32m    381\u001b[0m \u001b[0;34m\u001b[0m\u001b[0m\n\u001b[1;32m    382\u001b[0m     \u001b[0;34m@\u001b[0m\u001b[0mclassmethod\u001b[0m\u001b[0;34m\u001b[0m\u001b[0;34m\u001b[0m\u001b[0m\n",
            "\u001b[0;31mKeyboardInterrupt\u001b[0m: "
          ]
        }
      ]
    },
    {
      "cell_type": "code",
      "metadata": {
        "colab": {
          "base_uri": "https://localhost:8080/"
        },
        "id": "lC2zd0pbZh-V",
        "outputId": "4f97fff9-c8a0-4825-a095-890c0b37c7c0"
      },
      "source": [
        "np.array([col] * len(list_of_history))"
      ],
      "id": "lC2zd0pbZh-V",
      "execution_count": 86,
      "outputs": [
        {
          "output_type": "execute_result",
          "data": {
            "text/plain": [
              "array(['222-22', '222-22', '222-22', '222-22', '222-22'], dtype='<U6')"
            ]
          },
          "metadata": {
            "tags": []
          },
          "execution_count": 86
        }
      ]
    },
    {
      "cell_type": "code",
      "metadata": {
        "id": "XD3FDMAOZIIV"
      },
      "source": [
        "# ORA DEVI METTERE TUTTI GLI ELEMENTI DEI DIZIONARI INSIEME\n",
        "ticker_df_index = indeces_object_dictionary['exchange_id'].open.index\n",
        "for num, col in enumerate(indeces_object_dictionary['exchange_id'].open.columns):\n",
        "  \n",
        "  header_list = [np.array([col] * len(list_of_history)), np.array(list_of_history)] \n",
        "  \n",
        "  if num == 0:\n",
        "    data_list = []\n",
        "    for ele in list_of_history:\n",
        "      data_list.append(indeces_object_dictionary['{0}'.format(ele)].open)\n",
        "    open_trial = pd.DataFrame(data=np.column_stack((data_list)), index=indeces_object_dictionary['price')].open.index, columns=header_list)\n",
        "   \n",
        "    data_list = []\n",
        "    for ele in list_of_history:\n",
        "      data_list.append(indeces_object_dictionary['{0}'.format(ele)].high)\n",
        "    high_trial = pd.DataFrame(data=np.column_stack((data_list)), index=indeces_object_dictionary['price')].high.index, columns=header_list)\n",
        "    \n",
        "    data_list = []\n",
        "    for ele in list_of_history:\n",
        "      data_list.append(indeces_object_dictionary['{0}'.format(ele)].low)\n",
        "    low_trial = pd.DataFrame(data=np.column_stack((data_list)), index=indeces_object_dictionary['price')].low.index, columns=header_list)\n",
        "\n",
        "    data_list = []\n",
        "    for ele in list_of_history:\n",
        "      data_list.append(indeces_object_dictionary['{0}'.format(ele)].open)\n",
        "    adjclose_trial = pd.DataFrame(data=np.column_stack((data_list)), index=indeces_object_dictionary['price')].adjclose.index, columns=header_list)    \n",
        "\n",
        "  else: \n",
        "    data_list = []\n",
        "    for ele in list_of_history:\n",
        "      data_list.append(indeces_object_dictionary['{0}'.format(ele)].open)\n",
        "    open_trial2 = pd.DataFrame(data=np.column_stack((data_list)), index=indeces_object_dictionary['price')].open.index, columns=header_list)\n",
        "    open_trial = open_trial.join(open_trial2, how='left')\n",
        "\n",
        "    data_list = []\n",
        "    for ele in list_of_history:\n",
        "      data_list.append(indeces_object_dictionary['{0}'.format(ele)].high)\n",
        "    high_trial2 = pd.DataFrame(data=np.column_stack((data_list)), index=indeces_object_dictionary['price')].high.index, columns=header_list)\n",
        "    high_trial = high_trial.join(high_trial2, how='left')\n",
        "\n",
        "\n",
        "    data_list = []\n",
        "    for ele in list_of_history:\n",
        "      data_list.append(indeces_object_dictionary['{0}'.format(ele)].low)\n",
        "    low_trial2 = pd.DataFrame(data=np.column_stack((data_list)), index=indeces_object_dictionary['price')].low.index, columns=header_list)\n",
        "    low_trial = low_trial.join(low_trial2, how='left')\n",
        "\n",
        "    data_list = []\n",
        "    for ele in list_of_history:\n",
        "      data_list.append(indeces_object_dictionary['{0}'.format(ele)].open)\n",
        "    adjclose_trial2 = pd.DataFrame(data=np.column_stack((data_list)), index=indeces_object_dictionary['price')].adjclose.index, columns=header_list)\n",
        "    adjclose_trial = adjclose_trial.join(adjclose_trial2, how='left')"
      ],
      "id": "XD3FDMAOZIIV",
      "execution_count": null,
      "outputs": []
    },
    {
      "cell_type": "code",
      "metadata": {
        "id": "yeX9MyeoBQpZ"
      },
      "source": [
        "# ORA DEVI METTERE TUTTI GLI ELEMENTI DEI DIZIONARI INSIEME\n",
        "ticker_df_index = open_df_prezzo.index\n",
        "for num, col in enumerate(open_df_prezzo.columns):\n",
        "  lista = [np.array([col, col]), np.array(['Price','ExchangeID'])] \n",
        "  if num == 0:\n",
        "    listaDiProva = [open_df_price[col].values, open_df_priceEmpty[col].values]\n",
        "    open_trial = pd.DataFrame(data=np.column_stack((listaDiProva)), index= open_df_price.index, columns=lista)\n",
        "    high_trial = pd.DataFrame(data=np.column_stack((high_df_price[col].values, high_df_priceEmpty[col].values)), index= high_df_price.index, columns=lista)\n",
        "    low_trial = pd.DataFrame(data=np.column_stack((low_df_price[col].values, low_df_priceEmpty[col].values)), index= low_df_price.index, columns=lista)\n",
        "    adjclose_trial = pd.DataFrame(data=np.column_stack((adjclose_df_price[col].values, adjclose_df_priceEmpty[col].values)), index= adjclose_df_price.index, columns=lista)\n",
        "  else: \n",
        "    listaDiProva = [open_df_price[col].values, open_df_priceEmpty[col].values]\n",
        "    open_trial2 = pd.DataFrame(data=np.column_stack((listaDiProva)), index= open_df_price.index, columns=lista)\n",
        "    open_trial = open_trial.join(open_trial2, how='left')\n",
        "    high_trial2 = pd.DataFrame(data=np.column_stack((high_df_price[col].values, high_df_priceEmpty[col].values)), index= high_df_price.index, columns=lista)\n",
        "    high_trial = high_trial.join(high_trial2, how='left')\n",
        "    low_trial2 = pd.DataFrame(data=np.column_stack((low_df_price[col].values, low_df_priceEmpty[col].values)), index= low_df_price.index, columns=lista)\n",
        "    low_trial = low_trial.join(low_trial2, how='left')\n",
        "    adjclose_trial2 = pd.DataFrame(data=np.column_stack((adjclose_df_price[col].values, adjclose_df_priceEmpty[col].values)), index= adjclose_df_price.index, columns=lista)\n",
        "    adjclose_trial = adjclose_trial.join(adjclose_trial2, how='left')"
      ],
      "id": "yeX9MyeoBQpZ",
      "execution_count": 33,
      "outputs": []
    },
    {
      "cell_type": "code",
      "metadata": {
        "id": "Yh3GOIuhXNhk"
      },
      "source": [
        "open_df_exchange_id_index = pd.read_csv('exchange_id open', index_col='date').transpose()\n",
        "high_df_exchange_id_index = pd.read_csv('exchange_id high', index_col='date').transpose()\n",
        "low_df_exchange_id_index = pd.read_csv('exchange_id low', index_col='date').transpose()\n",
        "adjclose_df_exchange_id_index = pd.read_csv('exchange_id adjclose', index_col='date').transpose()\n",
        "\n",
        "open_df_sector_index = pd.read_csv('sector open', index_col='date').transpose()\n",
        "high_df_sector_index = pd.read_csv('sector high', index_col='date').transpose()\n",
        "low_df_sector_index = pd.read_csv('sector low', index_col='date').transpose()\n",
        "adjclose_df_sector_index = pd.read_csv('sector adjclose', index_col='date').transpose()\n",
        "\n",
        "open_df_industry_index = pd.read_csv('industry open', index_col='date').transpose()\n",
        "high_df_industry_index = pd.read_csv('industry high', index_col='date').transpose()\n",
        "low_df_industry_index = pd.read_csv('industry low', index_col='date').transpose()\n",
        "adjclose_df_industry_index = pd.read_csv('industry adjclose', index_col='date').transpose()\n",
        "\n",
        "open_df_market_cap_index = pd.read_csv('market_cap open', index_col='date').transpose()\n",
        "high_df_market_cap_index = pd.read_csv('market_cap high', index_col='date').transpose()\n",
        "low_df_market_cap_index = pd.read_csv('market_cap low', index_col='date').transpose()\n",
        "adjclose_df_market_cap_index = pd.read_csv('market_cap adjclose', index_col='date').transpose()"
      ],
      "id": "Yh3GOIuhXNhk",
      "execution_count": 25,
      "outputs": []
    },
    {
      "cell_type": "code",
      "metadata": {
        "id": "cc2OJj9iae9Y"
      },
      "source": [
        "for ticker in financials_df.index:\n",
        "  open_df_priceEmpty.loc[ticker] = open_df_exchange_id_index.loc[str(financials_df['exchange_id'].loc[ticker])]\n",
        "  high_df_priceEmpty.loc[ticker] = high_df_exchange_id_index.loc[str(financials_df['exchange_id'].loc[ticker])]\n",
        "  low_df_priceEmpty.loc[ticker] = low_df_exchange_id_index.loc[str(financials_df['exchange_id'].loc[ticker])]\n",
        "  adjclose_df_priceEmpty.loc[ticker] = adjclose_df_exchange_id_index.loc[str(financials_df['exchange_id'].loc[ticker])]"
      ],
      "id": "cc2OJj9iae9Y",
      "execution_count": 27,
      "outputs": []
    },
    {
      "cell_type": "code",
      "metadata": {
        "colab": {
          "base_uri": "https://localhost:8080/"
        },
        "id": "rVtyKOtILHBB",
        "outputId": "aca54036-0785-4f07-de21-54661845600a"
      },
      "source": [
        ""
      ],
      "id": "rVtyKOtILHBB",
      "execution_count": 36,
      "outputs": [
        {
          "output_type": "execute_result",
          "data": {
            "text/plain": [
              "[array([ 30.86000061, 166.88999939,  18.60000038, ...,   5.38999987,\n",
              "         16.28000069,  10.        ]),\n",
              " array([0.02250869, 0.02250869, 0.02250869, ..., 0.02250869, 0.02250869,\n",
              "        0.02250869])]"
            ]
          },
          "metadata": {
            "tags": []
          },
          "execution_count": 36
        }
      ]
    },
    {
      "cell_type": "code",
      "metadata": {
        "id": "hum-8WhzBQm5"
      },
      "source": [
        "open_trial = open_trial.stack(list(range(open_trial.columns.nlevels)))\n",
        "high_trial = high_trial.stack(list(range(high_trial.columns.nlevels)))\n",
        "low_trial = low_trial.stack(list(range(low_trial.columns.nlevels)))\n",
        "adjclose_trial = adjclose_trial.stack(list(range(adjclose_trial.columns.nlevels)))"
      ],
      "id": "hum-8WhzBQm5",
      "execution_count": 30,
      "outputs": []
    },
    {
      "cell_type": "code",
      "metadata": {
        "id": "myy3QcezBQkr",
        "colab": {
          "base_uri": "https://localhost:8080/",
          "height": 436
        },
        "outputId": "b0eeca39-4f29-4af9-bb8f-aaf9e50d8b73"
      },
      "source": [
        "data = {'open': open_trial, \n",
        "        'high': high_trial,\n",
        "        'low': low_trial,\n",
        "        'adjclose': adjclose_trial}\n",
        "\n",
        "df_concat = pd.concat(data, axis=1)\n",
        "df_concat.dropna(axis = 0, how = 'any', inplace=True)\n",
        "df_concat"
      ],
      "id": "myy3QcezBQkr",
      "execution_count": 31,
      "outputs": [
        {
          "output_type": "execute_result",
          "data": {
            "text/html": [
              "<div>\n",
              "<style scoped>\n",
              "    .dataframe tbody tr th:only-of-type {\n",
              "        vertical-align: middle;\n",
              "    }\n",
              "\n",
              "    .dataframe tbody tr th {\n",
              "        vertical-align: top;\n",
              "    }\n",
              "\n",
              "    .dataframe thead th {\n",
              "        text-align: right;\n",
              "    }\n",
              "</style>\n",
              "<table border=\"1\" class=\"dataframe\">\n",
              "  <thead>\n",
              "    <tr style=\"text-align: right;\">\n",
              "      <th></th>\n",
              "      <th></th>\n",
              "      <th></th>\n",
              "      <th>open</th>\n",
              "      <th>high</th>\n",
              "      <th>low</th>\n",
              "      <th>adjclose</th>\n",
              "    </tr>\n",
              "    <tr>\n",
              "      <th>ticker</th>\n",
              "      <th></th>\n",
              "      <th></th>\n",
              "      <th></th>\n",
              "      <th></th>\n",
              "      <th></th>\n",
              "      <th></th>\n",
              "    </tr>\n",
              "  </thead>\n",
              "  <tbody>\n",
              "    <tr>\n",
              "      <th rowspan=\"5\" valign=\"top\">FLWS</th>\n",
              "      <th rowspan=\"2\" valign=\"top\">2019-07-29</th>\n",
              "      <th>ExchangeID</th>\n",
              "      <td>0.014007</td>\n",
              "      <td>0.014098</td>\n",
              "      <td>0.013777</td>\n",
              "      <td>0.013731</td>\n",
              "    </tr>\n",
              "    <tr>\n",
              "      <th>Price</th>\n",
              "      <td>19.440001</td>\n",
              "      <td>19.850000</td>\n",
              "      <td>19.340000</td>\n",
              "      <td>19.680000</td>\n",
              "    </tr>\n",
              "    <tr>\n",
              "      <th rowspan=\"2\" valign=\"top\">2019-07-30</th>\n",
              "      <th>ExchangeID</th>\n",
              "      <td>0.013843</td>\n",
              "      <td>0.014019</td>\n",
              "      <td>0.013731</td>\n",
              "      <td>0.013687</td>\n",
              "    </tr>\n",
              "    <tr>\n",
              "      <th>Price</th>\n",
              "      <td>19.600000</td>\n",
              "      <td>20.059999</td>\n",
              "      <td>19.540001</td>\n",
              "      <td>20.030001</td>\n",
              "    </tr>\n",
              "    <tr>\n",
              "      <th>2019-07-31</th>\n",
              "      <th>ExchangeID</th>\n",
              "      <td>0.013923</td>\n",
              "      <td>0.014062</td>\n",
              "      <td>0.013581</td>\n",
              "      <td>0.013527</td>\n",
              "    </tr>\n",
              "    <tr>\n",
              "      <th>...</th>\n",
              "      <th>...</th>\n",
              "      <th>...</th>\n",
              "      <td>...</td>\n",
              "      <td>...</td>\n",
              "      <td>...</td>\n",
              "      <td>...</td>\n",
              "    </tr>\n",
              "    <tr>\n",
              "      <th rowspan=\"5\" valign=\"top\">ZNGA</th>\n",
              "      <th>2021-03-16</th>\n",
              "      <th>Price</th>\n",
              "      <td>10.060000</td>\n",
              "      <td>10.470000</td>\n",
              "      <td>10.050000</td>\n",
              "      <td>10.310000</td>\n",
              "    </tr>\n",
              "    <tr>\n",
              "      <th rowspan=\"2\" valign=\"top\">2021-03-17</th>\n",
              "      <th>ExchangeID</th>\n",
              "      <td>0.022528</td>\n",
              "      <td>0.023032</td>\n",
              "      <td>0.022231</td>\n",
              "      <td>0.022826</td>\n",
              "    </tr>\n",
              "    <tr>\n",
              "      <th>Price</th>\n",
              "      <td>10.160000</td>\n",
              "      <td>10.170000</td>\n",
              "      <td>9.800000</td>\n",
              "      <td>10.130000</td>\n",
              "    </tr>\n",
              "    <tr>\n",
              "      <th rowspan=\"2\" valign=\"top\">2021-03-18</th>\n",
              "      <th>ExchangeID</th>\n",
              "      <td>0.022509</td>\n",
              "      <td>0.022749</td>\n",
              "      <td>0.022046</td>\n",
              "      <td>0.022139</td>\n",
              "    </tr>\n",
              "    <tr>\n",
              "      <th>Price</th>\n",
              "      <td>10.000000</td>\n",
              "      <td>10.050000</td>\n",
              "      <td>9.830000</td>\n",
              "      <td>9.890000</td>\n",
              "    </tr>\n",
              "  </tbody>\n",
              "</table>\n",
              "<p>3528936 rows × 4 columns</p>\n",
              "</div>"
            ],
            "text/plain": [
              "                                   open       high        low   adjclose\n",
              "ticker                                                                  \n",
              "FLWS   2019-07-29 ExchangeID   0.014007   0.014098   0.013777   0.013731\n",
              "                  Price       19.440001  19.850000  19.340000  19.680000\n",
              "       2019-07-30 ExchangeID   0.013843   0.014019   0.013731   0.013687\n",
              "                  Price       19.600000  20.059999  19.540001  20.030001\n",
              "       2019-07-31 ExchangeID   0.013923   0.014062   0.013581   0.013527\n",
              "...                                 ...        ...        ...        ...\n",
              "ZNGA   2021-03-16 Price       10.060000  10.470000  10.050000  10.310000\n",
              "       2021-03-17 ExchangeID   0.022528   0.023032   0.022231   0.022826\n",
              "                  Price       10.160000  10.170000   9.800000  10.130000\n",
              "       2021-03-18 ExchangeID   0.022509   0.022749   0.022046   0.022139\n",
              "                  Price       10.000000  10.050000   9.830000   9.890000\n",
              "\n",
              "[3528936 rows x 4 columns]"
            ]
          },
          "metadata": {
            "tags": []
          },
          "execution_count": 31
        }
      ]
    },
    {
      "cell_type": "code",
      "metadata": {
        "id": "L-GQDlVGBQh9"
      },
      "source": [
        ""
      ],
      "id": "L-GQDlVGBQh9",
      "execution_count": null,
      "outputs": []
    },
    {
      "cell_type": "code",
      "metadata": {
        "id": "Yw1karJ5BQfC"
      },
      "source": [
        ""
      ],
      "id": "Yw1karJ5BQfC",
      "execution_count": null,
      "outputs": []
    },
    {
      "cell_type": "code",
      "metadata": {
        "id": "42V-m09JBQVr"
      },
      "source": [
        ""
      ],
      "id": "42V-m09JBQVr",
      "execution_count": null,
      "outputs": []
    },
    {
      "cell_type": "code",
      "metadata": {
        "id": "Zf-EqiIZWbH4"
      },
      "source": [
        "%%time\n",
        "for ticker in ticker_list:\n",
        "    \n",
        "    try:\n",
        "        stock_object_dictionary['{0}'.format(ticker)].history = \n",
        "        \n",
        "        # features dataframe, without classification column\n",
        "        features_df = df_concat.loc[ticker]\n",
        "        features_df.drop('label', axis=1, inplace=True)\n",
        "        \n",
        "        # classification array\n",
        "        classification_array = df_concat.loc[ticker]['label'].values\n",
        "\n",
        "        # sacaling data\n",
        "        df_sc_scaled = StandardScaler().fit_transform(features_df)\n",
        "\n",
        "        shuffle_value = True # shuffle, because of this we cannot stratify our label\n",
        "        stratify_value = classification_array # stratify fashion \n",
        "        train_size = 0.80\n",
        "        random_state = None\n",
        "\n",
        "        stock_object_dictionary['{0}'.format(ticker)].confusion_matrix2, stock_object_dictionary['{0}'.format(ticker)].accuracy_report2, stock_object_dictionary['{0}'.format(ticker)].logistic_regression2 = logistic_reg(df_sc_scaled, classification_array, train_size, shuffle_value, stratify_value, random_state) \n",
        "    \n",
        "    except:\n",
        "        pass"
      ],
      "id": "Zf-EqiIZWbH4",
      "execution_count": null,
      "outputs": []
    },
    {
      "cell_type": "code",
      "metadata": {
        "id": "zGB2LRviWbE9"
      },
      "source": [
        ""
      ],
      "id": "zGB2LRviWbE9",
      "execution_count": null,
      "outputs": []
    },
    {
      "cell_type": "code",
      "metadata": {
        "id": "1js7WpzIWbCf"
      },
      "source": [
        ""
      ],
      "id": "1js7WpzIWbCf",
      "execution_count": null,
      "outputs": []
    },
    {
      "cell_type": "code",
      "metadata": {
        "id": "d9MdnHSPWggf"
      },
      "source": [
        ""
      ],
      "id": "d9MdnHSPWggf",
      "execution_count": null,
      "outputs": []
    },
    {
      "cell_type": "code",
      "metadata": {
        "id": "FAQ-VP8aWa_l"
      },
      "source": [
        ""
      ],
      "id": "FAQ-VP8aWa_l",
      "execution_count": null,
      "outputs": []
    },
    {
      "cell_type": "code",
      "metadata": {
        "id": "nhDx21rBWa9K"
      },
      "source": [
        ""
      ],
      "id": "nhDx21rBWa9K",
      "execution_count": null,
      "outputs": []
    },
    {
      "cell_type": "code",
      "metadata": {
        "id": "s0gZP0iNWaw0"
      },
      "source": [
        ""
      ],
      "id": "s0gZP0iNWaw0",
      "execution_count": null,
      "outputs": []
    },
    {
      "cell_type": "markdown",
      "metadata": {
        "id": "honey-mechanism"
      },
      "source": [
        "### &nbsp;&nbsp;&nbsp; * SKLearn preprocessing import to scale data"
      ],
      "id": "honey-mechanism"
    },
    {
      "cell_type": "code",
      "metadata": {
        "id": "diverse-native"
      },
      "source": [
        "from sklearn import preprocessing"
      ],
      "id": "diverse-native",
      "execution_count": null,
      "outputs": []
    },
    {
      "cell_type": "markdown",
      "metadata": {
        "id": "international-origin"
      },
      "source": [
        "### &nbsp;&nbsp;&nbsp; %FEATURE% Preprocessing of input data"
      ],
      "id": "international-origin"
    },
    {
      "cell_type": "code",
      "metadata": {
        "id": "victorian-episode"
      },
      "source": [
        "# relative variation from open to adjusted close price\n",
        "adjclose_rel_var_df = (adjclose_df-open_df)/open_df"
      ],
      "id": "victorian-episode",
      "execution_count": null,
      "outputs": []
    },
    {
      "cell_type": "markdown",
      "metadata": {
        "id": "lyric-quantum"
      },
      "source": [
        "### &nbsp;&nbsp;&nbsp; %FEATURE% Absolute variation between high and low price"
      ],
      "id": "lyric-quantum"
    },
    {
      "cell_type": "code",
      "metadata": {
        "id": "public-hospital"
      },
      "source": [
        "# absolute variation between high and low price\n",
        "high_low_var_df = (high_df-low_df)\n",
        "\n",
        "# to scale the absolute variation between min&max value\n",
        "high_low_var_scaler = preprocessing.MinMaxScaler(feature_range=(0, 1))\n",
        "high_low_var_scaled = high_low_var_scaler.fit_transform(high_low_var_df)\n",
        "high_low_var_scaled_df = pd.DataFrame(data=high_low_var_scaled, index=high_low_var_df.index, columns=high_low_var_df.columns)"
      ],
      "id": "public-hospital",
      "execution_count": null,
      "outputs": []
    },
    {
      "cell_type": "markdown",
      "metadata": {
        "id": "cheap-browser"
      },
      "source": [
        "### &nbsp;&nbsp;&nbsp; %FEATURE% High low absolute variation over adjusted close price"
      ],
      "id": "cheap-browser"
    },
    {
      "cell_type": "code",
      "metadata": {
        "id": "bearing-ranking"
      },
      "source": [
        "# high low absolute variation over adjusted close price\n",
        "high_low_var_df_adjclose = high_low_var_df/adjclose_df"
      ],
      "id": "bearing-ranking",
      "execution_count": null,
      "outputs": []
    },
    {
      "cell_type": "markdown",
      "metadata": {
        "id": "shared-foundation"
      },
      "source": [
        "### &nbsp;&nbsp;&nbsp; %FEATURE% Log Return (adjusted close price log return)"
      ],
      "id": "shared-foundation"
    },
    {
      "cell_type": "code",
      "metadata": {
        "id": "standing-librarian"
      },
      "source": [
        "adjclose_df_log_return = np.log(adjclose_df/adjclose_df.shift(1))"
      ],
      "id": "standing-librarian",
      "execution_count": null,
      "outputs": []
    },
    {
      "cell_type": "markdown",
      "metadata": {
        "id": "surprised-calculator"
      },
      "source": [
        "### &nbsp;&nbsp;&nbsp; * Construction of stack dataset with all features and label to classify"
      ],
      "id": "surprised-calculator"
    },
    {
      "cell_type": "code",
      "metadata": {
        "id": "swedish-technology"
      },
      "source": [
        "adjclose_rel_var_df_t = adjclose_rel_var_df.transpose()\n",
        "adjclose_rel_var_df_stack = adjclose_rel_var_df_t.stack(dropna=False)\n",
        "\n",
        "high_low_var_scaled_df_t = high_low_var_scaled_df.transpose()\n",
        "high_low_var_scaled_df_stack = high_low_var_scaled_df_t.stack(dropna=False)\n",
        "\n",
        "high_low_var_df_adjclose_t = high_low_var_df_adjclose.transpose()\n",
        "high_low_var_df_adjclose_stack = high_low_var_df_adjclose_t.stack(dropna=False)\n",
        "\n",
        "adjclose_df_t = adjclose_df.transpose()\n",
        "adjclose_df_stack = adjclose_df_t.stack(dropna=False)\n",
        "\n",
        "volume_df_t = volume_df.transpose()\n",
        "volume_df_stack = volume_df_t.stack(dropna=False)\n",
        "\n",
        "# classification variable \n",
        "classification_df = (adjclose_df_log_return > 0) * 1\n",
        "classification_df_t = classification_df.transpose()\n",
        "classification_df_t.shift(axis = 1, periods = -1) # sign the day before a rally up with 1 and vice versa with 0 \n",
        "classification_df_stack = classification_df_t.shift(axis = 1, periods = -1).stack(dropna=False)\n",
        "\n",
        "data = {'adjclose_rel_var': adjclose_rel_var_df_stack, \n",
        "        'high_low_var_scaled': high_low_var_scaled_df_stack,\n",
        "        'high_low_var_adjclose': high_low_var_df_adjclose_stack,\n",
        "        'adjclose': adjclose_df_stack,\n",
        "        'volume': volume_df_stack,\n",
        "        'label': classification_df_stack}  \n",
        "\n",
        "df_concat = pd.concat(data, axis=1)\n",
        "df_concat.dropna(axis = 0, how = 'any', inplace=True)\n",
        "df_concat"
      ],
      "id": "swedish-technology",
      "execution_count": null,
      "outputs": []
    },
    {
      "cell_type": "markdown",
      "metadata": {
        "id": "adult-assessment"
      },
      "source": [
        "### &nbsp;&nbsp;&nbsp; * Check the correct number of row in the previous dataframe"
      ],
      "id": "adult-assessment"
    },
    {
      "cell_type": "code",
      "metadata": {
        "id": "fancy-journalism"
      },
      "source": [
        "# check the correct number of row in the previous dataframe\n",
        "len(open_df.columns) * len(open_df.index) - len(open_df.columns)"
      ],
      "id": "fancy-journalism",
      "execution_count": null,
      "outputs": []
    },
    {
      "cell_type": "markdown",
      "metadata": {
        "id": "retired-bacon"
      },
      "source": [
        "### &nbsp;&nbsp;&nbsp; * Construction of stack dataset with other features and label to classify"
      ],
      "id": "retired-bacon"
    },
    {
      "cell_type": "code",
      "metadata": {
        "id": "impressed-documentation"
      },
      "source": [
        "open_df_t = open_df.loc[adjclose_df_log_return.index[0]:adjclose_df_log_return.index[-1]].transpose()\n",
        "open_df_stack = open_df_t.stack()\n",
        "\n",
        "high_df_t = high_df.loc[adjclose_df_log_return.index[0]:adjclose_df_log_return.index[-1]].transpose()\n",
        "high_df_stack = high_df_t.stack()\n",
        "\n",
        "low_df_t = low_df.loc[adjclose_df_log_return.index[0]:adjclose_df_log_return.index[-1]].transpose()\n",
        "low_df_stack = low_df_t.stack()\n",
        "\n",
        "volume_df_t = volume_df.loc[adjclose_df_log_return.index[0]:adjclose_df_log_return.index[-1]].transpose()\n",
        "volume_df_stack = volume_df_t.stack()\n",
        "\n",
        "data = {'open': open_df_stack, \n",
        "        'high': high_df_stack,\n",
        "        'low': low_df_stack,\n",
        "        'adjclose': adjclose_df_stack,\n",
        "        'volume': volume_df_stack,\n",
        "        'label': classification_df_stack} # taken from before computation\n",
        "\n",
        "df_concat2 = pd.concat(data, axis = 1)\n",
        "df_concat2.dropna(axis = 0, how = 'any', inplace = True)\n",
        "df_concat2"
      ],
      "id": "impressed-documentation",
      "execution_count": null,
      "outputs": []
    },
    {
      "cell_type": "markdown",
      "metadata": {
        "id": "yellow-shadow"
      },
      "source": [
        "##### Remember: .std() is sample deviation, whereas the standardization thru StandardScaler use the standard deviation (the difference is the denominator, in the sample std it is used N-1). Moreover, to compute the standard deviation, you can do it in this way: .std(ddof=0)"
      ],
      "id": "yellow-shadow"
    },
    {
      "cell_type": "markdown",
      "metadata": {
        "id": "pf1BD9AuV6_i"
      },
      "source": [
        "# 2.b Second part: computation and assessing "
      ],
      "id": "pf1BD9AuV6_i"
    },
    {
      "cell_type": "markdown",
      "metadata": {
        "id": "short-bowling"
      },
      "source": [
        "# 3. Third part: Deep Learning"
      ],
      "id": "short-bowling"
    },
    {
      "cell_type": "code",
      "metadata": {
        "id": "virgin-insured"
      },
      "source": [
        "import tensorflow as tf \n",
        "from sklearn.preprocessing import StandardScaler\n",
        "from sklearn.model_selection import train_test_split"
      ],
      "id": "virgin-insured",
      "execution_count": null,
      "outputs": []
    },
    {
      "cell_type": "code",
      "metadata": {
        "id": "lightweight-soldier"
      },
      "source": [
        "print(tf.__version__)"
      ],
      "id": "lightweight-soldier",
      "execution_count": null,
      "outputs": []
    },
    {
      "cell_type": "markdown",
      "metadata": {
        "id": "differential-thanksgiving"
      },
      "source": [
        "### &nbsp;&nbsp;&nbsp; %FUNCTION% Function for calling back DL training"
      ],
      "id": "differential-thanksgiving"
    },
    {
      "cell_type": "code",
      "metadata": {
        "id": "concerned-greece"
      },
      "source": [
        "accuracy_limit=.7\n",
        "class myCallback(tf.keras.callbacks.Callback):\n",
        "    def on_epoch_end(self, epoch, logs={}):\n",
        "        if (logs.get('accuracy')>accuracy_limit):\n",
        "            print('--- accuracy higher than ', accuracy_limit)\n",
        "            self.model.stop_training=True"
      ],
      "id": "concerned-greece",
      "execution_count": null,
      "outputs": []
    },
    {
      "cell_type": "code",
      "metadata": {
        "id": "quality-prescription"
      },
      "source": [
        "ticker = 'AAPL'\n",
        "\n",
        "# features dataframe, without classification column\n",
        "features_df = df_concat.loc[ticker]\n",
        "features_df.drop('label', axis=1, inplace=True)\n",
        "\n",
        "# classification array\n",
        "classification_array = df_concat.loc[ticker]['label'].values\n",
        "\n",
        "# sacaling data\n",
        "df_sc_scaled = StandardScaler().fit_transform(features_df)\n",
        "\n",
        "shuffle_value = False # no shuffle, because of this we cannot stratify our label\n",
        "stratify_value = None\n",
        "train_size = 0.80\n",
        "random_state = None\n",
        "\n",
        "# define train set and test set \n",
        "x_train, x_test, y_train, y_test = train_test_split(features_df, classification_array, train_size = train_size, shuffle = shuffle_value, stratify = stratify_value, random_state = random_state)"
      ],
      "id": "quality-prescription",
      "execution_count": null,
      "outputs": []
    },
    {
      "cell_type": "code",
      "metadata": {
        "id": "electric-memphis"
      },
      "source": [
        "callbacks=myCallback()"
      ],
      "id": "electric-memphis",
      "execution_count": null,
      "outputs": []
    },
    {
      "cell_type": "code",
      "metadata": {
        "id": "nervous-catalyst"
      },
      "source": [
        "model=tf.keras.models.Sequential([tf.keras.layers.Flatten(),\n",
        "                                   tf.keras.layers.Dense(units=500, activation=tf.nn.relu),\n",
        "                                   tf.keras.layers.Dense(units=2, activation=tf.nn.softmax)])"
      ],
      "id": "nervous-catalyst",
      "execution_count": null,
      "outputs": []
    },
    {
      "cell_type": "code",
      "metadata": {
        "id": "assisted-russell"
      },
      "source": [
        "model.compile(optimizer='adam', loss='sparse_categorical_crossentropy', metrics=['accuracy'])"
      ],
      "id": "assisted-russell",
      "execution_count": null,
      "outputs": []
    },
    {
      "cell_type": "code",
      "metadata": {
        "id": "parallel-extraction"
      },
      "source": [
        "model.fit(x_train, y_train, epochs=100, callbacks=[callbacks])"
      ],
      "id": "parallel-extraction",
      "execution_count": null,
      "outputs": []
    },
    {
      "cell_type": "code",
      "metadata": {
        "id": "jewish-attempt"
      },
      "source": [
        "stock_object_dictionary['{0}'.format(ticker)].confusion_matrix, stock_object_dictionary['{0}'.format(ticker)].accuracy_report = logistic_reg(df_sc_scaled, classification_array, train_size, shuffle_value, stratify_value, random_stat) "
      ],
      "id": "jewish-attempt",
      "execution_count": null,
      "outputs": []
    },
    {
      "cell_type": "markdown",
      "metadata": {
        "id": "GOgxwoSoW1Mg"
      },
      "source": [
        ""
      ],
      "id": "GOgxwoSoW1Mg"
    },
    {
      "cell_type": "code",
      "metadata": {
        "id": "educated-rehabilitation"
      },
      "source": [
        ""
      ],
      "id": "educated-rehabilitation",
      "execution_count": null,
      "outputs": []
    },
    {
      "cell_type": "code",
      "metadata": {
        "id": "supposed-february"
      },
      "source": [
        ""
      ],
      "id": "supposed-february",
      "execution_count": null,
      "outputs": []
    },
    {
      "cell_type": "code",
      "metadata": {
        "id": "square-physics"
      },
      "source": [
        ""
      ],
      "id": "square-physics",
      "execution_count": null,
      "outputs": []
    },
    {
      "cell_type": "code",
      "metadata": {
        "id": "proud-destruction"
      },
      "source": [
        ""
      ],
      "id": "proud-destruction",
      "execution_count": null,
      "outputs": []
    },
    {
      "cell_type": "markdown",
      "metadata": {
        "id": "burning-settle"
      },
      "source": [
        "### a. Trial 1: No Shuffle (i.e. No Stratify) - 80/20 - scaled features"
      ],
      "id": "burning-settle"
    }
  ]
}